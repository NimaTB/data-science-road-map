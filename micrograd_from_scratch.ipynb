{
  "nbformat": 4,
  "nbformat_minor": 0,
  "metadata": {
    "colab": {
      "provenance": [],
      "authorship_tag": "ABX9TyM4oa3cuJoRdygU3E0P9ogw",
      "include_colab_link": true
    },
    "kernelspec": {
      "name": "python3",
      "display_name": "Python 3"
    },
    "language_info": {
      "name": "python"
    }
  },
  "cells": [
    {
      "cell_type": "markdown",
      "metadata": {
        "id": "view-in-github",
        "colab_type": "text"
      },
      "source": [
        "<a href=\"https://colab.research.google.com/github/NimaTB/data-science-road-map/blob/MySql_practice/micrograd_from_scratch.ipynb\" target=\"_parent\"><img src=\"https://colab.research.google.com/assets/colab-badge.svg\" alt=\"Open In Colab\"/></a>"
      ]
    },
    {
      "cell_type": "markdown",
      "source": [
        "This code is my practice to learn the basics of how chatGBT works. The code is from [micrograd github repo](https://github.com/karpathy/micrograd) developed by [Andrej Karpathy](https://karpathy.ai/) with some additional notes and useful links that furhter help ML and Data Science enthusiast who are eager to learn. Check this youtube video [The spelled-out intro to neural networks and backpropagation: building micrograd](https://www.youtube.com/watch?v=VMj-3S1tku0&list=PLAqhIrjkxbuWI23v9cThsA9GvCAUhRvKZ&index=1). "
      ],
      "metadata": {
        "id": "0-sYDk7Lkf3C"
      }
    },
    {
      "cell_type": "code",
      "execution_count": 1,
      "metadata": {
        "id": "8u2SAtPskWK0"
      },
      "outputs": [],
      "source": [
        "import math\n",
        "import numpy as np\n",
        "import matplotlib.pyplot as plt\n",
        "%matplotlib inline"
      ]
    },
    {
      "cell_type": "code",
      "source": [
        "def f(x):\n",
        "  return 3*x**2 - 4*x +5"
      ],
      "metadata": {
        "id": "9theZzN6lXaj"
      },
      "execution_count": 2,
      "outputs": []
    },
    {
      "cell_type": "code",
      "source": [
        "f(3.0)"
      ],
      "metadata": {
        "colab": {
          "base_uri": "https://localhost:8080/"
        },
        "id": "pGsRQlJPljgs",
        "outputId": "29f8a1dd-549c-411f-9331-5a38122b79a9"
      },
      "execution_count": 3,
      "outputs": [
        {
          "output_type": "execute_result",
          "data": {
            "text/plain": [
              "20.0"
            ]
          },
          "metadata": {},
          "execution_count": 3
        }
      ]
    },
    {
      "cell_type": "code",
      "source": [
        "xs = np.arange(-5, 5, 0.25)\n",
        "ys = f(xs)\n",
        "plt.plot(xs,ys)"
      ],
      "metadata": {
        "colab": {
          "base_uri": "https://localhost:8080/",
          "height": 282
        },
        "id": "6vUxD_Ialpa4",
        "outputId": "4dcb547c-f875-42c4-d492-1428a5f86d2f"
      },
      "execution_count": 7,
      "outputs": [
        {
          "output_type": "execute_result",
          "data": {
            "text/plain": [
              "[<matplotlib.lines.Line2D at 0x7f3635860cd0>]"
            ]
          },
          "metadata": {},
          "execution_count": 7
        },
        {
          "output_type": "display_data",
          "data": {
            "text/plain": [
              "<Figure size 432x288 with 1 Axes>"
            ],
            "image/png": "[encoded data removed]"
          },
          "metadata": {
            "needs_background": "light"
          }
        }
      ]
    },
    {
      "cell_type": "code",
      "source": [
        "h = 0.00001\n",
        "x = 3.0\n",
        "( f(x+h) - f(x) ) / h "
      ],
      "metadata": {
        "colab": {
          "base_uri": "https://localhost:8080/"
        },
        "id": "-qg3DhcDmW7I",
        "outputId": "62d672b2-cc4f-4435-c479-d645ddb4caac"
      },
      "execution_count": 11,
      "outputs": [
        {
          "output_type": "execute_result",
          "data": {
            "text/plain": [
              "14.00003000000538"
            ]
          },
          "metadata": {},
          "execution_count": 11
        }
      ]
    },
    {
      "cell_type": "code",
      "source": [
        "h = 0.00001\n",
        "x = -3.0\n",
        "( f(x+h) - f(x) ) / h "
      ],
      "metadata": {
        "colab": {
          "base_uri": "https://localhost:8080/"
        },
        "id": "ksYqAVmunQ1g",
        "outputId": "a5d18e48-59ed-4cfd-9128-0969941462f8"
      },
      "execution_count": 12,
      "outputs": [
        {
          "output_type": "execute_result",
          "data": {
            "text/plain": [
              "-21.999970000052823"
            ]
          },
          "metadata": {},
          "execution_count": 12
        }
      ]
    },
    {
      "cell_type": "code",
      "source": [
        "h = 0.00001\n",
        "x = 2/3\n",
        "( f(x+h) - f(x) ) / h "
      ],
      "metadata": {
        "colab": {
          "base_uri": "https://localhost:8080/"
        },
        "id": "bcB4HdbKnaGc",
        "outputId": "33ab667d-9f6b-4301-8a83-52bc143126b8"
      },
      "execution_count": 15,
      "outputs": [
        {
          "output_type": "execute_result",
          "data": {
            "text/plain": [
              "3.0000002482211127e-05"
            ]
          },
          "metadata": {},
          "execution_count": 15
        }
      ]
    },
    {
      "cell_type": "code",
      "source": [
        "# More complex\n",
        "a = 2.0\n",
        "b = -3.0\n",
        "c = 10.0\n",
        "d = a*b + c\n",
        "print(d)"
      ],
      "metadata": {
        "colab": {
          "base_uri": "https://localhost:8080/"
        },
        "id": "i0LuMTlTnsH0",
        "outputId": "8aa36f70-6965-4b6d-d616-f2a6a5cfafc9"
      },
      "execution_count": 16,
      "outputs": [
        {
          "output_type": "stream",
          "name": "stdout",
          "text": [
            "4.0\n"
          ]
        }
      ]
    },
    {
      "cell_type": "code",
      "source": [
        "h = 0.00001\n",
        "\n",
        "# Inputs\n",
        "a = 2.0\n",
        "b = -3.0\n",
        "c = 10.0\n",
        "\n",
        "d1 = a*b + c\n",
        "a += h\n",
        "# b += h\n",
        "# c += h\n",
        "d2 = a*b + c\n",
        "\n",
        "print('d1', d1)\n",
        "print('d2', d2)\n",
        "print('slope', ((d2 - d1)/h))"
      ],
      "metadata": {
        "colab": {
          "base_uri": "https://localhost:8080/"
        },
        "id": "xw0PJkJJn9N4",
        "outputId": "05e30c5e-0aa6-45c0-fb34-d1a20f3244da"
      },
      "execution_count": 21,
      "outputs": [
        {
          "output_type": "stream",
          "name": "stdout",
          "text": [
            "d1 4.0\n",
            "d2 4.00001\n",
            "slope 0.9999999999621422\n"
          ]
        }
      ]
    },
    {
      "cell_type": "markdown",
      "source": [
        "Skleton of building a value object"
      ],
      "metadata": {
        "id": "c5DxDFVNpl0D"
      }
    },
    {
      "cell_type": "markdown",
      "source": [
        "More details on [`__repr__`](https://www.programiz.com/python-programming/methods/built-in/repr)"
      ],
      "metadata": {
        "id": "eQE9EzeysE-F"
      }
    },
    {
      "cell_type": "code",
      "source": [
        "class Value_v1:\n",
        "  \n",
        "  def __init__(self, data):\n",
        "    self.data = data\n",
        "\n",
        "  def __repr__(self): \n",
        "    return f\"Value_v1(data={self.data})\"\n",
        "\n",
        "  def __add__(self, other):\n",
        "    out = Value_v1(self.data + other.data)\n",
        "    return out\n",
        "\n",
        "  def __mul__(self, other):\n",
        "    out = Value_v1(self.data * other.data)\n",
        "    return out\n",
        "    "
      ],
      "metadata": {
        "id": "HmlzygO2oDm2"
      },
      "execution_count": 44,
      "outputs": []
    },
    {
      "cell_type": "code",
      "source": [
        "a = Value_v1(2.0)\n",
        "b = Value_v1(-3.0)\n",
        "c = Value_v1(10.0)\n",
        "print('a + b: What happens internally is a.__add__(b) =  ', str(a + b)) \n",
        "print('a * b: What happens internally is a.__mul__(b) =  ', str(a * b)) "
      ],
      "metadata": {
        "colab": {
          "base_uri": "https://localhost:8080/"
        },
        "id": "bUEFPrYpqOh2",
        "outputId": "a6136196-74db-4235-9a46-80e23f09821d"
      },
      "execution_count": 45,
      "outputs": [
        {
          "output_type": "stream",
          "name": "stdout",
          "text": [
            "a + b: What happens internally is a.__add__(b) =   Value_v1(data=-1.0)\n",
            "a * b: What happens internally is a.__mul__(b) =   Value_v1(data=-6.0)\n"
          ]
        }
      ]
    },
    {
      "cell_type": "code",
      "source": [
        "d = a * b + c"
      ],
      "metadata": {
        "id": "q7HQBIOUsSn3"
      },
      "execution_count": 35,
      "outputs": []
    },
    {
      "cell_type": "code",
      "source": [
        "class Value_v2:\n",
        "  \n",
        "  def __init__(self, data, _children=()):\n",
        "    self.data = data\n",
        "    self._prev = set(_children)\n",
        "\n",
        "  def __repr__(self): \n",
        "    return f\"Value_v2(data={self.data})\"\n",
        "\n",
        "  def __add__(self, other):\n",
        "    out = Value_v2(self.data + other.data, (self, other))\n",
        "    return out\n",
        "\n",
        "  def __mul__(self, other):\n",
        "    out = Value_v2(self.data * other.data, (self, other))\n",
        "    return out"
      ],
      "metadata": {
        "id": "VtxDNnNBsf-b"
      },
      "execution_count": 47,
      "outputs": []
    },
    {
      "cell_type": "code",
      "source": [
        "a = Value_v2(2.0)\n",
        "b = Value_v2(-3.0)\n",
        "c = Value_v2(10.0)\n",
        "\n",
        "d = a * b + c\n",
        "d._prev"
      ],
      "metadata": {
        "colab": {
          "base_uri": "https://localhost:8080/"
        },
        "id": "VofCXVb-tE0_",
        "outputId": "7a1a5399-80fd-49bd-bac8-f1407b0e6f0f"
      },
      "execution_count": 48,
      "outputs": [
        {
          "output_type": "execute_result",
          "data": {
            "text/plain": [
              "{Value_v2(data=-6.0), Value_v2(data=10.0)}"
            ]
          },
          "metadata": {},
          "execution_count": 48
        }
      ]
    },
    {
      "cell_type": "code",
      "source": [
        "class Value_v3:\n",
        "  \n",
        "  def __init__(self, data, _children=(), _op = ''):\n",
        "    self.data = data\n",
        "    self._prev = set(_children)\n",
        "    self._op = _op\n",
        "\n",
        "  def __repr__(self): \n",
        "    return f\"Value_v3(data={self.data})\"\n",
        "\n",
        "  def __add__(self, other):\n",
        "    out = Value_v3(self.data + other.data, (self, other), '+')\n",
        "    return out\n",
        "\n",
        "  def __mul__(self, other):\n",
        "    out = Value_v3(self.data * other.data, (self, other), '*')\n",
        "    return out"
      ],
      "metadata": {
        "id": "Szvx7qs3tH5D"
      },
      "execution_count": 58,
      "outputs": []
    },
    {
      "cell_type": "code",
      "source": [
        "a = Value_v3(2.0)\n",
        "b = Value_v3(-3.0)\n",
        "c = Value_v3(10.0)\n",
        "\n",
        "d = a * b + c\n",
        "print(d._prev)\n",
        "print(d._op)"
      ],
      "metadata": {
        "colab": {
          "base_uri": "https://localhost:8080/"
        },
        "id": "zPZudwP0uCal",
        "outputId": "9ce66cdd-6dfd-4f08-8e61-ad029939154d"
      },
      "execution_count": 59,
      "outputs": [
        {
          "output_type": "stream",
          "name": "stdout",
          "text": [
            "{Value_v3(data=-6.0), Value_v3(data=10.0)}\n",
            "+\n"
          ]
        }
      ]
    },
    {
      "cell_type": "code",
      "source": [
        "from graphviz import Digraph\n",
        "def trace(root):\n",
        "  # Building a set of all nodes and edges in the graph\n",
        "  nodes, edges = set(), set()\n",
        "  def build(v):\n",
        "    if v not in nodes:\n",
        "      nodes.add(v)\n",
        "      for child in v._prev:\n",
        "        edges.add((child, v))\n",
        "        build(child)\n",
        "  build(root)\n",
        "  return nodes, edges\n",
        "\n",
        "def draw_dot(root):\n",
        "  dot = Digraph(format='svg', graph_attr={'rankdir': 'LR'}) # LR: left to right  \n",
        "  nodes, edges = trace(root)\n",
        "  for n in nodes:\n",
        "    uid = str(id(n))\n",
        "    # For any value in the graph, create a rectangular ('record') node for it\n",
        "    dot.node(name = uid, label = \"data %.4f\" % (n.data, ), shape='record')\n",
        "    if n._op:\n",
        "      # If this value is a result of some operation, create an op node for it \n",
        "      dot.node(name = uid + n._op, label = n._op)\n",
        "      # And connect this node to it\n",
        "      dot.edge(uid + n._op, uid)\n",
        "  for n1, n2 in edges:\n",
        "    # Connect n1 to the op node of n_2\n",
        "    dot.edge(str(id(n1)), str(id(n2))+ n2._op)\n",
        "\n",
        "  return dot\n",
        "  "
      ],
      "metadata": {
        "id": "uSy9j5NsxHT5"
      },
      "execution_count": 60,
      "outputs": []
    },
    {
      "cell_type": "code",
      "source": [
        "draw_dot(d)"
      ],
      "metadata": {
        "colab": {
          "base_uri": "https://localhost:8080/",
          "height": 192
        },
        "id": "p_kzXJYtxNTP",
        "outputId": "9413f617-b1be-4847-ffde-9b32105cc1a4"
      },
      "execution_count": 61,
      "outputs": [
        {
          "output_type": "execute_result",
          "data": {
            "text/plain": [
              "<graphviz.dot.Digraph at 0x7f362483c100>"
            ],
            "image/svg+xml": "<?xml version=\"1.0\" encoding=\"UTF-8\" standalone=\"no\"?>\n<!DOCTYPE svg PUBLIC \"-//W3C//DTD SVG 1.1//EN\"\n \"http://www.w3.org/Graphics/SVG/1.1/DTD/svg11.dtd\">\n<!-- Generated by graphviz version 2.43.0 (0)\n -->\n<!-- Title: %3 Pages: 1 -->\n<svg width=\"512pt\" height=\"128pt\"\n viewBox=\"0.00 0.00 512.00 128.00\" xmlns=\"http://www.w3.org/2000/svg\" xmlns:xlink=\"http://www.w3.org/1999/xlink\">\n<g id=\"graph0\" class=\"graph\" transform=\"scale(1 1) rotate(0) translate(4 124)\">\n<title>%3</title>\n<polygon fill=\"white\" stroke=\"transparent\" points=\"-4,4 -4,-124 508,-124 508,4 -4,4\"/>\n<!-- 139870516643872 -->\n<g id=\"node1\" class=\"node\">\n<title>139870516643872</title>\n<polygon fill=\"none\" stroke=\"black\" points=\"2.5,-83.5 2.5,-119.5 82.5,-119.5 82.5,-83.5 2.5,-83.5\"/>\n<text text-anchor=\"middle\" x=\"42.5\" y=\"-97.8\" font-family=\"Times,serif\" font-size=\"14.00\">data 2.0000</text>\n</g>\n<!-- 139870516644736* -->\n<g id=\"node4\" class=\"node\">\n<title>139870516644736*</title>\n<ellipse fill=\"none\" stroke=\"black\" cx=\"148\" cy=\"-73.5\" rx=\"27\" ry=\"18\"/>\n<text text-anchor=\"middle\" x=\"148\" y=\"-69.8\" font-family=\"Times,serif\" font-size=\"14.00\">*</text>\n</g>\n<!-- 139870516643872&#45;&gt;139870516644736* -->\n<g id=\"edge4\" class=\"edge\">\n<title>139870516643872&#45;&gt;139870516644736*</title>\n<path fill=\"none\" stroke=\"black\" d=\"M82.63,-90.91C92.66,-88.2 103.36,-85.31 113.09,-82.67\"/>\n<polygon fill=\"black\" stroke=\"black\" points=\"114.09,-86.03 122.83,-80.04 112.26,-79.27 114.09,-86.03\"/>\n</g>\n<!-- 139870516644592 -->\n<g id=\"node2\" class=\"node\">\n<title>139870516644592</title>\n<polygon fill=\"none\" stroke=\"black\" points=\"0,-28.5 0,-64.5 85,-64.5 85,-28.5 0,-28.5\"/>\n<text text-anchor=\"middle\" x=\"42.5\" y=\"-42.8\" font-family=\"Times,serif\" font-size=\"14.00\">data &#45;3.0000</text>\n</g>\n<!-- 139870516644592&#45;&gt;139870516644736* -->\n<g id=\"edge3\" class=\"edge\">\n<title>139870516644592&#45;&gt;139870516644736*</title>\n<path fill=\"none\" stroke=\"black\" d=\"M85,-57.33C94.14,-59.71 103.72,-62.21 112.54,-64.51\"/>\n<polygon fill=\"black\" stroke=\"black\" points=\"111.91,-67.96 122.47,-67.1 113.68,-61.19 111.91,-67.96\"/>\n</g>\n<!-- 139870516644736 -->\n<g id=\"node3\" class=\"node\">\n<title>139870516644736</title>\n<polygon fill=\"none\" stroke=\"black\" points=\"212,-55.5 212,-91.5 297,-91.5 297,-55.5 212,-55.5\"/>\n<text text-anchor=\"middle\" x=\"254.5\" y=\"-69.8\" font-family=\"Times,serif\" font-size=\"14.00\">data &#45;6.0000</text>\n</g>\n<!-- 139870516642288+ -->\n<g id=\"node7\" class=\"node\">\n<title>139870516642288+</title>\n<ellipse fill=\"none\" stroke=\"black\" cx=\"361\" cy=\"-45.5\" rx=\"27\" ry=\"18\"/>\n<text text-anchor=\"middle\" x=\"361\" y=\"-41.8\" font-family=\"Times,serif\" font-size=\"14.00\">+</text>\n</g>\n<!-- 139870516644736&#45;&gt;139870516642288+ -->\n<g id=\"edge6\" class=\"edge\">\n<title>139870516644736&#45;&gt;139870516642288+</title>\n<path fill=\"none\" stroke=\"black\" d=\"M297.1,-62.35C306.61,-59.8 316.62,-57.12 325.78,-54.67\"/>\n<polygon fill=\"black\" stroke=\"black\" points=\"326.94,-57.98 335.69,-52.01 325.12,-51.22 326.94,-57.98\"/>\n</g>\n<!-- 139870516644736*&#45;&gt;139870516644736 -->\n<g id=\"edge1\" class=\"edge\">\n<title>139870516644736*&#45;&gt;139870516644736</title>\n<path fill=\"none\" stroke=\"black\" d=\"M175.1,-73.5C183.27,-73.5 192.59,-73.5 201.88,-73.5\"/>\n<polygon fill=\"black\" stroke=\"black\" points=\"201.89,-77 211.89,-73.5 201.89,-70 201.89,-77\"/>\n</g>\n<!-- 139870516643296 -->\n<g id=\"node5\" class=\"node\">\n<title>139870516643296</title>\n<polygon fill=\"none\" stroke=\"black\" points=\"211,-0.5 211,-36.5 298,-36.5 298,-0.5 211,-0.5\"/>\n<text text-anchor=\"middle\" x=\"254.5\" y=\"-14.8\" font-family=\"Times,serif\" font-size=\"14.00\">data 10.0000</text>\n</g>\n<!-- 139870516643296&#45;&gt;139870516642288+ -->\n<g id=\"edge5\" class=\"edge\">\n<title>139870516643296&#45;&gt;139870516642288+</title>\n<path fill=\"none\" stroke=\"black\" d=\"M298,-29.48C307.18,-31.85 316.78,-34.33 325.6,-36.61\"/>\n<polygon fill=\"black\" stroke=\"black\" points=\"324.97,-40.07 335.53,-39.18 326.73,-33.29 324.97,-40.07\"/>\n</g>\n<!-- 139870516642288 -->\n<g id=\"node6\" class=\"node\">\n<title>139870516642288</title>\n<polygon fill=\"none\" stroke=\"black\" points=\"424,-27.5 424,-63.5 504,-63.5 504,-27.5 424,-27.5\"/>\n<text text-anchor=\"middle\" x=\"464\" y=\"-41.8\" font-family=\"Times,serif\" font-size=\"14.00\">data 4.0000</text>\n</g>\n<!-- 139870516642288+&#45;&gt;139870516642288 -->\n<g id=\"edge2\" class=\"edge\">\n<title>139870516642288+&#45;&gt;139870516642288</title>\n<path fill=\"none\" stroke=\"black\" d=\"M388.01,-45.5C395.82,-45.5 404.67,-45.5 413.48,-45.5\"/>\n<polygon fill=\"black\" stroke=\"black\" points=\"413.73,-49 423.73,-45.5 413.73,-42 413.73,-49\"/>\n</g>\n</g>\n</svg>\n"
          },
          "metadata": {},
          "execution_count": 61
        }
      ]
    },
    {
      "cell_type": "markdown",
      "source": [
        "Adding labels to the objects"
      ],
      "metadata": {
        "id": "pbgIKXvJ0ezF"
      }
    },
    {
      "cell_type": "code",
      "source": [
        "class Value_v4:\n",
        "  \n",
        "  def __init__(self, data, _children=(), _op = '', label=''):\n",
        "    self.data = data\n",
        "    self._prev = set(_children)\n",
        "    self._op = _op\n",
        "    self.label = label\n",
        "\n",
        "  def __repr__(self): \n",
        "    return f\"Value_v4(data={self.data})\"\n",
        "\n",
        "  def __add__(self, other):\n",
        "    out = Value_v4(self.data + other.data, (self, other), '+')\n",
        "    return out\n",
        "\n",
        "  def __mul__(self, other):\n",
        "    out = Value_v4(self.data * other.data, (self, other), '*')\n",
        "    return out"
      ],
      "metadata": {
        "id": "0YzPTU2m0qHX"
      },
      "execution_count": 67,
      "outputs": []
    },
    {
      "cell_type": "markdown",
      "source": [
        "Changin draw_dot function accordingly to include labels"
      ],
      "metadata": {
        "id": "aghhr_BW1Vfk"
      }
    },
    {
      "cell_type": "code",
      "source": [
        "from graphviz import Digraph\n",
        "def trace(root):\n",
        "  # Building a set of all nodes and edges in the graph\n",
        "  nodes, edges = set(), set()\n",
        "  def build(v):\n",
        "    if v not in nodes:\n",
        "      nodes.add(v)\n",
        "      for child in v._prev:\n",
        "        edges.add((child, v))\n",
        "        build(child)\n",
        "  build(root)\n",
        "  return nodes, edges\n",
        "\n",
        "def draw_dot(root):\n",
        "  dot = Digraph(format='svg', graph_attr={'rankdir': 'LR'}) # LR: left to right  \n",
        "  nodes, edges = trace(root)\n",
        "  for n in nodes:\n",
        "    uid = str(id(n))\n",
        "    # For any value in the graph, create a rectangular ('record') node for it\n",
        "    dot.node(name = uid, label = \"{%s | data %.4f}\" % (n.label, n.data ), shape='record')\n",
        "    if n._op:\n",
        "      # If this value is a result of some operation, create an op node for it \n",
        "      dot.node(name = uid + n._op, label = n._op)\n",
        "      # And connect this node to it\n",
        "      dot.edge(uid + n._op, uid)\n",
        "  for n1, n2 in edges:\n",
        "    # Connect n1 to the op node of n_2\n",
        "    dot.edge(str(id(n1)), str(id(n2))+ n2._op)\n",
        "\n",
        "  return dot\n",
        "  "
      ],
      "metadata": {
        "id": "USX-TZfn1Upa"
      },
      "execution_count": 68,
      "outputs": []
    },
    {
      "cell_type": "code",
      "source": [
        "a = Value_v4(2.0, label='a')\n",
        "b = Value_v4(-3.0, label='b')\n",
        "c = Value_v4(10.0, label='c')\n",
        "e = a * b; e.label = 'e'\n",
        "d = e + c; d.label = 'd'\n",
        "draw_dot(d)"
      ],
      "metadata": {
        "colab": {
          "base_uri": "https://localhost:8080/",
          "height": 225
        },
        "id": "DUElj2O41tlU",
        "outputId": "d68bbc34-b64e-462e-8945-154ff064bf60"
      },
      "execution_count": 69,
      "outputs": [
        {
          "output_type": "stream",
          "name": "stdout",
          "text": [
            "{Value_v4(data=-6.0), Value_v4(data=10.0)}\n",
            "+\n"
          ]
        },
        {
          "output_type": "execute_result",
          "data": {
            "text/plain": [
              "<graphviz.dot.Digraph at 0x7f3624758160>"
            ],
            "image/svg+xml": "<?xml version=\"1.0\" encoding=\"UTF-8\" standalone=\"no\"?>\n<!DOCTYPE svg PUBLIC \"-//W3C//DTD SVG 1.1//EN\"\n \"http://www.w3.org/Graphics/SVG/1.1/DTD/svg11.dtd\">\n<!-- Generated by graphviz version 2.43.0 (0)\n -->\n<!-- Title: %3 Pages: 1 -->\n<svg width=\"581pt\" height=\"127pt\"\n viewBox=\"0.00 0.00 581.00 127.00\" xmlns=\"http://www.w3.org/2000/svg\" xmlns:xlink=\"http://www.w3.org/1999/xlink\">\n<g id=\"graph0\" class=\"graph\" transform=\"scale(1 1) rotate(0) translate(4 123)\">\n<title>%3</title>\n<polygon fill=\"white\" stroke=\"transparent\" points=\"-4,4 -4,-123 577,-123 577,4 -4,4\"/>\n<!-- 139870516642816 -->\n<g id=\"node1\" class=\"node\">\n<title>139870516642816</title>\n<polygon fill=\"none\" stroke=\"black\" points=\"235,-27.5 235,-63.5 343,-63.5 343,-27.5 235,-27.5\"/>\n<text text-anchor=\"middle\" x=\"246.5\" y=\"-41.8\" font-family=\"Times,serif\" font-size=\"14.00\">e</text>\n<polyline fill=\"none\" stroke=\"black\" points=\"258,-27.5 258,-63.5 \"/>\n<text text-anchor=\"middle\" x=\"300.5\" y=\"-41.8\" font-family=\"Times,serif\" font-size=\"14.00\">data &#45;6.0000</text>\n</g>\n<!-- 139870516641904+ -->\n<g id=\"node4\" class=\"node\">\n<title>139870516641904+</title>\n<ellipse fill=\"none\" stroke=\"black\" cx=\"407\" cy=\"-72.5\" rx=\"27\" ry=\"18\"/>\n<text text-anchor=\"middle\" x=\"407\" y=\"-68.8\" font-family=\"Times,serif\" font-size=\"14.00\">+</text>\n</g>\n<!-- 139870516642816&#45;&gt;139870516641904+ -->\n<g id=\"edge5\" class=\"edge\">\n<title>139870516642816&#45;&gt;139870516641904+</title>\n<path fill=\"none\" stroke=\"black\" d=\"M343.25,-57.89C352.75,-60.11 362.43,-62.36 371.24,-64.41\"/>\n<polygon fill=\"black\" stroke=\"black\" points=\"370.6,-67.85 381.14,-66.71 372.19,-61.04 370.6,-67.85\"/>\n</g>\n<!-- 139870516642816* -->\n<g id=\"node2\" class=\"node\">\n<title>139870516642816*</title>\n<ellipse fill=\"none\" stroke=\"black\" cx=\"171\" cy=\"-45.5\" rx=\"27\" ry=\"18\"/>\n<text text-anchor=\"middle\" x=\"171\" y=\"-41.8\" font-family=\"Times,serif\" font-size=\"14.00\">*</text>\n</g>\n<!-- 139870516642816*&#45;&gt;139870516642816 -->\n<g id=\"edge1\" class=\"edge\">\n<title>139870516642816*&#45;&gt;139870516642816</title>\n<path fill=\"none\" stroke=\"black\" d=\"M198.03,-45.5C206.08,-45.5 215.32,-45.5 224.74,-45.5\"/>\n<polygon fill=\"black\" stroke=\"black\" points=\"224.99,-49 234.99,-45.5 224.99,-42 224.99,-49\"/>\n</g>\n<!-- 139870516641904 -->\n<g id=\"node3\" class=\"node\">\n<title>139870516641904</title>\n<polygon fill=\"none\" stroke=\"black\" points=\"470,-54.5 470,-90.5 573,-90.5 573,-54.5 470,-54.5\"/>\n<text text-anchor=\"middle\" x=\"481.5\" y=\"-68.8\" font-family=\"Times,serif\" font-size=\"14.00\">d</text>\n<polyline fill=\"none\" stroke=\"black\" points=\"493,-54.5 493,-90.5 \"/>\n<text text-anchor=\"middle\" x=\"533\" y=\"-68.8\" font-family=\"Times,serif\" font-size=\"14.00\">data 4.0000</text>\n</g>\n<!-- 139870516641904+&#45;&gt;139870516641904 -->\n<g id=\"edge2\" class=\"edge\">\n<title>139870516641904+&#45;&gt;139870516641904</title>\n<path fill=\"none\" stroke=\"black\" d=\"M434.09,-72.5C441.83,-72.5 450.64,-72.5 459.61,-72.5\"/>\n<polygon fill=\"black\" stroke=\"black\" points=\"459.76,-76 469.76,-72.5 459.76,-69 459.76,-76\"/>\n</g>\n<!-- 139870516642048 -->\n<g id=\"node5\" class=\"node\">\n<title>139870516642048</title>\n<polygon fill=\"none\" stroke=\"black\" points=\"234,-82.5 234,-118.5 344,-118.5 344,-82.5 234,-82.5\"/>\n<text text-anchor=\"middle\" x=\"245.5\" y=\"-96.8\" font-family=\"Times,serif\" font-size=\"14.00\">c</text>\n<polyline fill=\"none\" stroke=\"black\" points=\"257,-82.5 257,-118.5 \"/>\n<text text-anchor=\"middle\" x=\"300.5\" y=\"-96.8\" font-family=\"Times,serif\" font-size=\"14.00\">data 10.0000</text>\n</g>\n<!-- 139870516642048&#45;&gt;139870516641904+ -->\n<g id=\"edge3\" class=\"edge\">\n<title>139870516642048&#45;&gt;139870516641904+</title>\n<path fill=\"none\" stroke=\"black\" d=\"M344.26,-87.4C353.49,-85.18 362.84,-82.92 371.37,-80.86\"/>\n<polygon fill=\"black\" stroke=\"black\" points=\"372.42,-84.21 381.32,-78.46 370.78,-77.4 372.42,-84.21\"/>\n</g>\n<!-- 139870516665216 -->\n<g id=\"node6\" class=\"node\">\n<title>139870516665216</title>\n<polygon fill=\"none\" stroke=\"black\" points=\"0,-55.5 0,-91.5 108,-91.5 108,-55.5 0,-55.5\"/>\n<text text-anchor=\"middle\" x=\"11.5\" y=\"-69.8\" font-family=\"Times,serif\" font-size=\"14.00\">b</text>\n<polyline fill=\"none\" stroke=\"black\" points=\"23,-55.5 23,-91.5 \"/>\n<text text-anchor=\"middle\" x=\"65.5\" y=\"-69.8\" font-family=\"Times,serif\" font-size=\"14.00\">data &#45;3.0000</text>\n</g>\n<!-- 139870516665216&#45;&gt;139870516642816* -->\n<g id=\"edge4\" class=\"edge\">\n<title>139870516665216&#45;&gt;139870516642816*</title>\n<path fill=\"none\" stroke=\"black\" d=\"M108.12,-60.57C117.51,-58.28 127.06,-55.95 135.76,-53.84\"/>\n<polygon fill=\"black\" stroke=\"black\" points=\"136.62,-57.23 145.51,-51.46 134.97,-50.43 136.62,-57.23\"/>\n</g>\n<!-- 139870516643248 -->\n<g id=\"node7\" class=\"node\">\n<title>139870516643248</title>\n<polygon fill=\"none\" stroke=\"black\" points=\"2.5,-0.5 2.5,-36.5 105.5,-36.5 105.5,-0.5 2.5,-0.5\"/>\n<text text-anchor=\"middle\" x=\"14\" y=\"-14.8\" font-family=\"Times,serif\" font-size=\"14.00\">a</text>\n<polyline fill=\"none\" stroke=\"black\" points=\"25.5,-0.5 25.5,-36.5 \"/>\n<text text-anchor=\"middle\" x=\"65.5\" y=\"-14.8\" font-family=\"Times,serif\" font-size=\"14.00\">data 2.0000</text>\n</g>\n<!-- 139870516643248&#45;&gt;139870516642816* -->\n<g id=\"edge6\" class=\"edge\">\n<title>139870516643248&#45;&gt;139870516642816*</title>\n<path fill=\"none\" stroke=\"black\" d=\"M105.78,-30.42C115.74,-32.76 125.98,-35.17 135.28,-37.35\"/>\n<polygon fill=\"black\" stroke=\"black\" points=\"134.77,-40.82 145.3,-39.7 136.37,-34.01 134.77,-40.82\"/>\n</g>\n</g>\n</svg>\n"
          },
          "metadata": {},
          "execution_count": 69
        }
      ]
    },
    {
      "cell_type": "code",
      "source": [
        "a = Value_v4(2.0, label='a')\n",
        "b = Value_v4(-3.0, label='b')\n",
        "c = Value_v4(10.0, label='c')\n",
        "e = a * b; e.label = 'e'\n",
        "d = e + c; d.label = 'd'\n",
        "f = Value_v4(-2.0, label='f')\n",
        "L = d*f; L.label = 'L'\n",
        "draw_dot(L)"
      ],
      "metadata": {
        "colab": {
          "base_uri": "https://localhost:8080/",
          "height": 192
        },
        "id": "MGN6R0n51-qs",
        "outputId": "f61a83d9-e48f-4e02-c6b8-0e003753e9c9"
      },
      "execution_count": 72,
      "outputs": [
        {
          "output_type": "execute_result",
          "data": {
            "text/plain": [
              "<graphviz.dot.Digraph at 0x7f36247aac10>"
            ],
            "image/svg+xml": "<?xml version=\"1.0\" encoding=\"UTF-8\" standalone=\"no\"?>\n<!DOCTYPE svg PUBLIC \"-//W3C//DTD SVG 1.1//EN\"\n \"http://www.w3.org/Graphics/SVG/1.1/DTD/svg11.dtd\">\n<!-- Generated by graphviz version 2.43.0 (0)\n -->\n<!-- Title: %3 Pages: 1 -->\n<svg width=\"820pt\" height=\"128pt\"\n viewBox=\"0.00 0.00 820.00 128.00\" xmlns=\"http://www.w3.org/2000/svg\" xmlns:xlink=\"http://www.w3.org/1999/xlink\">\n<g id=\"graph0\" class=\"graph\" transform=\"scale(1 1) rotate(0) translate(4 124)\">\n<title>%3</title>\n<polygon fill=\"white\" stroke=\"transparent\" points=\"-4,4 -4,-124 816,-124 816,4 -4,4\"/>\n<!-- 139870516980320 -->\n<g id=\"node1\" class=\"node\">\n<title>139870516980320</title>\n<polygon fill=\"none\" stroke=\"black\" points=\"234,-83.5 234,-119.5 344,-119.5 344,-83.5 234,-83.5\"/>\n<text text-anchor=\"middle\" x=\"245.5\" y=\"-97.8\" font-family=\"Times,serif\" font-size=\"14.00\">c</text>\n<polyline fill=\"none\" stroke=\"black\" points=\"257,-83.5 257,-119.5 \"/>\n<text text-anchor=\"middle\" x=\"300.5\" y=\"-97.8\" font-family=\"Times,serif\" font-size=\"14.00\">data 10.0000</text>\n</g>\n<!-- 139870516979984+ -->\n<g id=\"node8\" class=\"node\">\n<title>139870516979984+</title>\n<ellipse fill=\"none\" stroke=\"black\" cx=\"407\" cy=\"-73.5\" rx=\"27\" ry=\"18\"/>\n<text text-anchor=\"middle\" x=\"407\" y=\"-69.8\" font-family=\"Times,serif\" font-size=\"14.00\">+</text>\n</g>\n<!-- 139870516980320&#45;&gt;139870516979984+ -->\n<g id=\"edge6\" class=\"edge\">\n<title>139870516980320&#45;&gt;139870516979984+</title>\n<path fill=\"none\" stroke=\"black\" d=\"M344.26,-88.4C353.49,-86.18 362.84,-83.92 371.37,-81.86\"/>\n<polygon fill=\"black\" stroke=\"black\" points=\"372.42,-85.21 381.32,-79.46 370.78,-78.4 372.42,-85.21\"/>\n</g>\n<!-- 139870516979840 -->\n<g id=\"node2\" class=\"node\">\n<title>139870516979840</title>\n<polygon fill=\"none\" stroke=\"black\" points=\"702,-27.5 702,-63.5 812,-63.5 812,-27.5 702,-27.5\"/>\n<text text-anchor=\"middle\" x=\"714.5\" y=\"-41.8\" font-family=\"Times,serif\" font-size=\"14.00\">L</text>\n<polyline fill=\"none\" stroke=\"black\" points=\"727,-27.5 727,-63.5 \"/>\n<text text-anchor=\"middle\" x=\"769.5\" y=\"-41.8\" font-family=\"Times,serif\" font-size=\"14.00\">data &#45;8.0000</text>\n</g>\n<!-- 139870516979840* -->\n<g id=\"node3\" class=\"node\">\n<title>139870516979840*</title>\n<ellipse fill=\"none\" stroke=\"black\" cx=\"639\" cy=\"-45.5\" rx=\"27\" ry=\"18\"/>\n<text text-anchor=\"middle\" x=\"639\" y=\"-41.8\" font-family=\"Times,serif\" font-size=\"14.00\">*</text>\n</g>\n<!-- 139870516979840*&#45;&gt;139870516979840 -->\n<g id=\"edge1\" class=\"edge\">\n<title>139870516979840*&#45;&gt;139870516979840</title>\n<path fill=\"none\" stroke=\"black\" d=\"M666.03,-45.5C673.7,-45.5 682.45,-45.5 691.42,-45.5\"/>\n<polygon fill=\"black\" stroke=\"black\" points=\"691.58,-49 701.58,-45.5 691.58,-42 691.58,-49\"/>\n</g>\n<!-- 139870516980368 -->\n<g id=\"node4\" class=\"node\">\n<title>139870516980368</title>\n<polygon fill=\"none\" stroke=\"black\" points=\"235,-28.5 235,-64.5 343,-64.5 343,-28.5 235,-28.5\"/>\n<text text-anchor=\"middle\" x=\"246.5\" y=\"-42.8\" font-family=\"Times,serif\" font-size=\"14.00\">e</text>\n<polyline fill=\"none\" stroke=\"black\" points=\"258,-28.5 258,-64.5 \"/>\n<text text-anchor=\"middle\" x=\"300.5\" y=\"-42.8\" font-family=\"Times,serif\" font-size=\"14.00\">data &#45;6.0000</text>\n</g>\n<!-- 139870516980368&#45;&gt;139870516979984+ -->\n<g id=\"edge8\" class=\"edge\">\n<title>139870516980368&#45;&gt;139870516979984+</title>\n<path fill=\"none\" stroke=\"black\" d=\"M343.25,-58.89C352.75,-61.11 362.43,-63.36 371.24,-65.41\"/>\n<polygon fill=\"black\" stroke=\"black\" points=\"370.6,-68.85 381.14,-67.71 372.19,-62.04 370.6,-68.85\"/>\n</g>\n<!-- 139870516980368* -->\n<g id=\"node5\" class=\"node\">\n<title>139870516980368*</title>\n<ellipse fill=\"none\" stroke=\"black\" cx=\"171\" cy=\"-46.5\" rx=\"27\" ry=\"18\"/>\n<text text-anchor=\"middle\" x=\"171\" y=\"-42.8\" font-family=\"Times,serif\" font-size=\"14.00\">*</text>\n</g>\n<!-- 139870516980368*&#45;&gt;139870516980368 -->\n<g id=\"edge2\" class=\"edge\">\n<title>139870516980368*&#45;&gt;139870516980368</title>\n<path fill=\"none\" stroke=\"black\" d=\"M198.03,-46.5C206.08,-46.5 215.32,-46.5 224.74,-46.5\"/>\n<polygon fill=\"black\" stroke=\"black\" points=\"224.99,-50 234.99,-46.5 224.99,-43 224.99,-50\"/>\n</g>\n<!-- 139870516980896 -->\n<g id=\"node6\" class=\"node\">\n<title>139870516980896</title>\n<polygon fill=\"none\" stroke=\"black\" points=\"470,-0.5 470,-36.5 576,-36.5 576,-0.5 470,-0.5\"/>\n<text text-anchor=\"middle\" x=\"480.5\" y=\"-14.8\" font-family=\"Times,serif\" font-size=\"14.00\">f</text>\n<polyline fill=\"none\" stroke=\"black\" points=\"491,-0.5 491,-36.5 \"/>\n<text text-anchor=\"middle\" x=\"533.5\" y=\"-14.8\" font-family=\"Times,serif\" font-size=\"14.00\">data &#45;2.0000</text>\n</g>\n<!-- 139870516980896&#45;&gt;139870516979840* -->\n<g id=\"edge7\" class=\"edge\">\n<title>139870516980896&#45;&gt;139870516979840*</title>\n<path fill=\"none\" stroke=\"black\" d=\"M576.33,-30.89C585.48,-33.06 594.8,-35.27 603.33,-37.29\"/>\n<polygon fill=\"black\" stroke=\"black\" points=\"602.73,-40.74 613.27,-39.64 604.34,-33.93 602.73,-40.74\"/>\n</g>\n<!-- 139870516979984 -->\n<g id=\"node7\" class=\"node\">\n<title>139870516979984</title>\n<polygon fill=\"none\" stroke=\"black\" points=\"471.5,-55.5 471.5,-91.5 574.5,-91.5 574.5,-55.5 471.5,-55.5\"/>\n<text text-anchor=\"middle\" x=\"483\" y=\"-69.8\" font-family=\"Times,serif\" font-size=\"14.00\">d</text>\n<polyline fill=\"none\" stroke=\"black\" points=\"494.5,-55.5 494.5,-91.5 \"/>\n<text text-anchor=\"middle\" x=\"534.5\" y=\"-69.8\" font-family=\"Times,serif\" font-size=\"14.00\">data 4.0000</text>\n</g>\n<!-- 139870516979984&#45;&gt;139870516979840* -->\n<g id=\"edge5\" class=\"edge\">\n<title>139870516979984&#45;&gt;139870516979840*</title>\n<path fill=\"none\" stroke=\"black\" d=\"M574.67,-61.06C584.43,-58.66 594.45,-56.2 603.55,-53.96\"/>\n<polygon fill=\"black\" stroke=\"black\" points=\"604.5,-57.33 613.37,-51.55 602.83,-50.54 604.5,-57.33\"/>\n</g>\n<!-- 139870516979984+&#45;&gt;139870516979984 -->\n<g id=\"edge3\" class=\"edge\">\n<title>139870516979984+&#45;&gt;139870516979984</title>\n<path fill=\"none\" stroke=\"black\" d=\"M434.15,-73.5C442.26,-73.5 451.57,-73.5 461.02,-73.5\"/>\n<polygon fill=\"black\" stroke=\"black\" points=\"461.28,-77 471.28,-73.5 461.28,-70 461.28,-77\"/>\n</g>\n<!-- 139870516979120 -->\n<g id=\"node9\" class=\"node\">\n<title>139870516979120</title>\n<polygon fill=\"none\" stroke=\"black\" points=\"0,-56.5 0,-92.5 108,-92.5 108,-56.5 0,-56.5\"/>\n<text text-anchor=\"middle\" x=\"11.5\" y=\"-70.8\" font-family=\"Times,serif\" font-size=\"14.00\">b</text>\n<polyline fill=\"none\" stroke=\"black\" points=\"23,-56.5 23,-92.5 \"/>\n<text text-anchor=\"middle\" x=\"65.5\" y=\"-70.8\" font-family=\"Times,serif\" font-size=\"14.00\">data &#45;3.0000</text>\n</g>\n<!-- 139870516979120&#45;&gt;139870516980368* -->\n<g id=\"edge4\" class=\"edge\">\n<title>139870516979120&#45;&gt;139870516980368*</title>\n<path fill=\"none\" stroke=\"black\" d=\"M108.12,-61.57C117.51,-59.28 127.06,-56.95 135.76,-54.84\"/>\n<polygon fill=\"black\" stroke=\"black\" points=\"136.62,-58.23 145.51,-52.46 134.97,-51.43 136.62,-58.23\"/>\n</g>\n<!-- 139870516978112 -->\n<g id=\"node10\" class=\"node\">\n<title>139870516978112</title>\n<polygon fill=\"none\" stroke=\"black\" points=\"2.5,-1.5 2.5,-37.5 105.5,-37.5 105.5,-1.5 2.5,-1.5\"/>\n<text text-anchor=\"middle\" x=\"14\" y=\"-15.8\" font-family=\"Times,serif\" font-size=\"14.00\">a</text>\n<polyline fill=\"none\" stroke=\"black\" points=\"25.5,-1.5 25.5,-37.5 \"/>\n<text text-anchor=\"middle\" x=\"65.5\" y=\"-15.8\" font-family=\"Times,serif\" font-size=\"14.00\">data 2.0000</text>\n</g>\n<!-- 139870516978112&#45;&gt;139870516980368* -->\n<g id=\"edge9\" class=\"edge\">\n<title>139870516978112&#45;&gt;139870516980368*</title>\n<path fill=\"none\" stroke=\"black\" d=\"M105.78,-31.42C115.74,-33.76 125.98,-36.17 135.28,-38.35\"/>\n<polygon fill=\"black\" stroke=\"black\" points=\"134.77,-41.82 145.3,-40.7 136.37,-35.01 134.77,-41.82\"/>\n</g>\n</g>\n</svg>\n"
          },
          "metadata": {},
          "execution_count": 72
        }
      ]
    },
    {
      "cell_type": "markdown",
      "source": [
        "In the following, we will add the gradient object in the Value to store the result of the backpropagation (calculating the derivatives of L, w.r.t. to a,b, ...)"
      ],
      "metadata": {
        "id": "IjRzBNKu3Hqv"
      }
    },
    {
      "cell_type": "code",
      "source": [
        "class Value_v5:\n",
        "  \n",
        "  def __init__(self, data, _children=(), _op = '', label=''):\n",
        "    self.data = data\n",
        "    self.grad = 0 # At the initialization, we assume that any values does not affect the Loss Function\n",
        "    self._prev = set(_children)\n",
        "    self._op = _op\n",
        "    self.label = label\n",
        "\n",
        "  def __repr__(self): \n",
        "    return f\"Value_v5(data={self.data})\"\n",
        "\n",
        "  def __add__(self, other):\n",
        "    out = Value_v5(self.data + other.data, (self, other), '+')\n",
        "    return out\n",
        "\n",
        "  def __mul__(self, other):\n",
        "    out = Value_v5(self.data * other.data, (self, other), '*')\n",
        "    return out"
      ],
      "metadata": {
        "id": "hGYr2QOd3ZCP"
      },
      "execution_count": 75,
      "outputs": []
    },
    {
      "cell_type": "markdown",
      "source": [
        "Adding grad in the draw_dot function "
      ],
      "metadata": {
        "id": "evPUWui534ed"
      }
    },
    {
      "cell_type": "code",
      "source": [
        "def trace(root):\n",
        "  # Building a set of all nodes and edges in the graph\n",
        "  nodes, edges = set(), set()\n",
        "  def build(v):\n",
        "    if v not in nodes:\n",
        "      nodes.add(v)\n",
        "      for child in v._prev:\n",
        "        edges.add((child, v))\n",
        "        build(child)\n",
        "  build(root)\n",
        "  return nodes, edges\n",
        "\n",
        "def draw_dot(root):\n",
        "  dot = Digraph(format='svg', graph_attr={'rankdir': 'LR'}) # LR: left to right  \n",
        "  nodes, edges = trace(root)\n",
        "  for n in nodes:\n",
        "    uid = str(id(n))\n",
        "    # For any value in the graph, create a rectangular ('record') node for it\n",
        "    dot.node(name = uid, label = \"{%s | data %.4f | grad %.4f}\" % (n.label, n.data, n.grad ), shape='record')\n",
        "    if n._op:\n",
        "      # If this value is a result of some operation, create an op node for it \n",
        "      dot.node(name = uid + n._op, label = n._op)\n",
        "      # And connect this node to it\n",
        "      dot.edge(uid + n._op, uid)\n",
        "  for n1, n2 in edges:\n",
        "    # Connect n1 to the op node of n_2\n",
        "    dot.edge(str(id(n1)), str(id(n2))+ n2._op)\n",
        "\n",
        "  return dot"
      ],
      "metadata": {
        "id": "RZzW6nn833v9"
      },
      "execution_count": 74,
      "outputs": []
    },
    {
      "cell_type": "code",
      "source": [
        "a = Value_v5(2.0, label='a')\n",
        "b = Value_v5(-3.0, label='b')\n",
        "c = Value_v5(10.0, label='c')\n",
        "e = a * b; e.label = 'e'\n",
        "d = e + c; d.label = 'd'\n",
        "f = Value_v5(-2.0, label='f')\n",
        "L = d*f; L.label = 'L'\n",
        "L.grad = 1\n",
        "draw_dot(L)\n"
      ],
      "metadata": {
        "colab": {
          "base_uri": "https://localhost:8080/",
          "height": 229
        },
        "id": "0XKqekYF4HXs",
        "outputId": "205ceb8c-bd32-4d4b-80b7-70129133f7c3"
      },
      "execution_count": 85,
      "outputs": [
        {
          "output_type": "execute_result",
          "data": {
            "text/plain": [
              "<graphviz.dot.Digraph at 0x7f362475d220>"
            ],
            "image/svg+xml": "<?xml version=\"1.0\" encoding=\"UTF-8\" standalone=\"no\"?>\n<!DOCTYPE svg PUBLIC \"-//W3C//DTD SVG 1.1//EN\"\n \"http://www.w3.org/Graphics/SVG/1.1/DTD/svg11.dtd\">\n<!-- Generated by graphviz version 2.43.0 (0)\n -->\n<!-- Title: %3 Pages: 1 -->\n<svg width=\"1148pt\" height=\"156pt\"\n viewBox=\"0.00 0.00 1148.00 156.00\" xmlns=\"http://www.w3.org/2000/svg\" xmlns:xlink=\"http://www.w3.org/1999/xlink\">\n<g id=\"graph0\" class=\"graph\" transform=\"scale(1 1) rotate(0) translate(4 152)\">\n<title>%3</title>\n<polygon fill=\"white\" stroke=\"transparent\" points=\"-4,4 -4,-152 1144,-152 1144,4 -4,4\"/>\n<!-- 139870516664832 -->\n<g id=\"node1\" class=\"node\">\n<title>139870516664832</title>\n<polygon fill=\"none\" stroke=\"black\" points=\"0,-111.5 0,-147.5 190,-147.5 190,-111.5 0,-111.5\"/>\n<text text-anchor=\"middle\" x=\"11.5\" y=\"-125.8\" font-family=\"Times,serif\" font-size=\"14.00\">b</text>\n<polyline fill=\"none\" stroke=\"black\" points=\"23,-111.5 23,-147.5 \"/>\n<text text-anchor=\"middle\" x=\"65.5\" y=\"-125.8\" font-family=\"Times,serif\" font-size=\"14.00\">data &#45;3.0000</text>\n<polyline fill=\"none\" stroke=\"black\" points=\"108,-111.5 108,-147.5 \"/>\n<text text-anchor=\"middle\" x=\"149\" y=\"-125.8\" font-family=\"Times,serif\" font-size=\"14.00\">grad 0.0000</text>\n</g>\n<!-- 139870516665168* -->\n<g id=\"node10\" class=\"node\">\n<title>139870516665168*</title>\n<ellipse fill=\"none\" stroke=\"black\" cx=\"253\" cy=\"-101.5\" rx=\"27\" ry=\"18\"/>\n<text text-anchor=\"middle\" x=\"253\" y=\"-97.8\" font-family=\"Times,serif\" font-size=\"14.00\">*</text>\n</g>\n<!-- 139870516664832&#45;&gt;139870516665168* -->\n<g id=\"edge7\" class=\"edge\">\n<title>139870516664832&#45;&gt;139870516665168*</title>\n<path fill=\"none\" stroke=\"black\" d=\"M190.34,-112.57C199.62,-110.9 208.58,-109.29 216.66,-107.84\"/>\n<polygon fill=\"black\" stroke=\"black\" points=\"217.49,-111.25 226.72,-106.04 216.26,-104.36 217.49,-111.25\"/>\n</g>\n<!-- 139870516663872 -->\n<g id=\"node2\" class=\"node\">\n<title>139870516663872</title>\n<polygon fill=\"none\" stroke=\"black\" points=\"635.5,-55.5 635.5,-91.5 820.5,-91.5 820.5,-55.5 635.5,-55.5\"/>\n<text text-anchor=\"middle\" x=\"647\" y=\"-69.8\" font-family=\"Times,serif\" font-size=\"14.00\">d</text>\n<polyline fill=\"none\" stroke=\"black\" points=\"658.5,-55.5 658.5,-91.5 \"/>\n<text text-anchor=\"middle\" x=\"698.5\" y=\"-69.8\" font-family=\"Times,serif\" font-size=\"14.00\">data 4.0000</text>\n<polyline fill=\"none\" stroke=\"black\" points=\"738.5,-55.5 738.5,-91.5 \"/>\n<text text-anchor=\"middle\" x=\"779.5\" y=\"-69.8\" font-family=\"Times,serif\" font-size=\"14.00\">grad 0.0000</text>\n</g>\n<!-- 139870516662912* -->\n<g id=\"node5\" class=\"node\">\n<title>139870516662912*</title>\n<ellipse fill=\"none\" stroke=\"black\" cx=\"885\" cy=\"-45.5\" rx=\"27\" ry=\"18\"/>\n<text text-anchor=\"middle\" x=\"885\" y=\"-41.8\" font-family=\"Times,serif\" font-size=\"14.00\">*</text>\n</g>\n<!-- 139870516663872&#45;&gt;139870516662912* -->\n<g id=\"edge6\" class=\"edge\">\n<title>139870516663872&#45;&gt;139870516662912*</title>\n<path fill=\"none\" stroke=\"black\" d=\"M820.51,-56.97C830.48,-55.17 840.13,-53.42 848.77,-51.86\"/>\n<polygon fill=\"black\" stroke=\"black\" points=\"849.55,-55.28 858.77,-50.06 848.3,-48.39 849.55,-55.28\"/>\n</g>\n<!-- 139870516663872+ -->\n<g id=\"node3\" class=\"node\">\n<title>139870516663872+</title>\n<ellipse fill=\"none\" stroke=\"black\" cx=\"571\" cy=\"-73.5\" rx=\"27\" ry=\"18\"/>\n<text text-anchor=\"middle\" x=\"571\" y=\"-69.8\" font-family=\"Times,serif\" font-size=\"14.00\">+</text>\n</g>\n<!-- 139870516663872+&#45;&gt;139870516663872 -->\n<g id=\"edge1\" class=\"edge\">\n<title>139870516663872+&#45;&gt;139870516663872</title>\n<path fill=\"none\" stroke=\"black\" d=\"M598.29,-73.5C606.26,-73.5 615.54,-73.5 625.39,-73.5\"/>\n<polygon fill=\"black\" stroke=\"black\" points=\"625.41,-77 635.41,-73.5 625.41,-70 625.41,-77\"/>\n</g>\n<!-- 139870516662912 -->\n<g id=\"node4\" class=\"node\">\n<title>139870516662912</title>\n<polygon fill=\"none\" stroke=\"black\" points=\"948,-27.5 948,-63.5 1140,-63.5 1140,-27.5 948,-27.5\"/>\n<text text-anchor=\"middle\" x=\"960.5\" y=\"-41.8\" font-family=\"Times,serif\" font-size=\"14.00\">L</text>\n<polyline fill=\"none\" stroke=\"black\" points=\"973,-27.5 973,-63.5 \"/>\n<text text-anchor=\"middle\" x=\"1015.5\" y=\"-41.8\" font-family=\"Times,serif\" font-size=\"14.00\">data &#45;8.0000</text>\n<polyline fill=\"none\" stroke=\"black\" points=\"1058,-27.5 1058,-63.5 \"/>\n<text text-anchor=\"middle\" x=\"1099\" y=\"-41.8\" font-family=\"Times,serif\" font-size=\"14.00\">grad 1.0000</text>\n</g>\n<!-- 139870516662912*&#45;&gt;139870516662912 -->\n<g id=\"edge2\" class=\"edge\">\n<title>139870516662912*&#45;&gt;139870516662912</title>\n<path fill=\"none\" stroke=\"black\" d=\"M912.28,-45.5C919.78,-45.5 928.44,-45.5 937.67,-45.5\"/>\n<polygon fill=\"black\" stroke=\"black\" points=\"937.87,-49 947.87,-45.5 937.87,-42 937.87,-49\"/>\n</g>\n<!-- 139870516664496 -->\n<g id=\"node6\" class=\"node\">\n<title>139870516664496</title>\n<polygon fill=\"none\" stroke=\"black\" points=\"634,-0.5 634,-36.5 822,-36.5 822,-0.5 634,-0.5\"/>\n<text text-anchor=\"middle\" x=\"644.5\" y=\"-14.8\" font-family=\"Times,serif\" font-size=\"14.00\">f</text>\n<polyline fill=\"none\" stroke=\"black\" points=\"655,-0.5 655,-36.5 \"/>\n<text text-anchor=\"middle\" x=\"697.5\" y=\"-14.8\" font-family=\"Times,serif\" font-size=\"14.00\">data &#45;2.0000</text>\n<polyline fill=\"none\" stroke=\"black\" points=\"740,-0.5 740,-36.5 \"/>\n<text text-anchor=\"middle\" x=\"781\" y=\"-14.8\" font-family=\"Times,serif\" font-size=\"14.00\">grad 0.0000</text>\n</g>\n<!-- 139870516664496&#45;&gt;139870516662912* -->\n<g id=\"edge8\" class=\"edge\">\n<title>139870516664496&#45;&gt;139870516662912*</title>\n<path fill=\"none\" stroke=\"black\" d=\"M822.29,-34.75C831.57,-36.37 840.52,-37.93 848.61,-39.33\"/>\n<polygon fill=\"black\" stroke=\"black\" points=\"848.22,-42.82 858.68,-41.09 849.42,-35.92 848.22,-42.82\"/>\n</g>\n<!-- 139870516664016 -->\n<g id=\"node7\" class=\"node\">\n<title>139870516664016</title>\n<polygon fill=\"none\" stroke=\"black\" points=\"316,-28.5 316,-64.5 508,-64.5 508,-28.5 316,-28.5\"/>\n<text text-anchor=\"middle\" x=\"327.5\" y=\"-42.8\" font-family=\"Times,serif\" font-size=\"14.00\">c</text>\n<polyline fill=\"none\" stroke=\"black\" points=\"339,-28.5 339,-64.5 \"/>\n<text text-anchor=\"middle\" x=\"382.5\" y=\"-42.8\" font-family=\"Times,serif\" font-size=\"14.00\">data 10.0000</text>\n<polyline fill=\"none\" stroke=\"black\" points=\"426,-28.5 426,-64.5 \"/>\n<text text-anchor=\"middle\" x=\"467\" y=\"-42.8\" font-family=\"Times,serif\" font-size=\"14.00\">grad 0.0000</text>\n</g>\n<!-- 139870516664016&#45;&gt;139870516663872+ -->\n<g id=\"edge9\" class=\"edge\">\n<title>139870516664016&#45;&gt;139870516663872+</title>\n<path fill=\"none\" stroke=\"black\" d=\"M508.4,-62.91C517.69,-64.5 526.64,-66.04 534.71,-67.43\"/>\n<polygon fill=\"black\" stroke=\"black\" points=\"534.32,-70.91 544.76,-69.16 535.5,-64.02 534.32,-70.91\"/>\n</g>\n<!-- 139870516665600 -->\n<g id=\"node8\" class=\"node\">\n<title>139870516665600</title>\n<polygon fill=\"none\" stroke=\"black\" points=\"2.5,-56.5 2.5,-92.5 187.5,-92.5 187.5,-56.5 2.5,-56.5\"/>\n<text text-anchor=\"middle\" x=\"14\" y=\"-70.8\" font-family=\"Times,serif\" font-size=\"14.00\">a</text>\n<polyline fill=\"none\" stroke=\"black\" points=\"25.5,-56.5 25.5,-92.5 \"/>\n<text text-anchor=\"middle\" x=\"65.5\" y=\"-70.8\" font-family=\"Times,serif\" font-size=\"14.00\">data 2.0000</text>\n<polyline fill=\"none\" stroke=\"black\" points=\"105.5,-56.5 105.5,-92.5 \"/>\n<text text-anchor=\"middle\" x=\"146.5\" y=\"-70.8\" font-family=\"Times,serif\" font-size=\"14.00\">grad 0.0000</text>\n</g>\n<!-- 139870516665600&#45;&gt;139870516665168* -->\n<g id=\"edge5\" class=\"edge\">\n<title>139870516665600&#45;&gt;139870516665168*</title>\n<path fill=\"none\" stroke=\"black\" d=\"M187.65,-90.36C197.94,-92.14 207.91,-93.87 216.81,-95.41\"/>\n<polygon fill=\"black\" stroke=\"black\" points=\"216.26,-98.87 226.71,-97.12 217.45,-91.97 216.26,-98.87\"/>\n</g>\n<!-- 139870516665168 -->\n<g id=\"node9\" class=\"node\">\n<title>139870516665168</title>\n<polygon fill=\"none\" stroke=\"black\" points=\"317,-83.5 317,-119.5 507,-119.5 507,-83.5 317,-83.5\"/>\n<text text-anchor=\"middle\" x=\"328.5\" y=\"-97.8\" font-family=\"Times,serif\" font-size=\"14.00\">e</text>\n<polyline fill=\"none\" stroke=\"black\" points=\"340,-83.5 340,-119.5 \"/>\n<text text-anchor=\"middle\" x=\"382.5\" y=\"-97.8\" font-family=\"Times,serif\" font-size=\"14.00\">data &#45;6.0000</text>\n<polyline fill=\"none\" stroke=\"black\" points=\"425,-83.5 425,-119.5 \"/>\n<text text-anchor=\"middle\" x=\"466\" y=\"-97.8\" font-family=\"Times,serif\" font-size=\"14.00\">grad 0.0000</text>\n</g>\n<!-- 139870516665168&#45;&gt;139870516663872+ -->\n<g id=\"edge4\" class=\"edge\">\n<title>139870516665168&#45;&gt;139870516663872+</title>\n<path fill=\"none\" stroke=\"black\" d=\"M507.05,-84.73C516.89,-82.97 526.39,-81.28 534.9,-79.76\"/>\n<polygon fill=\"black\" stroke=\"black\" points=\"535.52,-83.2 544.75,-78 534.29,-76.31 535.52,-83.2\"/>\n</g>\n<!-- 139870516665168*&#45;&gt;139870516665168 -->\n<g id=\"edge3\" class=\"edge\">\n<title>139870516665168*&#45;&gt;139870516665168</title>\n<path fill=\"none\" stroke=\"black\" d=\"M280.28,-101.5C288.05,-101.5 297.08,-101.5 306.68,-101.5\"/>\n<polygon fill=\"black\" stroke=\"black\" points=\"306.88,-105 316.88,-101.5 306.88,-98 306.88,-105\"/>\n</g>\n</g>\n</svg>\n"
          },
          "metadata": {},
          "execution_count": 85
        }
      ]
    },
    {
      "cell_type": "markdown",
      "source": [
        "Backpropagation and derivative idea\n",
        "$L = d * f$\n",
        "\n",
        "$\\frac{dL}{dd} = ?$\n",
        "\n",
        "$\\frac{g(x+h) - g(x)}{h} = \\frac{(d+h)*f - d*f}{h} = f$\n",
        "\n",
        "now what is $\\frac{dd}{dc} ? $\n",
        "\n",
        "$d = c + e$ \n",
        "\n",
        "$\\frac{g(x+h) - g(x)}{h} = \\frac{(c+h)+e - c+e}{h} = 1$\n",
        "\n",
        "\n",
        "what is $\\frac{dd}{de} ? $\n",
        "\n",
        "$\\frac{g(x+h) - g(x)}{h} = \\frac{c+(e+h) - c+e}{h} = 1$\n",
        "\n",
        "But what we are looking for here is to find $\\frac{dL}{dc} = \\frac{dL}{dd} * \\frac{dd}{dc} $\n",
        "\n",
        "\n",
        "$e = a * b$ \n",
        "Next we want $\\frac{dL}{da} = \\frac{dL}{de} * \\frac{de}{da} $"
      ],
      "metadata": {
        "id": "34EiTqnP6Akn"
      }
    },
    {
      "cell_type": "code",
      "source": [
        "\n",
        "a = Value_v5(2.0, label='a')\n",
        "b = Value_v5(-3.0, label='b')\n",
        "c = Value_v5(10.0, label='c')\n",
        "e = a * b; e.label = 'e'\n",
        "d = e + c; d.label = 'd'\n",
        "f = Value_v5(-2.0, label='f')\n",
        "L = d*f; L.label = 'L'\n",
        "L.grad = 1\n",
        "f.grad = 4.0\n",
        "d.grad = -2.0\n",
        "c.grad = -2.0\n",
        "e.grad = -2.0\n",
        "a.grad = (-2.0 * -3.0)\n",
        "b.grad = (-2.0 * 2.0)\n",
        "draw_dot(L)"
      ],
      "metadata": {
        "colab": {
          "base_uri": "https://localhost:8080/",
          "height": 227
        },
        "id": "g4Ww-vvy5_V0",
        "outputId": "95b28883-de2b-46fb-8e13-6c520d5fbb91"
      },
      "execution_count": 102,
      "outputs": [
        {
          "output_type": "execute_result",
          "data": {
            "text/plain": [
              "<graphviz.dot.Digraph at 0x7f3624758b20>"
            ],
            "image/svg+xml": "<?xml version=\"1.0\" encoding=\"UTF-8\" standalone=\"no\"?>\n<!DOCTYPE svg PUBLIC \"-//W3C//DTD SVG 1.1//EN\"\n \"http://www.w3.org/Graphics/SVG/1.1/DTD/svg11.dtd\">\n<!-- Generated by graphviz version 2.43.0 (0)\n -->\n<!-- Title: %3 Pages: 1 -->\n<svg width=\"1157pt\" height=\"154pt\"\n viewBox=\"0.00 0.00 1157.00 154.00\" xmlns=\"http://www.w3.org/2000/svg\" xmlns:xlink=\"http://www.w3.org/1999/xlink\">\n<g id=\"graph0\" class=\"graph\" transform=\"scale(1 1) rotate(0) translate(4 150)\">\n<title>%3</title>\n<polygon fill=\"white\" stroke=\"transparent\" points=\"-4,4 -4,-150 1153,-150 1153,4 -4,4\"/>\n<!-- 139870517032464 -->\n<g id=\"node1\" class=\"node\">\n<title>139870517032464</title>\n<polygon fill=\"none\" stroke=\"black\" points=\"321,-27.5 321,-63.5 515,-63.5 515,-27.5 321,-27.5\"/>\n<text text-anchor=\"middle\" x=\"332.5\" y=\"-41.8\" font-family=\"Times,serif\" font-size=\"14.00\">e</text>\n<polyline fill=\"none\" stroke=\"black\" points=\"344,-27.5 344,-63.5 \"/>\n<text text-anchor=\"middle\" x=\"386.5\" y=\"-41.8\" font-family=\"Times,serif\" font-size=\"14.00\">data &#45;6.0000</text>\n<polyline fill=\"none\" stroke=\"black\" points=\"429,-27.5 429,-63.5 \"/>\n<text text-anchor=\"middle\" x=\"472\" y=\"-41.8\" font-family=\"Times,serif\" font-size=\"14.00\">grad &#45;2.0000</text>\n</g>\n<!-- 139870516642672+ -->\n<g id=\"node9\" class=\"node\">\n<title>139870516642672+</title>\n<ellipse fill=\"none\" stroke=\"black\" cx=\"579\" cy=\"-72.5\" rx=\"27\" ry=\"18\"/>\n<text text-anchor=\"middle\" x=\"579\" y=\"-68.8\" font-family=\"Times,serif\" font-size=\"14.00\">+</text>\n</g>\n<!-- 139870517032464&#45;&gt;139870516642672+ -->\n<g id=\"edge9\" class=\"edge\">\n<title>139870517032464&#45;&gt;139870516642672+</title>\n<path fill=\"none\" stroke=\"black\" d=\"M515.16,-61.83C524.82,-63.47 534.13,-65.05 542.49,-66.47\"/>\n<polygon fill=\"black\" stroke=\"black\" points=\"542.09,-69.95 552.54,-68.18 543.26,-63.05 542.09,-69.95\"/>\n</g>\n<!-- 139870517032464* -->\n<g id=\"node2\" class=\"node\">\n<title>139870517032464*</title>\n<ellipse fill=\"none\" stroke=\"black\" cx=\"257\" cy=\"-45.5\" rx=\"27\" ry=\"18\"/>\n<text text-anchor=\"middle\" x=\"257\" y=\"-41.8\" font-family=\"Times,serif\" font-size=\"14.00\">*</text>\n</g>\n<!-- 139870517032464*&#45;&gt;139870517032464 -->\n<g id=\"edge1\" class=\"edge\">\n<title>139870517032464*&#45;&gt;139870517032464</title>\n<path fill=\"none\" stroke=\"black\" d=\"M284.26,-45.5C292.05,-45.5 301.1,-45.5 310.75,-45.5\"/>\n<polygon fill=\"black\" stroke=\"black\" points=\"310.99,-49 320.99,-45.5 310.99,-42 310.99,-49\"/>\n</g>\n<!-- 139870516642864 -->\n<g id=\"node3\" class=\"node\">\n<title>139870516642864</title>\n<polygon fill=\"none\" stroke=\"black\" points=\"642.5,-109.5 642.5,-145.5 830.5,-145.5 830.5,-109.5 642.5,-109.5\"/>\n<text text-anchor=\"middle\" x=\"653\" y=\"-123.8\" font-family=\"Times,serif\" font-size=\"14.00\">f</text>\n<polyline fill=\"none\" stroke=\"black\" points=\"663.5,-109.5 663.5,-145.5 \"/>\n<text text-anchor=\"middle\" x=\"706\" y=\"-123.8\" font-family=\"Times,serif\" font-size=\"14.00\">data &#45;2.0000</text>\n<polyline fill=\"none\" stroke=\"black\" points=\"748.5,-109.5 748.5,-145.5 \"/>\n<text text-anchor=\"middle\" x=\"789.5\" y=\"-123.8\" font-family=\"Times,serif\" font-size=\"14.00\">grad 4.0000</text>\n</g>\n<!-- 139870517033760* -->\n<g id=\"node7\" class=\"node\">\n<title>139870517033760*</title>\n<ellipse fill=\"none\" stroke=\"black\" cx=\"894\" cy=\"-99.5\" rx=\"27\" ry=\"18\"/>\n<text text-anchor=\"middle\" x=\"894\" y=\"-95.8\" font-family=\"Times,serif\" font-size=\"14.00\">*</text>\n</g>\n<!-- 139870516642864&#45;&gt;139870517033760* -->\n<g id=\"edge8\" class=\"edge\">\n<title>139870516642864&#45;&gt;139870517033760*</title>\n<path fill=\"none\" stroke=\"black\" d=\"M830.65,-110.73C840.2,-109.01 849.43,-107.35 857.72,-105.85\"/>\n<polygon fill=\"black\" stroke=\"black\" points=\"858.47,-109.27 867.69,-104.06 857.23,-102.39 858.47,-109.27\"/>\n</g>\n<!-- 139870517032560 -->\n<g id=\"node4\" class=\"node\">\n<title>139870517032560</title>\n<polygon fill=\"none\" stroke=\"black\" points=\"4.5,-55.5 4.5,-91.5 189.5,-91.5 189.5,-55.5 4.5,-55.5\"/>\n<text text-anchor=\"middle\" x=\"16\" y=\"-69.8\" font-family=\"Times,serif\" font-size=\"14.00\">a</text>\n<polyline fill=\"none\" stroke=\"black\" points=\"27.5,-55.5 27.5,-91.5 \"/>\n<text text-anchor=\"middle\" x=\"67.5\" y=\"-69.8\" font-family=\"Times,serif\" font-size=\"14.00\">data 2.0000</text>\n<polyline fill=\"none\" stroke=\"black\" points=\"107.5,-55.5 107.5,-91.5 \"/>\n<text text-anchor=\"middle\" x=\"148.5\" y=\"-69.8\" font-family=\"Times,serif\" font-size=\"14.00\">grad 6.0000</text>\n</g>\n<!-- 139870517032560&#45;&gt;139870517032464* -->\n<g id=\"edge4\" class=\"edge\">\n<title>139870517032560&#45;&gt;139870517032464*</title>\n<path fill=\"none\" stroke=\"black\" d=\"M189.91,-57.21C200.76,-55.29 211.28,-53.43 220.61,-51.77\"/>\n<polygon fill=\"black\" stroke=\"black\" points=\"221.37,-55.19 230.6,-50 220.15,-48.3 221.37,-55.19\"/>\n</g>\n<!-- 139870517031648 -->\n<g id=\"node5\" class=\"node\">\n<title>139870517031648</title>\n<polygon fill=\"none\" stroke=\"black\" points=\"320,-82.5 320,-118.5 516,-118.5 516,-82.5 320,-82.5\"/>\n<text text-anchor=\"middle\" x=\"331.5\" y=\"-96.8\" font-family=\"Times,serif\" font-size=\"14.00\">c</text>\n<polyline fill=\"none\" stroke=\"black\" points=\"343,-82.5 343,-118.5 \"/>\n<text text-anchor=\"middle\" x=\"386.5\" y=\"-96.8\" font-family=\"Times,serif\" font-size=\"14.00\">data 10.0000</text>\n<polyline fill=\"none\" stroke=\"black\" points=\"430,-82.5 430,-118.5 \"/>\n<text text-anchor=\"middle\" x=\"473\" y=\"-96.8\" font-family=\"Times,serif\" font-size=\"14.00\">grad &#45;2.0000</text>\n</g>\n<!-- 139870517031648&#45;&gt;139870516642672+ -->\n<g id=\"edge5\" class=\"edge\">\n<title>139870517031648&#45;&gt;139870516642672+</title>\n<path fill=\"none\" stroke=\"black\" d=\"M516.07,-83.41C525.42,-81.76 534.43,-80.17 542.55,-78.74\"/>\n<polygon fill=\"black\" stroke=\"black\" points=\"543.41,-82.15 552.65,-76.96 542.2,-75.25 543.41,-82.15\"/>\n</g>\n<!-- 139870517033760 -->\n<g id=\"node6\" class=\"node\">\n<title>139870517033760</title>\n<polygon fill=\"none\" stroke=\"black\" points=\"957,-81.5 957,-117.5 1149,-117.5 1149,-81.5 957,-81.5\"/>\n<text text-anchor=\"middle\" x=\"969.5\" y=\"-95.8\" font-family=\"Times,serif\" font-size=\"14.00\">L</text>\n<polyline fill=\"none\" stroke=\"black\" points=\"982,-81.5 982,-117.5 \"/>\n<text text-anchor=\"middle\" x=\"1024.5\" y=\"-95.8\" font-family=\"Times,serif\" font-size=\"14.00\">data &#45;8.0000</text>\n<polyline fill=\"none\" stroke=\"black\" points=\"1067,-81.5 1067,-117.5 \"/>\n<text text-anchor=\"middle\" x=\"1108\" y=\"-95.8\" font-family=\"Times,serif\" font-size=\"14.00\">grad 1.0000</text>\n</g>\n<!-- 139870517033760*&#45;&gt;139870517033760 -->\n<g id=\"edge2\" class=\"edge\">\n<title>139870517033760*&#45;&gt;139870517033760</title>\n<path fill=\"none\" stroke=\"black\" d=\"M921.28,-99.5C928.78,-99.5 937.44,-99.5 946.67,-99.5\"/>\n<polygon fill=\"black\" stroke=\"black\" points=\"946.87,-103 956.87,-99.5 946.87,-96 946.87,-103\"/>\n</g>\n<!-- 139870516642672 -->\n<g id=\"node8\" class=\"node\">\n<title>139870516642672</title>\n<polygon fill=\"none\" stroke=\"black\" points=\"642,-54.5 642,-90.5 831,-90.5 831,-54.5 642,-54.5\"/>\n<text text-anchor=\"middle\" x=\"653.5\" y=\"-68.8\" font-family=\"Times,serif\" font-size=\"14.00\">d</text>\n<polyline fill=\"none\" stroke=\"black\" points=\"665,-54.5 665,-90.5 \"/>\n<text text-anchor=\"middle\" x=\"705\" y=\"-68.8\" font-family=\"Times,serif\" font-size=\"14.00\">data 4.0000</text>\n<polyline fill=\"none\" stroke=\"black\" points=\"745,-54.5 745,-90.5 \"/>\n<text text-anchor=\"middle\" x=\"788\" y=\"-68.8\" font-family=\"Times,serif\" font-size=\"14.00\">grad &#45;2.0000</text>\n</g>\n<!-- 139870516642672&#45;&gt;139870517033760* -->\n<g id=\"edge6\" class=\"edge\">\n<title>139870516642672&#45;&gt;139870517033760*</title>\n<path fill=\"none\" stroke=\"black\" d=\"M831.1,-88.75C840.4,-90.37 849.38,-91.93 857.49,-93.33\"/>\n<polygon fill=\"black\" stroke=\"black\" points=\"857.14,-96.83 867.59,-95.09 858.34,-89.93 857.14,-96.83\"/>\n</g>\n<!-- 139870516642672+&#45;&gt;139870516642672 -->\n<g id=\"edge3\" class=\"edge\">\n<title>139870516642672+&#45;&gt;139870516642672</title>\n<path fill=\"none\" stroke=\"black\" d=\"M606.03,-72.5C613.66,-72.5 622.52,-72.5 631.94,-72.5\"/>\n<polygon fill=\"black\" stroke=\"black\" points=\"631.94,-76 641.94,-72.5 631.94,-69 631.94,-76\"/>\n</g>\n<!-- 139870517031792 -->\n<g id=\"node10\" class=\"node\">\n<title>139870517031792</title>\n<polygon fill=\"none\" stroke=\"black\" points=\"0,-0.5 0,-36.5 194,-36.5 194,-0.5 0,-0.5\"/>\n<text text-anchor=\"middle\" x=\"11.5\" y=\"-14.8\" font-family=\"Times,serif\" font-size=\"14.00\">b</text>\n<polyline fill=\"none\" stroke=\"black\" points=\"23,-0.5 23,-36.5 \"/>\n<text text-anchor=\"middle\" x=\"65.5\" y=\"-14.8\" font-family=\"Times,serif\" font-size=\"14.00\">data &#45;3.0000</text>\n<polyline fill=\"none\" stroke=\"black\" points=\"108,-0.5 108,-36.5 \"/>\n<text text-anchor=\"middle\" x=\"151\" y=\"-14.8\" font-family=\"Times,serif\" font-size=\"14.00\">grad &#45;4.0000</text>\n</g>\n<!-- 139870517031792&#45;&gt;139870517032464* -->\n<g id=\"edge7\" class=\"edge\">\n<title>139870517031792&#45;&gt;139870517032464*</title>\n<path fill=\"none\" stroke=\"black\" d=\"M194.01,-34.91C203.35,-36.5 212.37,-38.04 220.49,-39.43\"/>\n<polygon fill=\"black\" stroke=\"black\" points=\"220.16,-42.93 230.6,-41.16 221.34,-36.03 220.16,-42.93\"/>\n</g>\n</g>\n</svg>\n"
          },
          "metadata": {},
          "execution_count": 102
        }
      ]
    },
    {
      "cell_type": "markdown",
      "source": [
        "We can verify the above derivatives by adding h to any variable $v_{temp}$ to compute $\\frac{dL}{d v_{temp}}$"
      ],
      "metadata": {
        "id": "Z7q6akkYBeix"
      }
    },
    {
      "cell_type": "code",
      "source": [
        "def lol():\n",
        "  h = 0.0001\n",
        "  a = Value_v5(2.0, label='a')\n",
        "  b = Value_v5(-3.0, label='b')\n",
        "  c = Value_v5(10.0, label='c')\n",
        "  e = a * b; e.label = 'e'\n",
        "  d = e + c; d.label = 'd'\n",
        "  f = Value_v5(-2.0, label='f')\n",
        "  L = d*f; L.label = 'L'\n",
        "  L1 = L.data # L is a Value node, so we want its data\n",
        "\n",
        "\n",
        "  a = Value_v5(2.0, label='a')\n",
        "  # a.data += h\n",
        "  b = Value_v5(-3.0, label='b')\n",
        "  # b.data += h\n",
        "  c = Value_v5(10.0, label='c')\n",
        "  # c.data += h\n",
        "  e = a * b; e.label = 'e'\n",
        "  d = e + c; d.label = 'd'\n",
        "  # d.data += h\n",
        "\n",
        "  f = Value_v5(-2.0, label='f')\n",
        "  L = d*f; L.label = 'L'\n",
        "  L2 = L.data\n",
        "\n",
        "  print((L2 - L1)/h)\n",
        "\n",
        "lol()"
      ],
      "metadata": {
        "colab": {
          "base_uri": "https://localhost:8080/"
        },
        "id": "BfUWVQeh4dQ9",
        "outputId": "f4ea25fe-aa34-424d-8718-f7e65c546d2f"
      },
      "execution_count": 103,
      "outputs": [
        {
          "output_type": "stream",
          "name": "stdout",
          "text": [
            "0.0\n"
          ]
        }
      ]
    },
    {
      "cell_type": "markdown",
      "source": [
        "Forward Pass"
      ],
      "metadata": {
        "id": "QC36uUxtDh-z"
      }
    },
    {
      "cell_type": "code",
      "source": [
        "a.data += 0.01 * a.grad\n",
        "b.data += 0.01 * b.grad\n",
        "c.data += 0.01 * c.grad\n",
        "f.data += 0.01 * f.grad\n",
        "\n",
        "e = a * b\n",
        "d = e + c\n",
        "L = d * f\n",
        "\n",
        "print(L.data)"
      ],
      "metadata": {
        "colab": {
          "base_uri": "https://localhost:8080/"
        },
        "id": "zWzLjdhADFvL",
        "outputId": "4b9272c3-fe42-4c0a-e82c-2e8fd62b4dc6"
      },
      "execution_count": 107,
      "outputs": [
        {
          "output_type": "stream",
          "name": "stdout",
          "text": [
            "-6.586368000000001\n"
          ]
        }
      ]
    },
    {
      "cell_type": "markdown",
      "source": [
        "**adding exponent into the `Value` class**"
      ],
      "metadata": {
        "id": "VIY39-doFNgC"
      }
    },
    {
      "cell_type": "code",
      "source": [
        "class Value:\n",
        "  \n",
        "  def __init__(self, data, _children=(), _op = '', label=''):\n",
        "    self.data = data\n",
        "    self.grad = 0 # At the initialization, we assume that any values does not affect the Loss Function\n",
        "    self._prev = set(_children)\n",
        "    self._op = _op\n",
        "    self.label = label\n",
        "\n",
        "  def __repr__(self): \n",
        "    return f\"Value(data={self.data})\"\n",
        "\n",
        "  def __add__(self, other):\n",
        "    out = Value(self.data + other.data, (self, other), '+')\n",
        "    return out\n",
        "\n",
        "  def __mul__(self, other):\n",
        "    out = Value(self.data * other.data, (self, other), '*')\n",
        "    return out\n",
        "\n",
        "  def tanh(self):\n",
        "    x = self.data\n",
        "    t = (math.exp(2*x) - 1) / (math.exp(2*x) + 1)\n",
        "    out = Value(t, (self, ), 'tanh')\n",
        "    return out"
      ],
      "metadata": {
        "id": "nA82Uz5rFM--"
      },
      "execution_count": 118,
      "outputs": []
    },
    {
      "cell_type": "markdown",
      "source": [
        "Building neurons "
      ],
      "metadata": {
        "id": "SAx79X0QEmpI"
      }
    },
    {
      "cell_type": "code",
      "source": [
        "plt.plot(np.arange(-5, 5, 0.2), np.tanh(np.arange(-5, 5, 0.2))); plt.grid()"
      ],
      "metadata": {
        "colab": {
          "base_uri": "https://localhost:8080/",
          "height": 265
        },
        "id": "UfV40ip87OoX",
        "outputId": "ae768359-a0d1-4251-8c6b-dbd5ee17fcea"
      },
      "execution_count": 119,
      "outputs": [
        {
          "output_type": "display_data",
          "data": {
            "text/plain": [
              "<Figure size 432x288 with 1 Axes>"
            ],
            "image/png": "[encoded data removed]"
          },
          "metadata": {
            "needs_background": "light"
          }
        }
      ]
    },
    {
      "cell_type": "markdown",
      "source": [
        "Example 1 to see the impact of tanh"
      ],
      "metadata": {
        "id": "2WlbI7M2IQDm"
      }
    },
    {
      "cell_type": "code",
      "source": [
        "# Inputs x1,x2\n",
        "x1 = Value(2.0, label='x1')\n",
        "x2 = Value(0.0, label='x2')\n",
        "# Weigths w1, w2\n",
        "w1 = Value(-3.0, label='w1')\n",
        "w2 = Value(1.0, label='w2')\n",
        "# Bias of the neuron (triger to make the neuron happy!!!)\n",
        "b = Value(6.7, label='b')\n",
        "x1w1 = x1*w1; x1w1.label = 'x1*w1'\n",
        "x2w2 = x2*w2; x2w2.label = 'x2*w2'\n",
        "x1w1x2w2 = x1w1 + x2w2; x1w1x2w2.label = 'x1*w1 + x2*w2'\n",
        "n = x1w1x2w2 + b; n.label = 'n'\n",
        "o = n.tanh()\n",
        "# draw_dot(n)\n",
        "draw_dot(o)"
      ],
      "metadata": {
        "colab": {
          "base_uri": "https://localhost:8080/",
          "height": 321
        },
        "id": "g7-3O3hmE4oD",
        "outputId": "55c6b1dd-49b0-4203-f46d-67d5fc81d7b7"
      },
      "execution_count": 120,
      "outputs": [
        {
          "output_type": "execute_result",
          "data": {
            "text/plain": [
              "<graphviz.dot.Digraph at 0x7f36245aaa30>"
            ],
            "image/svg+xml": "<?xml version=\"1.0\" encoding=\"UTF-8\" standalone=\"no\"?>\n<!DOCTYPE svg PUBLIC \"-//W3C//DTD SVG 1.1//EN\"\n \"http://www.w3.org/Graphics/SVG/1.1/DTD/svg11.dtd\">\n<!-- Generated by graphviz version 2.43.0 (0)\n -->\n<!-- Title: %3 Pages: 1 -->\n<svg width=\"1572pt\" height=\"210pt\"\n viewBox=\"0.00 0.00 1572.00 210.00\" xmlns=\"http://www.w3.org/2000/svg\" xmlns:xlink=\"http://www.w3.org/1999/xlink\">\n<g id=\"graph0\" class=\"graph\" transform=\"scale(1 1) rotate(0) translate(4 206)\">\n<title>%3</title>\n<polygon fill=\"white\" stroke=\"transparent\" points=\"-4,4 -4,-206 1568,-206 1568,4 -4,4\"/>\n<!-- 139870514884128 -->\n<g id=\"node1\" class=\"node\">\n<title>139870514884128</title>\n<polygon fill=\"none\" stroke=\"black\" points=\"0,-165.5 0,-201.5 200,-201.5 200,-165.5 0,-165.5\"/>\n<text text-anchor=\"middle\" x=\"16.5\" y=\"-179.8\" font-family=\"Times,serif\" font-size=\"14.00\">w1</text>\n<polyline fill=\"none\" stroke=\"black\" points=\"33,-165.5 33,-201.5 \"/>\n<text text-anchor=\"middle\" x=\"75.5\" y=\"-179.8\" font-family=\"Times,serif\" font-size=\"14.00\">data &#45;3.0000</text>\n<polyline fill=\"none\" stroke=\"black\" points=\"118,-165.5 118,-201.5 \"/>\n<text text-anchor=\"middle\" x=\"159\" y=\"-179.8\" font-family=\"Times,serif\" font-size=\"14.00\">grad 0.0000</text>\n</g>\n<!-- 139870514882880* -->\n<g id=\"node10\" class=\"node\">\n<title>139870514882880*</title>\n<ellipse fill=\"none\" stroke=\"black\" cx=\"263\" cy=\"-128.5\" rx=\"27\" ry=\"18\"/>\n<text text-anchor=\"middle\" x=\"263\" y=\"-124.8\" font-family=\"Times,serif\" font-size=\"14.00\">*</text>\n</g>\n<!-- 139870514884128&#45;&gt;139870514882880* -->\n<g id=\"edge8\" class=\"edge\">\n<title>139870514884128&#45;&gt;139870514882880*</title>\n<path fill=\"none\" stroke=\"black\" d=\"M172.53,-165.44C181.84,-162.67 191.2,-159.67 200,-156.5 210.53,-152.71 221.75,-147.9 231.72,-143.33\"/>\n<polygon fill=\"black\" stroke=\"black\" points=\"233.25,-146.48 240.82,-139.07 230.28,-140.14 233.25,-146.48\"/>\n</g>\n<!-- 139870514882112 -->\n<g id=\"node2\" class=\"node\">\n<title>139870514882112</title>\n<polygon fill=\"none\" stroke=\"black\" points=\"4,-55.5 4,-91.5 196,-91.5 196,-55.5 4,-55.5\"/>\n<text text-anchor=\"middle\" x=\"19\" y=\"-69.8\" font-family=\"Times,serif\" font-size=\"14.00\">x2</text>\n<polyline fill=\"none\" stroke=\"black\" points=\"34,-55.5 34,-91.5 \"/>\n<text text-anchor=\"middle\" x=\"74\" y=\"-69.8\" font-family=\"Times,serif\" font-size=\"14.00\">data 0.0000</text>\n<polyline fill=\"none\" stroke=\"black\" points=\"114,-55.5 114,-91.5 \"/>\n<text text-anchor=\"middle\" x=\"155\" y=\"-69.8\" font-family=\"Times,serif\" font-size=\"14.00\">grad 0.0000</text>\n</g>\n<!-- 139870514882304* -->\n<g id=\"node8\" class=\"node\">\n<title>139870514882304*</title>\n<ellipse fill=\"none\" stroke=\"black\" cx=\"263\" cy=\"-73.5\" rx=\"27\" ry=\"18\"/>\n<text text-anchor=\"middle\" x=\"263\" y=\"-69.8\" font-family=\"Times,serif\" font-size=\"14.00\">*</text>\n</g>\n<!-- 139870514882112&#45;&gt;139870514882304* -->\n<g id=\"edge10\" class=\"edge\">\n<title>139870514882112&#45;&gt;139870514882304*</title>\n<path fill=\"none\" stroke=\"black\" d=\"M196.05,-73.5C206.52,-73.5 216.65,-73.5 225.71,-73.5\"/>\n<polygon fill=\"black\" stroke=\"black\" points=\"225.79,-77 235.79,-73.5 225.79,-70 225.79,-77\"/>\n</g>\n<!-- 139870514882688 -->\n<g id=\"node3\" class=\"node\">\n<title>139870514882688</title>\n<polygon fill=\"none\" stroke=\"black\" points=\"716,-27.5 716,-63.5 901,-63.5 901,-27.5 716,-27.5\"/>\n<text text-anchor=\"middle\" x=\"727.5\" y=\"-41.8\" font-family=\"Times,serif\" font-size=\"14.00\">b</text>\n<polyline fill=\"none\" stroke=\"black\" points=\"739,-27.5 739,-63.5 \"/>\n<text text-anchor=\"middle\" x=\"779\" y=\"-41.8\" font-family=\"Times,serif\" font-size=\"14.00\">data 6.7000</text>\n<polyline fill=\"none\" stroke=\"black\" points=\"819,-27.5 819,-63.5 \"/>\n<text text-anchor=\"middle\" x=\"860\" y=\"-41.8\" font-family=\"Times,serif\" font-size=\"14.00\">grad 0.0000</text>\n</g>\n<!-- 139870514882016+ -->\n<g id=\"node15\" class=\"node\">\n<title>139870514882016+</title>\n<ellipse fill=\"none\" stroke=\"black\" cx=\"1008\" cy=\"-72.5\" rx=\"27\" ry=\"18\"/>\n<text text-anchor=\"middle\" x=\"1008\" y=\"-68.8\" font-family=\"Times,serif\" font-size=\"14.00\">+</text>\n</g>\n<!-- 139870514882688&#45;&gt;139870514882016+ -->\n<g id=\"edge14\" class=\"edge\">\n<title>139870514882688&#45;&gt;139870514882016+</title>\n<path fill=\"none\" stroke=\"black\" d=\"M901.02,-58.01C926,-61.43 951.59,-64.93 971.37,-67.63\"/>\n<polygon fill=\"black\" stroke=\"black\" points=\"971.05,-71.12 981.43,-69.01 972,-64.18 971.05,-71.12\"/>\n</g>\n<!-- 139870514882208 -->\n<g id=\"node4\" class=\"node\">\n<title>139870514882208</title>\n<polygon fill=\"none\" stroke=\"black\" points=\"1382,-54.5 1382,-90.5 1564,-90.5 1564,-54.5 1382,-54.5\"/>\n<text text-anchor=\"middle\" x=\"1392\" y=\"-68.8\" font-family=\"Times,serif\" font-size=\"14.00\"> </text>\n<polyline fill=\"none\" stroke=\"black\" points=\"1402,-54.5 1402,-90.5 \"/>\n<text text-anchor=\"middle\" x=\"1442\" y=\"-68.8\" font-family=\"Times,serif\" font-size=\"14.00\">data 0.6044</text>\n<polyline fill=\"none\" stroke=\"black\" points=\"1482,-54.5 1482,-90.5 \"/>\n<text text-anchor=\"middle\" x=\"1523\" y=\"-68.8\" font-family=\"Times,serif\" font-size=\"14.00\">grad 0.0000</text>\n</g>\n<!-- 139870514882208tanh -->\n<g id=\"node5\" class=\"node\">\n<title>139870514882208tanh</title>\n<ellipse fill=\"none\" stroke=\"black\" cx=\"1319\" cy=\"-72.5\" rx=\"27\" ry=\"18\"/>\n<text text-anchor=\"middle\" x=\"1319\" y=\"-68.8\" font-family=\"Times,serif\" font-size=\"14.00\">tanh</text>\n</g>\n<!-- 139870514882208tanh&#45;&gt;139870514882208 -->\n<g id=\"edge1\" class=\"edge\">\n<title>139870514882208tanh&#45;&gt;139870514882208</title>\n<path fill=\"none\" stroke=\"black\" d=\"M1346.13,-72.5C1353.67,-72.5 1362.39,-72.5 1371.64,-72.5\"/>\n<polygon fill=\"black\" stroke=\"black\" points=\"1371.87,-76 1381.87,-72.5 1371.87,-69 1371.87,-76\"/>\n</g>\n<!-- 139870514882784 -->\n<g id=\"node6\" class=\"node\">\n<title>139870514882784</title>\n<polygon fill=\"none\" stroke=\"black\" points=\"4,-110.5 4,-146.5 196,-146.5 196,-110.5 4,-110.5\"/>\n<text text-anchor=\"middle\" x=\"19\" y=\"-124.8\" font-family=\"Times,serif\" font-size=\"14.00\">x1</text>\n<polyline fill=\"none\" stroke=\"black\" points=\"34,-110.5 34,-146.5 \"/>\n<text text-anchor=\"middle\" x=\"74\" y=\"-124.8\" font-family=\"Times,serif\" font-size=\"14.00\">data 2.0000</text>\n<polyline fill=\"none\" stroke=\"black\" points=\"114,-110.5 114,-146.5 \"/>\n<text text-anchor=\"middle\" x=\"155\" y=\"-124.8\" font-family=\"Times,serif\" font-size=\"14.00\">grad 0.0000</text>\n</g>\n<!-- 139870514882784&#45;&gt;139870514882880* -->\n<g id=\"edge6\" class=\"edge\">\n<title>139870514882784&#45;&gt;139870514882880*</title>\n<path fill=\"none\" stroke=\"black\" d=\"M196.05,-128.5C206.52,-128.5 216.65,-128.5 225.71,-128.5\"/>\n<polygon fill=\"black\" stroke=\"black\" points=\"225.79,-132 235.79,-128.5 225.79,-125 225.79,-132\"/>\n</g>\n<!-- 139870514882304 -->\n<g id=\"node7\" class=\"node\">\n<title>139870514882304</title>\n<polygon fill=\"none\" stroke=\"black\" points=\"328.5,-55.5 328.5,-91.5 543.5,-91.5 543.5,-55.5 328.5,-55.5\"/>\n<text text-anchor=\"middle\" x=\"355\" y=\"-69.8\" font-family=\"Times,serif\" font-size=\"14.00\">x2*w2</text>\n<polyline fill=\"none\" stroke=\"black\" points=\"381.5,-55.5 381.5,-91.5 \"/>\n<text text-anchor=\"middle\" x=\"421.5\" y=\"-69.8\" font-family=\"Times,serif\" font-size=\"14.00\">data 0.0000</text>\n<polyline fill=\"none\" stroke=\"black\" points=\"461.5,-55.5 461.5,-91.5 \"/>\n<text text-anchor=\"middle\" x=\"502.5\" y=\"-69.8\" font-family=\"Times,serif\" font-size=\"14.00\">grad 0.0000</text>\n</g>\n<!-- 139870514882400+ -->\n<g id=\"node12\" class=\"node\">\n<title>139870514882400+</title>\n<ellipse fill=\"none\" stroke=\"black\" cx=\"609\" cy=\"-100.5\" rx=\"27\" ry=\"18\"/>\n<text text-anchor=\"middle\" x=\"609\" y=\"-96.8\" font-family=\"Times,serif\" font-size=\"14.00\">+</text>\n</g>\n<!-- 139870514882304&#45;&gt;139870514882400+ -->\n<g id=\"edge11\" class=\"edge\">\n<title>139870514882304&#45;&gt;139870514882400+</title>\n<path fill=\"none\" stroke=\"black\" d=\"M543.84,-90.37C554.01,-91.98 563.76,-93.51 572.44,-94.89\"/>\n<polygon fill=\"black\" stroke=\"black\" points=\"572.05,-98.37 582.47,-96.47 573.14,-91.45 572.05,-98.37\"/>\n</g>\n<!-- 139870514882304*&#45;&gt;139870514882304 -->\n<g id=\"edge2\" class=\"edge\">\n<title>139870514882304*&#45;&gt;139870514882304</title>\n<path fill=\"none\" stroke=\"black\" d=\"M290.34,-73.5C298.51,-73.5 308.08,-73.5 318.36,-73.5\"/>\n<polygon fill=\"black\" stroke=\"black\" points=\"318.39,-77 328.39,-73.5 318.39,-70 318.39,-77\"/>\n</g>\n<!-- 139870514882880 -->\n<g id=\"node9\" class=\"node\">\n<title>139870514882880</title>\n<polygon fill=\"none\" stroke=\"black\" points=\"326,-110.5 326,-146.5 546,-146.5 546,-110.5 326,-110.5\"/>\n<text text-anchor=\"middle\" x=\"352.5\" y=\"-124.8\" font-family=\"Times,serif\" font-size=\"14.00\">x1*w1</text>\n<polyline fill=\"none\" stroke=\"black\" points=\"379,-110.5 379,-146.5 \"/>\n<text text-anchor=\"middle\" x=\"421.5\" y=\"-124.8\" font-family=\"Times,serif\" font-size=\"14.00\">data &#45;6.0000</text>\n<polyline fill=\"none\" stroke=\"black\" points=\"464,-110.5 464,-146.5 \"/>\n<text text-anchor=\"middle\" x=\"505\" y=\"-124.8\" font-family=\"Times,serif\" font-size=\"14.00\">grad 0.0000</text>\n</g>\n<!-- 139870514882880&#45;&gt;139870514882400+ -->\n<g id=\"edge9\" class=\"edge\">\n<title>139870514882880&#45;&gt;139870514882400+</title>\n<path fill=\"none\" stroke=\"black\" d=\"M546.27,-110.61C555.64,-109.07 564.6,-107.61 572.65,-106.29\"/>\n<polygon fill=\"black\" stroke=\"black\" points=\"573.35,-109.72 582.65,-104.65 572.22,-102.81 573.35,-109.72\"/>\n</g>\n<!-- 139870514882880*&#45;&gt;139870514882880 -->\n<g id=\"edge3\" class=\"edge\">\n<title>139870514882880*&#45;&gt;139870514882880</title>\n<path fill=\"none\" stroke=\"black\" d=\"M290.34,-128.5C297.77,-128.5 306.37,-128.5 315.6,-128.5\"/>\n<polygon fill=\"black\" stroke=\"black\" points=\"315.84,-132 325.84,-128.5 315.84,-125 315.84,-132\"/>\n</g>\n<!-- 139870514882400 -->\n<g id=\"node11\" class=\"node\">\n<title>139870514882400</title>\n<polygon fill=\"none\" stroke=\"black\" points=\"672,-82.5 672,-118.5 945,-118.5 945,-82.5 672,-82.5\"/>\n<text text-anchor=\"middle\" x=\"725\" y=\"-96.8\" font-family=\"Times,serif\" font-size=\"14.00\">x1*w1 + x2*w2</text>\n<polyline fill=\"none\" stroke=\"black\" points=\"778,-82.5 778,-118.5 \"/>\n<text text-anchor=\"middle\" x=\"820.5\" y=\"-96.8\" font-family=\"Times,serif\" font-size=\"14.00\">data &#45;6.0000</text>\n<polyline fill=\"none\" stroke=\"black\" points=\"863,-82.5 863,-118.5 \"/>\n<text text-anchor=\"middle\" x=\"904\" y=\"-96.8\" font-family=\"Times,serif\" font-size=\"14.00\">grad 0.0000</text>\n</g>\n<!-- 139870514882400&#45;&gt;139870514882016+ -->\n<g id=\"edge12\" class=\"edge\">\n<title>139870514882400&#45;&gt;139870514882016+</title>\n<path fill=\"none\" stroke=\"black\" d=\"M936.53,-82.49C949.09,-80.71 960.99,-79.02 971.3,-77.56\"/>\n<polygon fill=\"black\" stroke=\"black\" points=\"972.03,-80.99 981.44,-76.12 971.05,-74.06 972.03,-80.99\"/>\n</g>\n<!-- 139870514882400+&#45;&gt;139870514882400 -->\n<g id=\"edge4\" class=\"edge\">\n<title>139870514882400+&#45;&gt;139870514882400</title>\n<path fill=\"none\" stroke=\"black\" d=\"M636.23,-100.5C643.7,-100.5 652.41,-100.5 661.87,-100.5\"/>\n<polygon fill=\"black\" stroke=\"black\" points=\"661.98,-104 671.98,-100.5 661.98,-97 661.98,-104\"/>\n</g>\n<!-- 139870514882928 -->\n<g id=\"node13\" class=\"node\">\n<title>139870514882928</title>\n<polygon fill=\"none\" stroke=\"black\" points=\"2.5,-0.5 2.5,-36.5 197.5,-36.5 197.5,-0.5 2.5,-0.5\"/>\n<text text-anchor=\"middle\" x=\"19\" y=\"-14.8\" font-family=\"Times,serif\" font-size=\"14.00\">w2</text>\n<polyline fill=\"none\" stroke=\"black\" points=\"35.5,-0.5 35.5,-36.5 \"/>\n<text text-anchor=\"middle\" x=\"75.5\" y=\"-14.8\" font-family=\"Times,serif\" font-size=\"14.00\">data 1.0000</text>\n<polyline fill=\"none\" stroke=\"black\" points=\"115.5,-0.5 115.5,-36.5 \"/>\n<text text-anchor=\"middle\" x=\"156.5\" y=\"-14.8\" font-family=\"Times,serif\" font-size=\"14.00\">grad 0.0000</text>\n</g>\n<!-- 139870514882928&#45;&gt;139870514882304* -->\n<g id=\"edge7\" class=\"edge\">\n<title>139870514882928&#45;&gt;139870514882304*</title>\n<path fill=\"none\" stroke=\"black\" d=\"M169.28,-36.5C179.65,-39.61 190.16,-42.98 200,-46.5 210.28,-50.17 221.28,-54.74 231.11,-59.07\"/>\n<polygon fill=\"black\" stroke=\"black\" points=\"229.93,-62.37 240.48,-63.27 232.79,-55.99 229.93,-62.37\"/>\n</g>\n<!-- 139870514882016 -->\n<g id=\"node14\" class=\"node\">\n<title>139870514882016</title>\n<polygon fill=\"none\" stroke=\"black\" points=\"1071,-54.5 1071,-90.5 1256,-90.5 1256,-54.5 1071,-54.5\"/>\n<text text-anchor=\"middle\" x=\"1082.5\" y=\"-68.8\" font-family=\"Times,serif\" font-size=\"14.00\">n</text>\n<polyline fill=\"none\" stroke=\"black\" points=\"1094,-54.5 1094,-90.5 \"/>\n<text text-anchor=\"middle\" x=\"1134\" y=\"-68.8\" font-family=\"Times,serif\" font-size=\"14.00\">data 0.7000</text>\n<polyline fill=\"none\" stroke=\"black\" points=\"1174,-54.5 1174,-90.5 \"/>\n<text text-anchor=\"middle\" x=\"1215\" y=\"-68.8\" font-family=\"Times,serif\" font-size=\"14.00\">grad 0.0000</text>\n</g>\n<!-- 139870514882016&#45;&gt;139870514882208tanh -->\n<g id=\"edge13\" class=\"edge\">\n<title>139870514882016&#45;&gt;139870514882208tanh</title>\n<path fill=\"none\" stroke=\"black\" d=\"M1256.01,-72.5C1265.01,-72.5 1273.74,-72.5 1281.66,-72.5\"/>\n<polygon fill=\"black\" stroke=\"black\" points=\"1281.91,-76 1291.91,-72.5 1281.91,-69 1281.91,-76\"/>\n</g>\n<!-- 139870514882016+&#45;&gt;139870514882016 -->\n<g id=\"edge5\" class=\"edge\">\n<title>139870514882016+&#45;&gt;139870514882016</title>\n<path fill=\"none\" stroke=\"black\" d=\"M1035.04,-72.5C1042.58,-72.5 1051.3,-72.5 1060.57,-72.5\"/>\n<polygon fill=\"black\" stroke=\"black\" points=\"1060.81,-76 1070.81,-72.5 1060.81,-69 1060.81,-76\"/>\n</g>\n</g>\n</svg>\n"
          },
          "metadata": {},
          "execution_count": 120
        }
      ]
    },
    {
      "cell_type": "markdown",
      "source": [
        "Example 2 by changing the bias to see the impact of tanh"
      ],
      "metadata": {
        "id": "qgHLgHFoIT23"
      }
    },
    {
      "cell_type": "code",
      "source": [
        "# Inputs x1,x2\n",
        "x1 = Value(2.0, label='x1')\n",
        "x2 = Value(0.0, label='x2')\n",
        "# Weigths w1, w2\n",
        "w1 = Value(-3.0, label='w1')\n",
        "w2 = Value(1.0, label='w2')\n",
        "# Bias of the neuron (triger to make the neuron happy!!!)\n",
        "b = Value(8, label='b')\n",
        "x1w1 = x1*w1; x1w1.label = 'x1*w1'\n",
        "x2w2 = x2*w2; x2w2.label = 'x2*w2'\n",
        "x1w1x2w2 = x1w1 + x2w2; x1w1x2w2.label = 'x1*w1 + x2*w2'\n",
        "n = x1w1x2w2 + b; n.label = 'n'\n",
        "o = n.tanh()\n",
        "# draw_dot(n)\n",
        "draw_dot(o)"
      ],
      "metadata": {
        "colab": {
          "base_uri": "https://localhost:8080/",
          "height": 321
        },
        "id": "UcU5usJKIY21",
        "outputId": "5e0bcb65-23b7-47ff-e7f4-dc5bcb58d5e6"
      },
      "execution_count": 122,
      "outputs": [
        {
          "output_type": "execute_result",
          "data": {
            "text/plain": [
              "<graphviz.dot.Digraph at 0x7f3624593820>"
            ],
            "image/svg+xml": "<?xml version=\"1.0\" encoding=\"UTF-8\" standalone=\"no\"?>\n<!DOCTYPE svg PUBLIC \"-//W3C//DTD SVG 1.1//EN\"\n \"http://www.w3.org/Graphics/SVG/1.1/DTD/svg11.dtd\">\n<!-- Generated by graphviz version 2.43.0 (0)\n -->\n<!-- Title: %3 Pages: 1 -->\n<svg width=\"1572pt\" height=\"210pt\"\n viewBox=\"0.00 0.00 1572.00 210.00\" xmlns=\"http://www.w3.org/2000/svg\" xmlns:xlink=\"http://www.w3.org/1999/xlink\">\n<g id=\"graph0\" class=\"graph\" transform=\"scale(1 1) rotate(0) translate(4 206)\">\n<title>%3</title>\n<polygon fill=\"white\" stroke=\"transparent\" points=\"-4,4 -4,-206 1568,-206 1568,4 -4,4\"/>\n<!-- 139870514685984 -->\n<g id=\"node1\" class=\"node\">\n<title>139870514685984</title>\n<polygon fill=\"none\" stroke=\"black\" points=\"4,-165.5 4,-201.5 196,-201.5 196,-165.5 4,-165.5\"/>\n<text text-anchor=\"middle\" x=\"19\" y=\"-179.8\" font-family=\"Times,serif\" font-size=\"14.00\">x2</text>\n<polyline fill=\"none\" stroke=\"black\" points=\"34,-165.5 34,-201.5 \"/>\n<text text-anchor=\"middle\" x=\"74\" y=\"-179.8\" font-family=\"Times,serif\" font-size=\"14.00\">data 0.0000</text>\n<polyline fill=\"none\" stroke=\"black\" points=\"114,-165.5 114,-201.5 \"/>\n<text text-anchor=\"middle\" x=\"155\" y=\"-179.8\" font-family=\"Times,serif\" font-size=\"14.00\">grad 0.0000</text>\n</g>\n<!-- 139870514788240* -->\n<g id=\"node12\" class=\"node\">\n<title>139870514788240*</title>\n<ellipse fill=\"none\" stroke=\"black\" cx=\"263\" cy=\"-128.5\" rx=\"27\" ry=\"18\"/>\n<text text-anchor=\"middle\" x=\"263\" y=\"-124.8\" font-family=\"Times,serif\" font-size=\"14.00\">*</text>\n</g>\n<!-- 139870514685984&#45;&gt;139870514788240* -->\n<g id=\"edge14\" class=\"edge\">\n<title>139870514685984&#45;&gt;139870514788240*</title>\n<path fill=\"none\" stroke=\"black\" d=\"M172.53,-165.44C181.84,-162.67 191.2,-159.67 200,-156.5 210.53,-152.71 221.75,-147.9 231.72,-143.33\"/>\n<polygon fill=\"black\" stroke=\"black\" points=\"233.25,-146.48 240.82,-139.07 230.28,-140.14 233.25,-146.48\"/>\n</g>\n<!-- 139870514686128 -->\n<g id=\"node2\" class=\"node\">\n<title>139870514686128</title>\n<polygon fill=\"none\" stroke=\"black\" points=\"4,-55.5 4,-91.5 196,-91.5 196,-55.5 4,-55.5\"/>\n<text text-anchor=\"middle\" x=\"19\" y=\"-69.8\" font-family=\"Times,serif\" font-size=\"14.00\">x1</text>\n<polyline fill=\"none\" stroke=\"black\" points=\"34,-55.5 34,-91.5 \"/>\n<text text-anchor=\"middle\" x=\"74\" y=\"-69.8\" font-family=\"Times,serif\" font-size=\"14.00\">data 2.0000</text>\n<polyline fill=\"none\" stroke=\"black\" points=\"114,-55.5 114,-91.5 \"/>\n<text text-anchor=\"middle\" x=\"155\" y=\"-69.8\" font-family=\"Times,serif\" font-size=\"14.00\">grad 0.0000</text>\n</g>\n<!-- 139870514788624* -->\n<g id=\"node8\" class=\"node\">\n<title>139870514788624*</title>\n<ellipse fill=\"none\" stroke=\"black\" cx=\"263\" cy=\"-73.5\" rx=\"27\" ry=\"18\"/>\n<text text-anchor=\"middle\" x=\"263\" y=\"-69.8\" font-family=\"Times,serif\" font-size=\"14.00\">*</text>\n</g>\n<!-- 139870514686128&#45;&gt;139870514788624* -->\n<g id=\"edge9\" class=\"edge\">\n<title>139870514686128&#45;&gt;139870514788624*</title>\n<path fill=\"none\" stroke=\"black\" d=\"M196.05,-73.5C206.52,-73.5 216.65,-73.5 225.71,-73.5\"/>\n<polygon fill=\"black\" stroke=\"black\" points=\"225.79,-77 235.79,-73.5 225.79,-70 225.79,-77\"/>\n</g>\n<!-- 139870514788576 -->\n<g id=\"node3\" class=\"node\">\n<title>139870514788576</title>\n<polygon fill=\"none\" stroke=\"black\" points=\"1382,-54.5 1382,-90.5 1564,-90.5 1564,-54.5 1382,-54.5\"/>\n<text text-anchor=\"middle\" x=\"1392\" y=\"-68.8\" font-family=\"Times,serif\" font-size=\"14.00\"> </text>\n<polyline fill=\"none\" stroke=\"black\" points=\"1402,-54.5 1402,-90.5 \"/>\n<text text-anchor=\"middle\" x=\"1442\" y=\"-68.8\" font-family=\"Times,serif\" font-size=\"14.00\">data 0.9640</text>\n<polyline fill=\"none\" stroke=\"black\" points=\"1482,-54.5 1482,-90.5 \"/>\n<text text-anchor=\"middle\" x=\"1523\" y=\"-68.8\" font-family=\"Times,serif\" font-size=\"14.00\">grad 0.0000</text>\n</g>\n<!-- 139870514788576tanh -->\n<g id=\"node4\" class=\"node\">\n<title>139870514788576tanh</title>\n<ellipse fill=\"none\" stroke=\"black\" cx=\"1319\" cy=\"-72.5\" rx=\"27\" ry=\"18\"/>\n<text text-anchor=\"middle\" x=\"1319\" y=\"-68.8\" font-family=\"Times,serif\" font-size=\"14.00\">tanh</text>\n</g>\n<!-- 139870514788576tanh&#45;&gt;139870514788576 -->\n<g id=\"edge1\" class=\"edge\">\n<title>139870514788576tanh&#45;&gt;139870514788576</title>\n<path fill=\"none\" stroke=\"black\" d=\"M1346.13,-72.5C1353.67,-72.5 1362.39,-72.5 1371.64,-72.5\"/>\n<polygon fill=\"black\" stroke=\"black\" points=\"1371.87,-76 1381.87,-72.5 1371.87,-69 1371.87,-76\"/>\n</g>\n<!-- 139870514788096 -->\n<g id=\"node5\" class=\"node\">\n<title>139870514788096</title>\n<polygon fill=\"none\" stroke=\"black\" points=\"1071,-54.5 1071,-90.5 1256,-90.5 1256,-54.5 1071,-54.5\"/>\n<text text-anchor=\"middle\" x=\"1082.5\" y=\"-68.8\" font-family=\"Times,serif\" font-size=\"14.00\">n</text>\n<polyline fill=\"none\" stroke=\"black\" points=\"1094,-54.5 1094,-90.5 \"/>\n<text text-anchor=\"middle\" x=\"1134\" y=\"-68.8\" font-family=\"Times,serif\" font-size=\"14.00\">data 2.0000</text>\n<polyline fill=\"none\" stroke=\"black\" points=\"1174,-54.5 1174,-90.5 \"/>\n<text text-anchor=\"middle\" x=\"1215\" y=\"-68.8\" font-family=\"Times,serif\" font-size=\"14.00\">grad 0.0000</text>\n</g>\n<!-- 139870514788096&#45;&gt;139870514788576tanh -->\n<g id=\"edge11\" class=\"edge\">\n<title>139870514788096&#45;&gt;139870514788576tanh</title>\n<path fill=\"none\" stroke=\"black\" d=\"M1256.01,-72.5C1265.01,-72.5 1273.74,-72.5 1281.66,-72.5\"/>\n<polygon fill=\"black\" stroke=\"black\" points=\"1281.91,-76 1291.91,-72.5 1281.91,-69 1281.91,-76\"/>\n</g>\n<!-- 139870514788096+ -->\n<g id=\"node6\" class=\"node\">\n<title>139870514788096+</title>\n<ellipse fill=\"none\" stroke=\"black\" cx=\"1008\" cy=\"-72.5\" rx=\"27\" ry=\"18\"/>\n<text text-anchor=\"middle\" x=\"1008\" y=\"-68.8\" font-family=\"Times,serif\" font-size=\"14.00\">+</text>\n</g>\n<!-- 139870514788096+&#45;&gt;139870514788096 -->\n<g id=\"edge2\" class=\"edge\">\n<title>139870514788096+&#45;&gt;139870514788096</title>\n<path fill=\"none\" stroke=\"black\" d=\"M1035.04,-72.5C1042.58,-72.5 1051.3,-72.5 1060.57,-72.5\"/>\n<polygon fill=\"black\" stroke=\"black\" points=\"1060.81,-76 1070.81,-72.5 1060.81,-69 1060.81,-76\"/>\n</g>\n<!-- 139870514788624 -->\n<g id=\"node7\" class=\"node\">\n<title>139870514788624</title>\n<polygon fill=\"none\" stroke=\"black\" points=\"326,-55.5 326,-91.5 546,-91.5 546,-55.5 326,-55.5\"/>\n<text text-anchor=\"middle\" x=\"352.5\" y=\"-69.8\" font-family=\"Times,serif\" font-size=\"14.00\">x1*w1</text>\n<polyline fill=\"none\" stroke=\"black\" points=\"379,-55.5 379,-91.5 \"/>\n<text text-anchor=\"middle\" x=\"421.5\" y=\"-69.8\" font-family=\"Times,serif\" font-size=\"14.00\">data &#45;6.0000</text>\n<polyline fill=\"none\" stroke=\"black\" points=\"464,-55.5 464,-91.5 \"/>\n<text text-anchor=\"middle\" x=\"505\" y=\"-69.8\" font-family=\"Times,serif\" font-size=\"14.00\">grad 0.0000</text>\n</g>\n<!-- 139870514788288+ -->\n<g id=\"node14\" class=\"node\">\n<title>139870514788288+</title>\n<ellipse fill=\"none\" stroke=\"black\" cx=\"609\" cy=\"-100.5\" rx=\"27\" ry=\"18\"/>\n<text text-anchor=\"middle\" x=\"609\" y=\"-96.8\" font-family=\"Times,serif\" font-size=\"14.00\">+</text>\n</g>\n<!-- 139870514788624&#45;&gt;139870514788288+ -->\n<g id=\"edge6\" class=\"edge\">\n<title>139870514788624&#45;&gt;139870514788288+</title>\n<path fill=\"none\" stroke=\"black\" d=\"M546.27,-90.75C555.64,-92.23 564.6,-93.65 572.65,-94.92\"/>\n<polygon fill=\"black\" stroke=\"black\" points=\"572.23,-98.4 582.65,-96.5 573.32,-91.48 572.23,-98.4\"/>\n</g>\n<!-- 139870514788624*&#45;&gt;139870514788624 -->\n<g id=\"edge3\" class=\"edge\">\n<title>139870514788624*&#45;&gt;139870514788624</title>\n<path fill=\"none\" stroke=\"black\" d=\"M290.34,-73.5C297.77,-73.5 306.37,-73.5 315.6,-73.5\"/>\n<polygon fill=\"black\" stroke=\"black\" points=\"315.84,-77 325.84,-73.5 315.84,-70 315.84,-77\"/>\n</g>\n<!-- 139870514685696 -->\n<g id=\"node9\" class=\"node\">\n<title>139870514685696</title>\n<polygon fill=\"none\" stroke=\"black\" points=\"0,-0.5 0,-36.5 200,-36.5 200,-0.5 0,-0.5\"/>\n<text text-anchor=\"middle\" x=\"16.5\" y=\"-14.8\" font-family=\"Times,serif\" font-size=\"14.00\">w1</text>\n<polyline fill=\"none\" stroke=\"black\" points=\"33,-0.5 33,-36.5 \"/>\n<text text-anchor=\"middle\" x=\"75.5\" y=\"-14.8\" font-family=\"Times,serif\" font-size=\"14.00\">data &#45;3.0000</text>\n<polyline fill=\"none\" stroke=\"black\" points=\"118,-0.5 118,-36.5 \"/>\n<text text-anchor=\"middle\" x=\"159\" y=\"-14.8\" font-family=\"Times,serif\" font-size=\"14.00\">grad 0.0000</text>\n</g>\n<!-- 139870514685696&#45;&gt;139870514788624* -->\n<g id=\"edge12\" class=\"edge\">\n<title>139870514685696&#45;&gt;139870514788624*</title>\n<path fill=\"none\" stroke=\"black\" d=\"M169.28,-36.5C179.65,-39.61 190.16,-42.98 200,-46.5 210.28,-50.17 221.28,-54.74 231.11,-59.07\"/>\n<polygon fill=\"black\" stroke=\"black\" points=\"229.93,-62.37 240.48,-63.27 232.79,-55.99 229.93,-62.37\"/>\n</g>\n<!-- 139870514685840 -->\n<g id=\"node10\" class=\"node\">\n<title>139870514685840</title>\n<polygon fill=\"none\" stroke=\"black\" points=\"2.5,-110.5 2.5,-146.5 197.5,-146.5 197.5,-110.5 2.5,-110.5\"/>\n<text text-anchor=\"middle\" x=\"19\" y=\"-124.8\" font-family=\"Times,serif\" font-size=\"14.00\">w2</text>\n<polyline fill=\"none\" stroke=\"black\" points=\"35.5,-110.5 35.5,-146.5 \"/>\n<text text-anchor=\"middle\" x=\"75.5\" y=\"-124.8\" font-family=\"Times,serif\" font-size=\"14.00\">data 1.0000</text>\n<polyline fill=\"none\" stroke=\"black\" points=\"115.5,-110.5 115.5,-146.5 \"/>\n<text text-anchor=\"middle\" x=\"156.5\" y=\"-124.8\" font-family=\"Times,serif\" font-size=\"14.00\">grad 0.0000</text>\n</g>\n<!-- 139870514685840&#45;&gt;139870514788240* -->\n<g id=\"edge7\" class=\"edge\">\n<title>139870514685840&#45;&gt;139870514788240*</title>\n<path fill=\"none\" stroke=\"black\" d=\"M197.91,-128.5C207.65,-128.5 217.05,-128.5 225.52,-128.5\"/>\n<polygon fill=\"black\" stroke=\"black\" points=\"225.7,-132 235.7,-128.5 225.7,-125 225.7,-132\"/>\n</g>\n<!-- 139870514788240 -->\n<g id=\"node11\" class=\"node\">\n<title>139870514788240</title>\n<polygon fill=\"none\" stroke=\"black\" points=\"328.5,-110.5 328.5,-146.5 543.5,-146.5 543.5,-110.5 328.5,-110.5\"/>\n<text text-anchor=\"middle\" x=\"355\" y=\"-124.8\" font-family=\"Times,serif\" font-size=\"14.00\">x2*w2</text>\n<polyline fill=\"none\" stroke=\"black\" points=\"381.5,-110.5 381.5,-146.5 \"/>\n<text text-anchor=\"middle\" x=\"421.5\" y=\"-124.8\" font-family=\"Times,serif\" font-size=\"14.00\">data 0.0000</text>\n<polyline fill=\"none\" stroke=\"black\" points=\"461.5,-110.5 461.5,-146.5 \"/>\n<text text-anchor=\"middle\" x=\"502.5\" y=\"-124.8\" font-family=\"Times,serif\" font-size=\"14.00\">grad 0.0000</text>\n</g>\n<!-- 139870514788240&#45;&gt;139870514788288+ -->\n<g id=\"edge8\" class=\"edge\">\n<title>139870514788240&#45;&gt;139870514788288+</title>\n<path fill=\"none\" stroke=\"black\" d=\"M543.84,-111.01C554.01,-109.34 563.76,-107.74 572.44,-106.32\"/>\n<polygon fill=\"black\" stroke=\"black\" points=\"573.17,-109.75 582.47,-104.68 572.04,-102.84 573.17,-109.75\"/>\n</g>\n<!-- 139870514788240*&#45;&gt;139870514788240 -->\n<g id=\"edge4\" class=\"edge\">\n<title>139870514788240*&#45;&gt;139870514788240</title>\n<path fill=\"none\" stroke=\"black\" d=\"M290.34,-128.5C298.51,-128.5 308.08,-128.5 318.36,-128.5\"/>\n<polygon fill=\"black\" stroke=\"black\" points=\"318.39,-132 328.39,-128.5 318.39,-125 318.39,-132\"/>\n</g>\n<!-- 139870514788288 -->\n<g id=\"node13\" class=\"node\">\n<title>139870514788288</title>\n<polygon fill=\"none\" stroke=\"black\" points=\"672,-82.5 672,-118.5 945,-118.5 945,-82.5 672,-82.5\"/>\n<text text-anchor=\"middle\" x=\"725\" y=\"-96.8\" font-family=\"Times,serif\" font-size=\"14.00\">x1*w1 + x2*w2</text>\n<polyline fill=\"none\" stroke=\"black\" points=\"778,-82.5 778,-118.5 \"/>\n<text text-anchor=\"middle\" x=\"820.5\" y=\"-96.8\" font-family=\"Times,serif\" font-size=\"14.00\">data &#45;6.0000</text>\n<polyline fill=\"none\" stroke=\"black\" points=\"863,-82.5 863,-118.5 \"/>\n<text text-anchor=\"middle\" x=\"904\" y=\"-96.8\" font-family=\"Times,serif\" font-size=\"14.00\">grad 0.0000</text>\n</g>\n<!-- 139870514788288&#45;&gt;139870514788096+ -->\n<g id=\"edge13\" class=\"edge\">\n<title>139870514788288&#45;&gt;139870514788096+</title>\n<path fill=\"none\" stroke=\"black\" d=\"M936.53,-82.49C949.09,-80.71 960.99,-79.02 971.3,-77.56\"/>\n<polygon fill=\"black\" stroke=\"black\" points=\"972.03,-80.99 981.44,-76.12 971.05,-74.06 972.03,-80.99\"/>\n</g>\n<!-- 139870514788288+&#45;&gt;139870514788288 -->\n<g id=\"edge5\" class=\"edge\">\n<title>139870514788288+&#45;&gt;139870514788288</title>\n<path fill=\"none\" stroke=\"black\" d=\"M636.23,-100.5C643.7,-100.5 652.41,-100.5 661.87,-100.5\"/>\n<polygon fill=\"black\" stroke=\"black\" points=\"661.98,-104 671.98,-100.5 661.98,-97 661.98,-104\"/>\n</g>\n<!-- 139870514788336 -->\n<g id=\"node15\" class=\"node\">\n<title>139870514788336</title>\n<polygon fill=\"none\" stroke=\"black\" points=\"716,-27.5 716,-63.5 901,-63.5 901,-27.5 716,-27.5\"/>\n<text text-anchor=\"middle\" x=\"727.5\" y=\"-41.8\" font-family=\"Times,serif\" font-size=\"14.00\">b</text>\n<polyline fill=\"none\" stroke=\"black\" points=\"739,-27.5 739,-63.5 \"/>\n<text text-anchor=\"middle\" x=\"779\" y=\"-41.8\" font-family=\"Times,serif\" font-size=\"14.00\">data 8.0000</text>\n<polyline fill=\"none\" stroke=\"black\" points=\"819,-27.5 819,-63.5 \"/>\n<text text-anchor=\"middle\" x=\"860\" y=\"-41.8\" font-family=\"Times,serif\" font-size=\"14.00\">grad 0.0000</text>\n</g>\n<!-- 139870514788336&#45;&gt;139870514788096+ -->\n<g id=\"edge10\" class=\"edge\">\n<title>139870514788336&#45;&gt;139870514788096+</title>\n<path fill=\"none\" stroke=\"black\" d=\"M901.02,-58.01C926,-61.43 951.59,-64.93 971.37,-67.63\"/>\n<polygon fill=\"black\" stroke=\"black\" points=\"971.05,-71.12 981.43,-69.01 972,-64.18 971.05,-71.12\"/>\n</g>\n</g>\n</svg>\n"
          },
          "metadata": {},
          "execution_count": 122
        }
      ]
    },
    {
      "cell_type": "markdown",
      "source": [
        "Example 3 by changing the bias to see the impact of tanh"
      ],
      "metadata": {
        "id": "iuZ8p_H_IoZN"
      }
    },
    {
      "cell_type": "code",
      "source": [
        "# Inputs x1,x2\n",
        "x1 = Value(2.0, label='x1')\n",
        "x2 = Value(0.0, label='x2')\n",
        "# Weigths w1, w2\n",
        "w1 = Value(-3.0, label='w1')\n",
        "w2 = Value(1.0, label='w2')\n",
        "# Bias of the neuron (triger to make the neuron happy!!!)\n",
        "b = Value(6.8813735870195432, label='b')\n",
        "x1w1 = x1*w1; x1w1.label = 'x1*w1'\n",
        "x2w2 = x2*w2; x2w2.label = 'x2*w2'\n",
        "x1w1x2w2 = x1w1 + x2w2; x1w1x2w2.label = 'x1*w1 + x2*w2'\n",
        "n = x1w1x2w2 + b; n.label = 'n'\n",
        "o = n.tanh(); o.label = 'o'\n",
        "# draw_dot(n)\n"
      ],
      "metadata": {
        "id": "bLABw-eAImYd"
      },
      "execution_count": null,
      "outputs": []
    },
    {
      "cell_type": "code",
      "source": [
        "draw_dot(o)"
      ],
      "metadata": {
        "colab": {
          "base_uri": "https://localhost:8080/",
          "height": 321
        },
        "id": "GSt81TgFJMT2",
        "outputId": "00964f98-953c-42df-bae0-ffd7c2d7eaa0"
      },
      "execution_count": 137,
      "outputs": [
        {
          "output_type": "execute_result",
          "data": {
            "text/plain": [
              "<graphviz.dot.Digraph at 0x7f36245b5a30>"
            ],
            "image/svg+xml": "<?xml version=\"1.0\" encoding=\"UTF-8\" standalone=\"no\"?>\n<!DOCTYPE svg PUBLIC \"-//W3C//DTD SVG 1.1//EN\"\n \"http://www.w3.org/Graphics/SVG/1.1/DTD/svg11.dtd\">\n<!-- Generated by graphviz version 2.43.0 (0)\n -->\n<!-- Title: %3 Pages: 1 -->\n<svg width=\"1575pt\" height=\"210pt\"\n viewBox=\"0.00 0.00 1575.00 210.00\" xmlns=\"http://www.w3.org/2000/svg\" xmlns:xlink=\"http://www.w3.org/1999/xlink\">\n<g id=\"graph0\" class=\"graph\" transform=\"scale(1 1) rotate(0) translate(4 206)\">\n<title>%3</title>\n<polygon fill=\"white\" stroke=\"transparent\" points=\"-4,4 -4,-206 1571,-206 1571,4 -4,4\"/>\n<!-- 139870514881104 -->\n<g id=\"node1\" class=\"node\">\n<title>139870514881104</title>\n<polygon fill=\"none\" stroke=\"black\" points=\"2,-165.5 2,-201.5 198,-201.5 198,-165.5 2,-165.5\"/>\n<text text-anchor=\"middle\" x=\"17\" y=\"-179.8\" font-family=\"Times,serif\" font-size=\"14.00\">x1</text>\n<polyline fill=\"none\" stroke=\"black\" points=\"32,-165.5 32,-201.5 \"/>\n<text text-anchor=\"middle\" x=\"72\" y=\"-179.8\" font-family=\"Times,serif\" font-size=\"14.00\">data 2.0000</text>\n<polyline fill=\"none\" stroke=\"black\" points=\"112,-165.5 112,-201.5 \"/>\n<text text-anchor=\"middle\" x=\"155\" y=\"-179.8\" font-family=\"Times,serif\" font-size=\"14.00\">grad &#45;1.5000</text>\n</g>\n<!-- 139870514881344* -->\n<g id=\"node10\" class=\"node\">\n<title>139870514881344*</title>\n<ellipse fill=\"none\" stroke=\"black\" cx=\"263\" cy=\"-128.5\" rx=\"27\" ry=\"18\"/>\n<text text-anchor=\"middle\" x=\"263\" y=\"-124.8\" font-family=\"Times,serif\" font-size=\"14.00\">*</text>\n</g>\n<!-- 139870514881104&#45;&gt;139870514881344* -->\n<g id=\"edge8\" class=\"edge\">\n<title>139870514881104&#45;&gt;139870514881344*</title>\n<path fill=\"none\" stroke=\"black\" d=\"M172.53,-165.44C181.84,-162.67 191.2,-159.67 200,-156.5 210.53,-152.71 221.75,-147.9 231.72,-143.33\"/>\n<polygon fill=\"black\" stroke=\"black\" points=\"233.25,-146.48 240.82,-139.07 230.28,-140.14 233.25,-146.48\"/>\n</g>\n<!-- 139870514881680 -->\n<g id=\"node2\" class=\"node\">\n<title>139870514881680</title>\n<polygon fill=\"none\" stroke=\"black\" points=\"2.5,-55.5 2.5,-91.5 197.5,-91.5 197.5,-55.5 2.5,-55.5\"/>\n<text text-anchor=\"middle\" x=\"19\" y=\"-69.8\" font-family=\"Times,serif\" font-size=\"14.00\">w2</text>\n<polyline fill=\"none\" stroke=\"black\" points=\"35.5,-55.5 35.5,-91.5 \"/>\n<text text-anchor=\"middle\" x=\"75.5\" y=\"-69.8\" font-family=\"Times,serif\" font-size=\"14.00\">data 1.0000</text>\n<polyline fill=\"none\" stroke=\"black\" points=\"115.5,-55.5 115.5,-91.5 \"/>\n<text text-anchor=\"middle\" x=\"156.5\" y=\"-69.8\" font-family=\"Times,serif\" font-size=\"14.00\">grad 0.0000</text>\n</g>\n<!-- 139870514882400* -->\n<g id=\"node12\" class=\"node\">\n<title>139870514882400*</title>\n<ellipse fill=\"none\" stroke=\"black\" cx=\"263\" cy=\"-73.5\" rx=\"27\" ry=\"18\"/>\n<text text-anchor=\"middle\" x=\"263\" y=\"-69.8\" font-family=\"Times,serif\" font-size=\"14.00\">*</text>\n</g>\n<!-- 139870514881680&#45;&gt;139870514882400* -->\n<g id=\"edge7\" class=\"edge\">\n<title>139870514881680&#45;&gt;139870514882400*</title>\n<path fill=\"none\" stroke=\"black\" d=\"M197.91,-73.5C207.65,-73.5 217.05,-73.5 225.52,-73.5\"/>\n<polygon fill=\"black\" stroke=\"black\" points=\"225.7,-77 235.7,-73.5 225.7,-70 225.7,-77\"/>\n</g>\n<!-- 139870514882208 -->\n<g id=\"node3\" class=\"node\">\n<title>139870514882208</title>\n<polygon fill=\"none\" stroke=\"black\" points=\"1071,-54.5 1071,-90.5 1256,-90.5 1256,-54.5 1071,-54.5\"/>\n<text text-anchor=\"middle\" x=\"1082.5\" y=\"-68.8\" font-family=\"Times,serif\" font-size=\"14.00\">n</text>\n<polyline fill=\"none\" stroke=\"black\" points=\"1094,-54.5 1094,-90.5 \"/>\n<text text-anchor=\"middle\" x=\"1134\" y=\"-68.8\" font-family=\"Times,serif\" font-size=\"14.00\">data 0.8814</text>\n<polyline fill=\"none\" stroke=\"black\" points=\"1174,-54.5 1174,-90.5 \"/>\n<text text-anchor=\"middle\" x=\"1215\" y=\"-68.8\" font-family=\"Times,serif\" font-size=\"14.00\">grad 0.5000</text>\n</g>\n<!-- 139870514882304tanh -->\n<g id=\"node7\" class=\"node\">\n<title>139870514882304tanh</title>\n<ellipse fill=\"none\" stroke=\"black\" cx=\"1319\" cy=\"-72.5\" rx=\"27\" ry=\"18\"/>\n<text text-anchor=\"middle\" x=\"1319\" y=\"-68.8\" font-family=\"Times,serif\" font-size=\"14.00\">tanh</text>\n</g>\n<!-- 139870514882208&#45;&gt;139870514882304tanh -->\n<g id=\"edge6\" class=\"edge\">\n<title>139870514882208&#45;&gt;139870514882304tanh</title>\n<path fill=\"none\" stroke=\"black\" d=\"M1256.01,-72.5C1265.01,-72.5 1273.74,-72.5 1281.66,-72.5\"/>\n<polygon fill=\"black\" stroke=\"black\" points=\"1281.91,-76 1291.91,-72.5 1281.91,-69 1281.91,-76\"/>\n</g>\n<!-- 139870514882208+ -->\n<g id=\"node4\" class=\"node\">\n<title>139870514882208+</title>\n<ellipse fill=\"none\" stroke=\"black\" cx=\"1008\" cy=\"-72.5\" rx=\"27\" ry=\"18\"/>\n<text text-anchor=\"middle\" x=\"1008\" y=\"-68.8\" font-family=\"Times,serif\" font-size=\"14.00\">+</text>\n</g>\n<!-- 139870514882208+&#45;&gt;139870514882208 -->\n<g id=\"edge1\" class=\"edge\">\n<title>139870514882208+&#45;&gt;139870514882208</title>\n<path fill=\"none\" stroke=\"black\" d=\"M1035.04,-72.5C1042.58,-72.5 1051.3,-72.5 1060.57,-72.5\"/>\n<polygon fill=\"black\" stroke=\"black\" points=\"1060.81,-76 1070.81,-72.5 1060.81,-69 1060.81,-76\"/>\n</g>\n<!-- 139870514883744 -->\n<g id=\"node5\" class=\"node\">\n<title>139870514883744</title>\n<polygon fill=\"none\" stroke=\"black\" points=\"4,-0.5 4,-36.5 196,-36.5 196,-0.5 4,-0.5\"/>\n<text text-anchor=\"middle\" x=\"19\" y=\"-14.8\" font-family=\"Times,serif\" font-size=\"14.00\">x2</text>\n<polyline fill=\"none\" stroke=\"black\" points=\"34,-0.5 34,-36.5 \"/>\n<text text-anchor=\"middle\" x=\"74\" y=\"-14.8\" font-family=\"Times,serif\" font-size=\"14.00\">data 0.0000</text>\n<polyline fill=\"none\" stroke=\"black\" points=\"114,-0.5 114,-36.5 \"/>\n<text text-anchor=\"middle\" x=\"155\" y=\"-14.8\" font-family=\"Times,serif\" font-size=\"14.00\">grad 0.5000</text>\n</g>\n<!-- 139870514883744&#45;&gt;139870514882400* -->\n<g id=\"edge10\" class=\"edge\">\n<title>139870514883744&#45;&gt;139870514882400*</title>\n<path fill=\"none\" stroke=\"black\" d=\"M169.28,-36.5C179.65,-39.61 190.16,-42.98 200,-46.5 210.28,-50.17 221.28,-54.74 231.11,-59.07\"/>\n<polygon fill=\"black\" stroke=\"black\" points=\"229.93,-62.37 240.48,-63.27 232.79,-55.99 229.93,-62.37\"/>\n</g>\n<!-- 139870514882304 -->\n<g id=\"node6\" class=\"node\">\n<title>139870514882304</title>\n<polygon fill=\"none\" stroke=\"black\" points=\"1382,-54.5 1382,-90.5 1567,-90.5 1567,-54.5 1382,-54.5\"/>\n<text text-anchor=\"middle\" x=\"1393.5\" y=\"-68.8\" font-family=\"Times,serif\" font-size=\"14.00\">o</text>\n<polyline fill=\"none\" stroke=\"black\" points=\"1405,-54.5 1405,-90.5 \"/>\n<text text-anchor=\"middle\" x=\"1445\" y=\"-68.8\" font-family=\"Times,serif\" font-size=\"14.00\">data 0.7071</text>\n<polyline fill=\"none\" stroke=\"black\" points=\"1485,-54.5 1485,-90.5 \"/>\n<text text-anchor=\"middle\" x=\"1526\" y=\"-68.8\" font-family=\"Times,serif\" font-size=\"14.00\">grad 1.0000</text>\n</g>\n<!-- 139870514882304tanh&#45;&gt;139870514882304 -->\n<g id=\"edge2\" class=\"edge\">\n<title>139870514882304tanh&#45;&gt;139870514882304</title>\n<path fill=\"none\" stroke=\"black\" d=\"M1346.04,-72.5C1353.58,-72.5 1362.3,-72.5 1371.57,-72.5\"/>\n<polygon fill=\"black\" stroke=\"black\" points=\"1371.81,-76 1381.81,-72.5 1371.81,-69 1371.81,-76\"/>\n</g>\n<!-- 139870514883360 -->\n<g id=\"node8\" class=\"node\">\n<title>139870514883360</title>\n<polygon fill=\"none\" stroke=\"black\" points=\"0,-110.5 0,-146.5 200,-146.5 200,-110.5 0,-110.5\"/>\n<text text-anchor=\"middle\" x=\"16.5\" y=\"-124.8\" font-family=\"Times,serif\" font-size=\"14.00\">w1</text>\n<polyline fill=\"none\" stroke=\"black\" points=\"33,-110.5 33,-146.5 \"/>\n<text text-anchor=\"middle\" x=\"75.5\" y=\"-124.8\" font-family=\"Times,serif\" font-size=\"14.00\">data &#45;3.0000</text>\n<polyline fill=\"none\" stroke=\"black\" points=\"118,-110.5 118,-146.5 \"/>\n<text text-anchor=\"middle\" x=\"159\" y=\"-124.8\" font-family=\"Times,serif\" font-size=\"14.00\">grad 1.0000</text>\n</g>\n<!-- 139870514883360&#45;&gt;139870514881344* -->\n<g id=\"edge11\" class=\"edge\">\n<title>139870514883360&#45;&gt;139870514881344*</title>\n<path fill=\"none\" stroke=\"black\" d=\"M200.21,-128.5C209.2,-128.5 217.86,-128.5 225.7,-128.5\"/>\n<polygon fill=\"black\" stroke=\"black\" points=\"225.85,-132 235.85,-128.5 225.85,-125 225.85,-132\"/>\n</g>\n<!-- 139870514881344 -->\n<g id=\"node9\" class=\"node\">\n<title>139870514881344</title>\n<polygon fill=\"none\" stroke=\"black\" points=\"326,-110.5 326,-146.5 546,-146.5 546,-110.5 326,-110.5\"/>\n<text text-anchor=\"middle\" x=\"352.5\" y=\"-124.8\" font-family=\"Times,serif\" font-size=\"14.00\">x1*w1</text>\n<polyline fill=\"none\" stroke=\"black\" points=\"379,-110.5 379,-146.5 \"/>\n<text text-anchor=\"middle\" x=\"421.5\" y=\"-124.8\" font-family=\"Times,serif\" font-size=\"14.00\">data &#45;6.0000</text>\n<polyline fill=\"none\" stroke=\"black\" points=\"464,-110.5 464,-146.5 \"/>\n<text text-anchor=\"middle\" x=\"505\" y=\"-124.8\" font-family=\"Times,serif\" font-size=\"14.00\">grad 0.5000</text>\n</g>\n<!-- 139870514882928+ -->\n<g id=\"node14\" class=\"node\">\n<title>139870514882928+</title>\n<ellipse fill=\"none\" stroke=\"black\" cx=\"609\" cy=\"-100.5\" rx=\"27\" ry=\"18\"/>\n<text text-anchor=\"middle\" x=\"609\" y=\"-96.8\" font-family=\"Times,serif\" font-size=\"14.00\">+</text>\n</g>\n<!-- 139870514881344&#45;&gt;139870514882928+ -->\n<g id=\"edge12\" class=\"edge\">\n<title>139870514881344&#45;&gt;139870514882928+</title>\n<path fill=\"none\" stroke=\"black\" d=\"M546.27,-110.61C555.64,-109.07 564.6,-107.61 572.65,-106.29\"/>\n<polygon fill=\"black\" stroke=\"black\" points=\"573.35,-109.72 582.65,-104.65 572.22,-102.81 573.35,-109.72\"/>\n</g>\n<!-- 139870514881344*&#45;&gt;139870514881344 -->\n<g id=\"edge3\" class=\"edge\">\n<title>139870514881344*&#45;&gt;139870514881344</title>\n<path fill=\"none\" stroke=\"black\" d=\"M290.34,-128.5C297.77,-128.5 306.37,-128.5 315.6,-128.5\"/>\n<polygon fill=\"black\" stroke=\"black\" points=\"315.84,-132 325.84,-128.5 315.84,-125 315.84,-132\"/>\n</g>\n<!-- 139870514882400 -->\n<g id=\"node11\" class=\"node\">\n<title>139870514882400</title>\n<polygon fill=\"none\" stroke=\"black\" points=\"328.5,-55.5 328.5,-91.5 543.5,-91.5 543.5,-55.5 328.5,-55.5\"/>\n<text text-anchor=\"middle\" x=\"355\" y=\"-69.8\" font-family=\"Times,serif\" font-size=\"14.00\">x2*w2</text>\n<polyline fill=\"none\" stroke=\"black\" points=\"381.5,-55.5 381.5,-91.5 \"/>\n<text text-anchor=\"middle\" x=\"421.5\" y=\"-69.8\" font-family=\"Times,serif\" font-size=\"14.00\">data 0.0000</text>\n<polyline fill=\"none\" stroke=\"black\" points=\"461.5,-55.5 461.5,-91.5 \"/>\n<text text-anchor=\"middle\" x=\"502.5\" y=\"-69.8\" font-family=\"Times,serif\" font-size=\"14.00\">grad 0.5000</text>\n</g>\n<!-- 139870514882400&#45;&gt;139870514882928+ -->\n<g id=\"edge13\" class=\"edge\">\n<title>139870514882400&#45;&gt;139870514882928+</title>\n<path fill=\"none\" stroke=\"black\" d=\"M543.84,-90.37C554.01,-91.98 563.76,-93.51 572.44,-94.89\"/>\n<polygon fill=\"black\" stroke=\"black\" points=\"572.05,-98.37 582.47,-96.47 573.14,-91.45 572.05,-98.37\"/>\n</g>\n<!-- 139870514882400*&#45;&gt;139870514882400 -->\n<g id=\"edge4\" class=\"edge\">\n<title>139870514882400*&#45;&gt;139870514882400</title>\n<path fill=\"none\" stroke=\"black\" d=\"M290.34,-73.5C298.51,-73.5 308.08,-73.5 318.36,-73.5\"/>\n<polygon fill=\"black\" stroke=\"black\" points=\"318.39,-77 328.39,-73.5 318.39,-70 318.39,-77\"/>\n</g>\n<!-- 139870514882928 -->\n<g id=\"node13\" class=\"node\">\n<title>139870514882928</title>\n<polygon fill=\"none\" stroke=\"black\" points=\"672,-82.5 672,-118.5 945,-118.5 945,-82.5 672,-82.5\"/>\n<text text-anchor=\"middle\" x=\"725\" y=\"-96.8\" font-family=\"Times,serif\" font-size=\"14.00\">x1*w1 + x2*w2</text>\n<polyline fill=\"none\" stroke=\"black\" points=\"778,-82.5 778,-118.5 \"/>\n<text text-anchor=\"middle\" x=\"820.5\" y=\"-96.8\" font-family=\"Times,serif\" font-size=\"14.00\">data &#45;6.0000</text>\n<polyline fill=\"none\" stroke=\"black\" points=\"863,-82.5 863,-118.5 \"/>\n<text text-anchor=\"middle\" x=\"904\" y=\"-96.8\" font-family=\"Times,serif\" font-size=\"14.00\">grad 0.5000</text>\n</g>\n<!-- 139870514882928&#45;&gt;139870514882208+ -->\n<g id=\"edge14\" class=\"edge\">\n<title>139870514882928&#45;&gt;139870514882208+</title>\n<path fill=\"none\" stroke=\"black\" d=\"M936.53,-82.49C949.09,-80.71 960.99,-79.02 971.3,-77.56\"/>\n<polygon fill=\"black\" stroke=\"black\" points=\"972.03,-80.99 981.44,-76.12 971.05,-74.06 972.03,-80.99\"/>\n</g>\n<!-- 139870514882928+&#45;&gt;139870514882928 -->\n<g id=\"edge5\" class=\"edge\">\n<title>139870514882928+&#45;&gt;139870514882928</title>\n<path fill=\"none\" stroke=\"black\" d=\"M636.23,-100.5C643.7,-100.5 652.41,-100.5 661.87,-100.5\"/>\n<polygon fill=\"black\" stroke=\"black\" points=\"661.98,-104 671.98,-100.5 661.98,-97 661.98,-104\"/>\n</g>\n<!-- 139870514880912 -->\n<g id=\"node15\" class=\"node\">\n<title>139870514880912</title>\n<polygon fill=\"none\" stroke=\"black\" points=\"716,-27.5 716,-63.5 901,-63.5 901,-27.5 716,-27.5\"/>\n<text text-anchor=\"middle\" x=\"727.5\" y=\"-41.8\" font-family=\"Times,serif\" font-size=\"14.00\">b</text>\n<polyline fill=\"none\" stroke=\"black\" points=\"739,-27.5 739,-63.5 \"/>\n<text text-anchor=\"middle\" x=\"779\" y=\"-41.8\" font-family=\"Times,serif\" font-size=\"14.00\">data 6.8814</text>\n<polyline fill=\"none\" stroke=\"black\" points=\"819,-27.5 819,-63.5 \"/>\n<text text-anchor=\"middle\" x=\"860\" y=\"-41.8\" font-family=\"Times,serif\" font-size=\"14.00\">grad 0.5000</text>\n</g>\n<!-- 139870514880912&#45;&gt;139870514882208+ -->\n<g id=\"edge9\" class=\"edge\">\n<title>139870514880912&#45;&gt;139870514882208+</title>\n<path fill=\"none\" stroke=\"black\" d=\"M901.02,-58.01C926,-61.43 951.59,-64.93 971.37,-67.63\"/>\n<polygon fill=\"black\" stroke=\"black\" points=\"971.05,-71.12 981.43,-69.01 972,-64.18 971.05,-71.12\"/>\n</g>\n</g>\n</svg>\n"
          },
          "metadata": {},
          "execution_count": 137
        }
      ]
    },
    {
      "cell_type": "code",
      "source": [
        "o.grad = 1"
      ],
      "metadata": {
        "id": "guKXgpCTJGGj"
      },
      "execution_count": 126,
      "outputs": []
    },
    {
      "cell_type": "markdown",
      "source": [
        "if $o = tanh(n)$, then what is the $\\frac{do}{dn} = 1- tanh(n)^2 = 1 - o^2$"
      ],
      "metadata": {
        "id": "CwqTbTR1Jbqc"
      }
    },
    {
      "cell_type": "code",
      "source": [
        "1 - o.data**2 "
      ],
      "metadata": {
        "colab": {
          "base_uri": "https://localhost:8080/"
        },
        "id": "3-BdU94cJXY2",
        "outputId": "c9e472ff-3362-4e36-dec8-7fc82d74a93f"
      },
      "execution_count": 128,
      "outputs": [
        {
          "output_type": "execute_result",
          "data": {
            "text/plain": [
              "0.4999999999999999"
            ]
          },
          "metadata": {},
          "execution_count": 128
        }
      ]
    },
    {
      "cell_type": "code",
      "source": [
        "n.grad = 0.5"
      ],
      "metadata": {
        "id": "R2TaDuwQKFuq"
      },
      "execution_count": 129,
      "outputs": []
    },
    {
      "cell_type": "code",
      "source": [
        "x1w1x2w2.grad = 0.5\n",
        "b.grad = 0.5"
      ],
      "metadata": {
        "id": "XwUYg3vnKV_a"
      },
      "execution_count": 131,
      "outputs": []
    },
    {
      "cell_type": "code",
      "source": [
        "x1w1.grad = 0.5\n",
        "x2w2.grad = 0.5"
      ],
      "metadata": {
        "id": "BMlJQMRxKkLp"
      },
      "execution_count": 133,
      "outputs": []
    },
    {
      "cell_type": "code",
      "source": [
        "x2.grad = w2.data * x2w2.grad\n",
        "w2.grad = x2.data * x2w2.grad"
      ],
      "metadata": {
        "id": "2heCqScGK3SY"
      },
      "execution_count": 135,
      "outputs": []
    },
    {
      "cell_type": "code",
      "source": [
        "x1.grad = w1.data * x1w1.grad\n",
        "w1.grad = x1.data * x1w1.grad"
      ],
      "metadata": {
        "id": "GmoQTUTaLmgS"
      },
      "execution_count": 136,
      "outputs": []
    }
  ]
}