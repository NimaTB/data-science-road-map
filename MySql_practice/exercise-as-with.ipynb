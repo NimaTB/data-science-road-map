{
 "cells": [
  {
   "cell_type": "markdown",
   "id": "b7c9aeef",
   "metadata": {
    "papermill": {
     "duration": 0.00761,
     "end_time": "2023-02-16T19:19:48.025203",
     "exception": false,
     "start_time": "2023-02-16T19:19:48.017593",
     "status": "completed"
    },
    "tags": []
   },
   "source": [
    "**This notebook is an exercise in the [SQL](https://www.kaggle.com/learn/intro-to-sql) course.  You can reference the tutorial at [this link](https://www.kaggle.com/dansbecker/as-with).**\n",
    "\n",
    "---\n"
   ]
  },
  {
   "cell_type": "markdown",
   "id": "a95a7188",
   "metadata": {
    "papermill": {
     "duration": 0.005998,
     "end_time": "2023-02-16T19:19:48.037712",
     "exception": false,
     "start_time": "2023-02-16T19:19:48.031714",
     "status": "completed"
    },
    "tags": []
   },
   "source": [
    "# Introduction\n",
    "\n",
    "You are getting to the point where you can own an analysis from beginning to end. So you'll do more data exploration in this exercise than you've done before.  Before you get started, run the following set-up code as usual. "
   ]
  },
  {
   "cell_type": "code",
   "execution_count": 1,
   "id": "59f1d490",
   "metadata": {
    "execution": {
     "iopub.execute_input": "2023-02-16T19:19:48.053038Z",
     "iopub.status.busy": "2023-02-16T19:19:48.051754Z",
     "iopub.status.idle": "2023-02-16T19:20:37.243691Z",
     "shell.execute_reply": "2023-02-16T19:20:37.242470Z"
    },
    "papermill": {
     "duration": 49.202407,
     "end_time": "2023-02-16T19:20:37.246489",
     "exception": false,
     "start_time": "2023-02-16T19:19:48.044082",
     "status": "completed"
    },
    "tags": []
   },
   "outputs": [
    {
     "name": "stdout",
     "output_type": "stream",
     "text": [
      "/bin/bash: /opt/conda/lib/libtinfo.so.6: no version information available (required by /bin/bash)\r\n",
      "Collecting git+https://github.com/Kaggle/learntools.git\r\n",
      "  Cloning https://github.com/Kaggle/learntools.git to /tmp/pip-req-build-mau2kh8c\r\n",
      "  Running command git clone --filter=blob:none --quiet https://github.com/Kaggle/learntools.git /tmp/pip-req-build-mau2kh8c\r\n",
      "  fatal: unable to access 'https://github.com/Kaggle/learntools.git/': Could not resolve host: github.com\r\n",
      "  \u001b[1;31merror\u001b[0m: \u001b[1msubprocess-exited-with-error\u001b[0m\r\n",
      "  \r\n",
      "  \u001b[31m×\u001b[0m \u001b[32mgit clone --\u001b[0m\u001b[32mfilter\u001b[0m\u001b[32m=\u001b[0m\u001b[32mblob\u001b[0m\u001b[32m:none --quiet \u001b[0m\u001b[4;32mhttps://github.com/Kaggle/learntools.git\u001b[0m\u001b[32m \u001b[0m\u001b[32m/tmp/\u001b[0m\u001b[32mpip-req-build-mau2kh8c\u001b[0m did not run successfully.\r\n",
      "  \u001b[31m│\u001b[0m exit code: \u001b[1;36m128\u001b[0m\r\n",
      "  \u001b[31m╰─>\u001b[0m See above for output.\r\n",
      "  \r\n",
      "  \u001b[1;35mnote\u001b[0m: This error originates from a subprocess, and is likely not a problem with pip.\r\n",
      "\u001b[1;31merror\u001b[0m: \u001b[1msubprocess-exited-with-error\u001b[0m\r\n",
      "\r\n",
      "\u001b[31m×\u001b[0m \u001b[32mgit clone --\u001b[0m\u001b[32mfilter\u001b[0m\u001b[32m=\u001b[0m\u001b[32mblob\u001b[0m\u001b[32m:none --quiet \u001b[0m\u001b[4;32mhttps://github.com/Kaggle/learntools.git\u001b[0m\u001b[32m \u001b[0m\u001b[32m/tmp/\u001b[0m\u001b[32mpip-req-build-mau2kh8c\u001b[0m did not run successfully.\r\n",
      "\u001b[31m│\u001b[0m exit code: \u001b[1;36m128\u001b[0m\r\n",
      "\u001b[31m╰─>\u001b[0m See above for output.\r\n",
      "\r\n",
      "\u001b[1;35mnote\u001b[0m: This error originates from a subprocess, and is likely not a problem with pip.\r\n",
      "\u001b[33mWARNING: There was an error checking the latest version of pip.\u001b[0m\u001b[33m\r\n",
      "\u001b[0mUsing Kaggle's public dataset BigQuery integration.\n"
     ]
    },
    {
     "name": "stderr",
     "output_type": "stream",
     "text": [
      "/opt/conda/lib/python3.7/site-packages/google/cloud/bigquery/client.py:440: UserWarning: Cannot create BigQuery Storage client, the dependency google-cloud-bigquery-storage is not installed.\n",
      "  \"Cannot create BigQuery Storage client, the dependency \"\n"
     ]
    },
    {
     "name": "stdout",
     "output_type": "stream",
     "text": [
      "Setup Complete\n"
     ]
    }
   ],
   "source": [
    "# Get most recent checking code\n",
    "!pip install -U -t /kaggle/working/ git+https://github.com/Kaggle/learntools.git\n",
    "# Set up feedback system\n",
    "from learntools.core import binder\n",
    "binder.bind(globals())\n",
    "from learntools.sql.ex5 import *\n",
    "print(\"Setup Complete\")"
   ]
  },
  {
   "cell_type": "markdown",
   "id": "e172ab69",
   "metadata": {
    "papermill": {
     "duration": 0.006717,
     "end_time": "2023-02-16T19:20:37.260312",
     "exception": false,
     "start_time": "2023-02-16T19:20:37.253595",
     "status": "completed"
    },
    "tags": []
   },
   "source": [
    "You'll work with a dataset about taxi trips in the city of Chicago. Run the cell below to fetch the `chicago_taxi_trips` dataset."
   ]
  },
  {
   "cell_type": "code",
   "execution_count": 2,
   "id": "e97cb3de",
   "metadata": {
    "execution": {
     "iopub.execute_input": "2023-02-16T19:20:37.276891Z",
     "iopub.status.busy": "2023-02-16T19:20:37.276498Z",
     "iopub.status.idle": "2023-02-16T19:20:38.732844Z",
     "shell.execute_reply": "2023-02-16T19:20:38.731537Z"
    },
    "papermill": {
     "duration": 1.468136,
     "end_time": "2023-02-16T19:20:38.735477",
     "exception": false,
     "start_time": "2023-02-16T19:20:37.267341",
     "status": "completed"
    },
    "tags": []
   },
   "outputs": [
    {
     "name": "stdout",
     "output_type": "stream",
     "text": [
      "Using Kaggle's public dataset BigQuery integration.\n"
     ]
    }
   ],
   "source": [
    "from google.cloud import bigquery\n",
    "\n",
    "# Create a \"Client\" object\n",
    "client = bigquery.Client()\n",
    "\n",
    "# Construct a reference to the \"chicago_taxi_trips\" dataset\n",
    "dataset_ref = client.dataset(\"chicago_taxi_trips\", project=\"bigquery-public-data\")\n",
    "\n",
    "# API request - fetch the dataset\n",
    "dataset = client.get_dataset(dataset_ref)"
   ]
  },
  {
   "cell_type": "markdown",
   "id": "18fde6d9",
   "metadata": {
    "papermill": {
     "duration": 0.006778,
     "end_time": "2023-02-16T19:20:38.749398",
     "exception": false,
     "start_time": "2023-02-16T19:20:38.742620",
     "status": "completed"
    },
    "tags": []
   },
   "source": [
    "# Exercises\n",
    "\n",
    "You are curious how much slower traffic moves when traffic volume is high. This involves a few steps.\n",
    "\n",
    "### 1) Find the data\n",
    "Before you can access the data, you need to find the table name with the data.\n",
    "\n",
    "*Hint*: Tab completion is helpful whenever you can't remember a command. Type `client.` and then hit the tab key. Don't forget the period before hitting tab."
   ]
  },
  {
   "cell_type": "code",
   "execution_count": 3,
   "id": "f32f8ec0",
   "metadata": {
    "execution": {
     "iopub.execute_input": "2023-02-16T19:20:38.765172Z",
     "iopub.status.busy": "2023-02-16T19:20:38.764756Z",
     "iopub.status.idle": "2023-02-16T19:20:39.154863Z",
     "shell.execute_reply": "2023-02-16T19:20:39.153334Z"
    },
    "papermill": {
     "duration": 0.40112,
     "end_time": "2023-02-16T19:20:39.157560",
     "exception": false,
     "start_time": "2023-02-16T19:20:38.756440",
     "status": "completed"
    },
    "tags": []
   },
   "outputs": [
    {
     "name": "stdout",
     "output_type": "stream",
     "text": [
      "taxi_trips\n",
      "1\n"
     ]
    }
   ],
   "source": [
    "# Your code here to find the table name\n",
    "tables = list(client.list_tables(dataset))\n",
    "for table in tables:  \n",
    "    print(table.table_id)\n",
    "num_tables = len(tables)\n",
    "print(num_tables)"
   ]
  },
  {
   "cell_type": "code",
   "execution_count": 4,
   "id": "f57bf3c6",
   "metadata": {
    "execution": {
     "iopub.execute_input": "2023-02-16T19:20:39.174531Z",
     "iopub.status.busy": "2023-02-16T19:20:39.174113Z",
     "iopub.status.idle": "2023-02-16T19:20:39.184974Z",
     "shell.execute_reply": "2023-02-16T19:20:39.183813Z"
    },
    "papermill": {
     "duration": 0.022504,
     "end_time": "2023-02-16T19:20:39.187481",
     "exception": false,
     "start_time": "2023-02-16T19:20:39.164977",
     "status": "completed"
    },
    "tags": []
   },
   "outputs": [
    {
     "data": {
      "application/javascript": [
       "parent.postMessage({\"jupyterEvent\": \"custom.exercise_interaction\", \"data\": {\"outcomeType\": 1, \"valueTowardsCompletion\": 0.16666666666666666, \"interactionType\": 1, \"questionType\": 1, \"questionId\": \"1_GetTableName\", \"learnToolsVersion\": \"0.3.4\", \"failureMessage\": \"\", \"exceptionClass\": \"\", \"trace\": \"\"}}, \"*\")"
      ],
      "text/plain": [
       "<IPython.core.display.Javascript object>"
      ]
     },
     "metadata": {},
     "output_type": "display_data"
    },
    {
     "data": {
      "text/markdown": [
       "<span style=\"color:#33cc33\">Correct</span>"
      ],
      "text/plain": [
       "Correct"
      ]
     },
     "metadata": {},
     "output_type": "display_data"
    }
   ],
   "source": [
    "# Write the table name as a string below\n",
    "table_name = 'taxi_trips'\n",
    "\n",
    "# Check your answer\n",
    "q_1.check()"
   ]
  },
  {
   "cell_type": "markdown",
   "id": "91ccf7fc",
   "metadata": {
    "papermill": {
     "duration": 0.007044,
     "end_time": "2023-02-16T19:20:39.202075",
     "exception": false,
     "start_time": "2023-02-16T19:20:39.195031",
     "status": "completed"
    },
    "tags": []
   },
   "source": [
    "For the solution, uncomment the line below."
   ]
  },
  {
   "cell_type": "code",
   "execution_count": 5,
   "id": "32d82480",
   "metadata": {
    "execution": {
     "iopub.execute_input": "2023-02-16T19:20:39.219206Z",
     "iopub.status.busy": "2023-02-16T19:20:39.218355Z",
     "iopub.status.idle": "2023-02-16T19:20:39.223336Z",
     "shell.execute_reply": "2023-02-16T19:20:39.222219Z"
    },
    "papermill": {
     "duration": 0.016418,
     "end_time": "2023-02-16T19:20:39.226019",
     "exception": false,
     "start_time": "2023-02-16T19:20:39.209601",
     "status": "completed"
    },
    "tags": []
   },
   "outputs": [],
   "source": [
    "#q_1.solution()"
   ]
  },
  {
   "cell_type": "markdown",
   "id": "3fda0f6c",
   "metadata": {
    "papermill": {
     "duration": 0.007107,
     "end_time": "2023-02-16T19:20:39.240639",
     "exception": false,
     "start_time": "2023-02-16T19:20:39.233532",
     "status": "completed"
    },
    "tags": []
   },
   "source": [
    "### 2) Peek at the data\n",
    "\n",
    "Use the next code cell to peek at the top few rows of the data. Inspect the data and see if any issues with data quality are immediately obvious. "
   ]
  },
  {
   "cell_type": "code",
   "execution_count": 6,
   "id": "b048cd27",
   "metadata": {
    "execution": {
     "iopub.execute_input": "2023-02-16T19:20:39.256959Z",
     "iopub.status.busy": "2023-02-16T19:20:39.256543Z",
     "iopub.status.idle": "2023-02-16T19:20:40.815383Z",
     "shell.execute_reply": "2023-02-16T19:20:40.814181Z"
    },
    "papermill": {
     "duration": 1.569997,
     "end_time": "2023-02-16T19:20:40.817872",
     "exception": false,
     "start_time": "2023-02-16T19:20:39.247875",
     "status": "completed"
    },
    "tags": []
   },
   "outputs": [
    {
     "name": "stderr",
     "output_type": "stream",
     "text": [
      "/opt/conda/lib/python3.7/site-packages/ipykernel_launcher.py:8: UserWarning: Cannot use bqstorage_client if max_results is set, reverting to fetching data with the tabledata.list endpoint.\n",
      "  \n"
     ]
    },
    {
     "data": {
      "text/html": [
       "<div>\n",
       "<style scoped>\n",
       "    .dataframe tbody tr th:only-of-type {\n",
       "        vertical-align: middle;\n",
       "    }\n",
       "\n",
       "    .dataframe tbody tr th {\n",
       "        vertical-align: top;\n",
       "    }\n",
       "\n",
       "    .dataframe thead th {\n",
       "        text-align: right;\n",
       "    }\n",
       "</style>\n",
       "<table border=\"1\" class=\"dataframe\">\n",
       "  <thead>\n",
       "    <tr style=\"text-align: right;\">\n",
       "      <th></th>\n",
       "      <th>unique_key</th>\n",
       "      <th>taxi_id</th>\n",
       "      <th>trip_start_timestamp</th>\n",
       "      <th>trip_end_timestamp</th>\n",
       "      <th>trip_seconds</th>\n",
       "      <th>trip_miles</th>\n",
       "      <th>pickup_census_tract</th>\n",
       "      <th>dropoff_census_tract</th>\n",
       "      <th>pickup_community_area</th>\n",
       "      <th>dropoff_community_area</th>\n",
       "      <th>...</th>\n",
       "      <th>extras</th>\n",
       "      <th>trip_total</th>\n",
       "      <th>payment_type</th>\n",
       "      <th>company</th>\n",
       "      <th>pickup_latitude</th>\n",
       "      <th>pickup_longitude</th>\n",
       "      <th>pickup_location</th>\n",
       "      <th>dropoff_latitude</th>\n",
       "      <th>dropoff_longitude</th>\n",
       "      <th>dropoff_location</th>\n",
       "    </tr>\n",
       "  </thead>\n",
       "  <tbody>\n",
       "    <tr>\n",
       "      <th>0</th>\n",
       "      <td>729ba878fdd102d75354be82a6d2ca1a0a8d6c26</td>\n",
       "      <td>11b7c42b4edd22871e20345b6d660674e67d199e431a9e...</td>\n",
       "      <td>2014-10-12 19:45:00+00:00</td>\n",
       "      <td>2014-10-12 19:45:00+00:00</td>\n",
       "      <td>0</td>\n",
       "      <td>0.0</td>\n",
       "      <td>NaN</td>\n",
       "      <td>NaN</td>\n",
       "      <td>NaN</td>\n",
       "      <td>NaN</td>\n",
       "      <td>...</td>\n",
       "      <td>0.0</td>\n",
       "      <td>142.92</td>\n",
       "      <td>Credit Card</td>\n",
       "      <td>Chicago Elite Cab Corp. (Chicago Carriag</td>\n",
       "      <td>NaN</td>\n",
       "      <td>NaN</td>\n",
       "      <td>None</td>\n",
       "      <td>NaN</td>\n",
       "      <td>NaN</td>\n",
       "      <td>None</td>\n",
       "    </tr>\n",
       "    <tr>\n",
       "      <th>1</th>\n",
       "      <td>95a53b4a411b3a7a7bb6b7d2ebba7b59e237709f</td>\n",
       "      <td>f17ab0698b8c6ca146d267a064142f94caf779355f0f11...</td>\n",
       "      <td>2014-11-13 22:00:00+00:00</td>\n",
       "      <td>2014-11-13 22:15:00+00:00</td>\n",
       "      <td>960</td>\n",
       "      <td>3.9</td>\n",
       "      <td>NaN</td>\n",
       "      <td>NaN</td>\n",
       "      <td>NaN</td>\n",
       "      <td>NaN</td>\n",
       "      <td>...</td>\n",
       "      <td>1.0</td>\n",
       "      <td>12.65</td>\n",
       "      <td>Cash</td>\n",
       "      <td>Taxi Affiliation Services</td>\n",
       "      <td>NaN</td>\n",
       "      <td>NaN</td>\n",
       "      <td>None</td>\n",
       "      <td>NaN</td>\n",
       "      <td>NaN</td>\n",
       "      <td>None</td>\n",
       "    </tr>\n",
       "    <tr>\n",
       "      <th>2</th>\n",
       "      <td>5e986109956f92977b0ba80b11511037dde52d1a</td>\n",
       "      <td>67492f30cea5835460bdf432575c374bbccf9b6fc50ce5...</td>\n",
       "      <td>2014-11-14 04:00:00+00:00</td>\n",
       "      <td>2014-11-14 04:00:00+00:00</td>\n",
       "      <td>0</td>\n",
       "      <td>0.0</td>\n",
       "      <td>NaN</td>\n",
       "      <td>NaN</td>\n",
       "      <td>NaN</td>\n",
       "      <td>NaN</td>\n",
       "      <td>...</td>\n",
       "      <td>0.0</td>\n",
       "      <td>43.45</td>\n",
       "      <td>Credit Card</td>\n",
       "      <td>Suburban Dispatch LLC</td>\n",
       "      <td>NaN</td>\n",
       "      <td>NaN</td>\n",
       "      <td>None</td>\n",
       "      <td>NaN</td>\n",
       "      <td>NaN</td>\n",
       "      <td>None</td>\n",
       "    </tr>\n",
       "    <tr>\n",
       "      <th>3</th>\n",
       "      <td>ecea4ebf1241881cb650e26e9f7bcb1400efc0af</td>\n",
       "      <td>e93472aad9e00c0a523e1a861ae897303548d713ba63d3...</td>\n",
       "      <td>2016-01-26 10:45:00+00:00</td>\n",
       "      <td>2016-01-26 10:45:00+00:00</td>\n",
       "      <td>0</td>\n",
       "      <td>0.0</td>\n",
       "      <td>NaN</td>\n",
       "      <td>NaN</td>\n",
       "      <td>NaN</td>\n",
       "      <td>NaN</td>\n",
       "      <td>...</td>\n",
       "      <td>0.0</td>\n",
       "      <td>6.60</td>\n",
       "      <td>Credit Card</td>\n",
       "      <td>Chicago Elite Cab Corp. (Chicago Carriag</td>\n",
       "      <td>NaN</td>\n",
       "      <td>NaN</td>\n",
       "      <td>None</td>\n",
       "      <td>NaN</td>\n",
       "      <td>NaN</td>\n",
       "      <td>None</td>\n",
       "    </tr>\n",
       "    <tr>\n",
       "      <th>4</th>\n",
       "      <td>a46923f9d54face1de8d17a89b59f389d3bbf42e</td>\n",
       "      <td>d5a8066dabd9c66763473831bd563811bc4160935fc437...</td>\n",
       "      <td>2014-10-10 15:15:00+00:00</td>\n",
       "      <td>2014-10-10 15:15:00+00:00</td>\n",
       "      <td>0</td>\n",
       "      <td>0.0</td>\n",
       "      <td>NaN</td>\n",
       "      <td>NaN</td>\n",
       "      <td>NaN</td>\n",
       "      <td>NaN</td>\n",
       "      <td>...</td>\n",
       "      <td>0.0</td>\n",
       "      <td>9.18</td>\n",
       "      <td>Credit Card</td>\n",
       "      <td>Chicago Elite Cab Corp. (Chicago Carriag</td>\n",
       "      <td>NaN</td>\n",
       "      <td>NaN</td>\n",
       "      <td>None</td>\n",
       "      <td>NaN</td>\n",
       "      <td>NaN</td>\n",
       "      <td>None</td>\n",
       "    </tr>\n",
       "  </tbody>\n",
       "</table>\n",
       "<p>5 rows × 23 columns</p>\n",
       "</div>"
      ],
      "text/plain": [
       "                                 unique_key  \\\n",
       "0  729ba878fdd102d75354be82a6d2ca1a0a8d6c26   \n",
       "1  95a53b4a411b3a7a7bb6b7d2ebba7b59e237709f   \n",
       "2  5e986109956f92977b0ba80b11511037dde52d1a   \n",
       "3  ecea4ebf1241881cb650e26e9f7bcb1400efc0af   \n",
       "4  a46923f9d54face1de8d17a89b59f389d3bbf42e   \n",
       "\n",
       "                                             taxi_id  \\\n",
       "0  11b7c42b4edd22871e20345b6d660674e67d199e431a9e...   \n",
       "1  f17ab0698b8c6ca146d267a064142f94caf779355f0f11...   \n",
       "2  67492f30cea5835460bdf432575c374bbccf9b6fc50ce5...   \n",
       "3  e93472aad9e00c0a523e1a861ae897303548d713ba63d3...   \n",
       "4  d5a8066dabd9c66763473831bd563811bc4160935fc437...   \n",
       "\n",
       "       trip_start_timestamp        trip_end_timestamp  trip_seconds  \\\n",
       "0 2014-10-12 19:45:00+00:00 2014-10-12 19:45:00+00:00             0   \n",
       "1 2014-11-13 22:00:00+00:00 2014-11-13 22:15:00+00:00           960   \n",
       "2 2014-11-14 04:00:00+00:00 2014-11-14 04:00:00+00:00             0   \n",
       "3 2016-01-26 10:45:00+00:00 2016-01-26 10:45:00+00:00             0   \n",
       "4 2014-10-10 15:15:00+00:00 2014-10-10 15:15:00+00:00             0   \n",
       "\n",
       "   trip_miles  pickup_census_tract  dropoff_census_tract  \\\n",
       "0         0.0                  NaN                   NaN   \n",
       "1         3.9                  NaN                   NaN   \n",
       "2         0.0                  NaN                   NaN   \n",
       "3         0.0                  NaN                   NaN   \n",
       "4         0.0                  NaN                   NaN   \n",
       "\n",
       "   pickup_community_area  dropoff_community_area  ...  extras  trip_total  \\\n",
       "0                    NaN                     NaN  ...     0.0      142.92   \n",
       "1                    NaN                     NaN  ...     1.0       12.65   \n",
       "2                    NaN                     NaN  ...     0.0       43.45   \n",
       "3                    NaN                     NaN  ...     0.0        6.60   \n",
       "4                    NaN                     NaN  ...     0.0        9.18   \n",
       "\n",
       "   payment_type                                   company  pickup_latitude  \\\n",
       "0   Credit Card  Chicago Elite Cab Corp. (Chicago Carriag              NaN   \n",
       "1          Cash                 Taxi Affiliation Services              NaN   \n",
       "2   Credit Card                     Suburban Dispatch LLC              NaN   \n",
       "3   Credit Card  Chicago Elite Cab Corp. (Chicago Carriag              NaN   \n",
       "4   Credit Card  Chicago Elite Cab Corp. (Chicago Carriag              NaN   \n",
       "\n",
       "  pickup_longitude pickup_location  dropoff_latitude  dropoff_longitude  \\\n",
       "0              NaN            None               NaN                NaN   \n",
       "1              NaN            None               NaN                NaN   \n",
       "2              NaN            None               NaN                NaN   \n",
       "3              NaN            None               NaN                NaN   \n",
       "4              NaN            None               NaN                NaN   \n",
       "\n",
       "  dropoff_location  \n",
       "0             None  \n",
       "1             None  \n",
       "2             None  \n",
       "3             None  \n",
       "4             None  \n",
       "\n",
       "[5 rows x 23 columns]"
      ]
     },
     "execution_count": 6,
     "metadata": {},
     "output_type": "execute_result"
    }
   ],
   "source": [
    "# Your code here\n",
    "# Construct a reference to the \"full\" table\n",
    "table_ref = dataset_ref.table(\"taxi_trips\")\n",
    "\n",
    "# API request - fetch the table\n",
    "table = client.get_table(table_ref)\n",
    "table.schema\n",
    "client.list_rows(table, max_results=5).to_dataframe()"
   ]
  },
  {
   "cell_type": "markdown",
   "id": "12dc96fc",
   "metadata": {
    "papermill": {
     "duration": 0.008148,
     "end_time": "2023-02-16T19:20:40.834406",
     "exception": false,
     "start_time": "2023-02-16T19:20:40.826258",
     "status": "completed"
    },
    "tags": []
   },
   "source": [
    "After deciding whether you see any important issues, run the code cell below."
   ]
  },
  {
   "cell_type": "code",
   "execution_count": 7,
   "id": "80f6c2bd",
   "metadata": {
    "execution": {
     "iopub.execute_input": "2023-02-16T19:20:40.852814Z",
     "iopub.status.busy": "2023-02-16T19:20:40.852425Z",
     "iopub.status.idle": "2023-02-16T19:20:40.857748Z",
     "shell.execute_reply": "2023-02-16T19:20:40.856339Z"
    },
    "papermill": {
     "duration": 0.017734,
     "end_time": "2023-02-16T19:20:40.860271",
     "exception": false,
     "start_time": "2023-02-16T19:20:40.842537",
     "status": "completed"
    },
    "tags": []
   },
   "outputs": [],
   "source": [
    "# Check your answer (Run this code cell to receive credit!)\n",
    "#q_2.solution()"
   ]
  },
  {
   "cell_type": "markdown",
   "id": "22bfd38f",
   "metadata": {
    "papermill": {
     "duration": 0.007894,
     "end_time": "2023-02-16T19:20:40.875990",
     "exception": false,
     "start_time": "2023-02-16T19:20:40.868096",
     "status": "completed"
    },
    "tags": []
   },
   "source": [
    "### 3) Determine when this data is from\n",
    "\n",
    "If the data is sufficiently old, we might be careful before assuming the data is still relevant to traffic patterns today. Write a query that counts the number of trips in each year.  \n",
    "\n",
    "Your results should have two columns:\n",
    "- `year` - the year of the trips\n",
    "- `num_trips` - the number of trips in that year\n",
    "\n",
    "Hints:\n",
    "- When using **GROUP BY** and **ORDER BY**, you should refer to the columns by the alias `year` that you set at the top of the **SELECT** query.\n",
    "- The SQL code to **SELECT** the year from `trip_start_timestamp` is <code>SELECT EXTRACT(YEAR FROM trip_start_timestamp)</code>\n",
    "- The **FROM** field can be a little tricky until you are used to it.  The format is:\n",
    "    1. A backick (the symbol \\`).\n",
    "    2. The project name. In this case it is `bigquery-public-data`.\n",
    "    3. A period.\n",
    "    4. The dataset name. In this case, it is `chicago_taxi_trips`.\n",
    "    5. A period.\n",
    "    6. The table name. You used this as your answer in **1) Find the data**.\n",
    "    7. A backtick (the symbol \\`)."
   ]
  },
  {
   "cell_type": "code",
   "execution_count": 8,
   "id": "5a08f440",
   "metadata": {
    "execution": {
     "iopub.execute_input": "2023-02-16T19:20:40.893541Z",
     "iopub.status.busy": "2023-02-16T19:20:40.893117Z",
     "iopub.status.idle": "2023-02-16T19:20:42.376075Z",
     "shell.execute_reply": "2023-02-16T19:20:42.374039Z"
    },
    "papermill": {
     "duration": 1.49801,
     "end_time": "2023-02-16T19:20:42.381750",
     "exception": false,
     "start_time": "2023-02-16T19:20:40.883740",
     "status": "completed"
    },
    "tags": []
   },
   "outputs": [
    {
     "name": "stderr",
     "output_type": "stream",
     "text": [
      "/opt/conda/lib/python3.7/site-packages/google/cloud/bigquery/client.py:440: UserWarning: Cannot create BigQuery Storage client, the dependency google-cloud-bigquery-storage is not installed.\n",
      "  \"Cannot create BigQuery Storage client, the dependency \"\n"
     ]
    },
    {
     "name": "stdout",
     "output_type": "stream",
     "text": [
      "    year  num_trips\n",
      "0   2013   27217300\n",
      "1   2014   37395079\n",
      "2   2015   32385527\n",
      "3   2016   31756403\n",
      "4   2017   24979611\n",
      "5   2018   20731105\n",
      "6   2019   16476440\n",
      "7   2020    3888831\n",
      "8   2021    3947677\n",
      "9   2022    6382071\n",
      "10  2023     414489\n"
     ]
    },
    {
     "data": {
      "application/javascript": [
       "parent.postMessage({\"jupyterEvent\": \"custom.exercise_interaction\", \"data\": {\"outcomeType\": 1, \"valueTowardsCompletion\": 0.16666666666666666, \"interactionType\": 1, \"questionType\": 2, \"questionId\": \"3_YearDistrib\", \"learnToolsVersion\": \"0.3.4\", \"failureMessage\": \"\", \"exceptionClass\": \"\", \"trace\": \"\"}}, \"*\")"
      ],
      "text/plain": [
       "<IPython.core.display.Javascript object>"
      ]
     },
     "metadata": {},
     "output_type": "display_data"
    },
    {
     "data": {
      "text/markdown": [
       "<span style=\"color:#33cc33\">Correct</span>"
      ],
      "text/plain": [
       "Correct"
      ]
     },
     "metadata": {},
     "output_type": "display_data"
    }
   ],
   "source": [
    "# Your code goes here\n",
    "rides_per_year_query = \"\"\"\n",
    "                       SELECT EXTRACT(YEAR FROM trip_start_timestamp) AS year,\n",
    "                           COUNT(1) AS num_trips\n",
    "                       FROM `bigquery-public-data.chicago_taxi_trips.taxi_trips`\n",
    "                       GROUP BY year\n",
    "                       ORDER BY year\n",
    "                       \"\"\"\n",
    "\n",
    "# Set up the query (cancel the query if it would use too much of \n",
    "# your quota)\n",
    "safe_config = bigquery.QueryJobConfig(maximum_bytes_billed=10**10)\n",
    "rides_per_year_query_job = client.query(rides_per_year_query, job_config=safe_config)# Your code goes here\n",
    "\n",
    "# API request - run the query, and return a pandas DataFrame\n",
    "rides_per_year_result = rides_per_year_query_job.to_dataframe() # Your code goes here\n",
    "\n",
    "# View results\n",
    "print(rides_per_year_result)\n",
    "\n",
    "# Check your answer\n",
    "q_3.check()"
   ]
  },
  {
   "cell_type": "markdown",
   "id": "c2a505e6",
   "metadata": {
    "papermill": {
     "duration": 0.009342,
     "end_time": "2023-02-16T19:20:42.400069",
     "exception": false,
     "start_time": "2023-02-16T19:20:42.390727",
     "status": "completed"
    },
    "tags": []
   },
   "source": [
    "For a hint or the solution, uncomment the appropriate line below."
   ]
  },
  {
   "cell_type": "code",
   "execution_count": 9,
   "id": "a46ead6b",
   "metadata": {
    "execution": {
     "iopub.execute_input": "2023-02-16T19:20:42.422434Z",
     "iopub.status.busy": "2023-02-16T19:20:42.421488Z",
     "iopub.status.idle": "2023-02-16T19:20:42.426223Z",
     "shell.execute_reply": "2023-02-16T19:20:42.425231Z"
    },
    "papermill": {
     "duration": 0.017985,
     "end_time": "2023-02-16T19:20:42.428533",
     "exception": false,
     "start_time": "2023-02-16T19:20:42.410548",
     "status": "completed"
    },
    "tags": []
   },
   "outputs": [],
   "source": [
    "#q_3.hint()\n",
    "#q_3.solution()"
   ]
  },
  {
   "cell_type": "markdown",
   "id": "92d5ec03",
   "metadata": {
    "papermill": {
     "duration": 0.007825,
     "end_time": "2023-02-16T19:20:42.444622",
     "exception": false,
     "start_time": "2023-02-16T19:20:42.436797",
     "status": "completed"
    },
    "tags": []
   },
   "source": [
    "### 4) Dive slightly deeper\n",
    "\n",
    "You'd like to take a closer look at rides from 2016.  Copy the query you used above in `rides_per_year_query` into the cell below for `rides_per_month_query`.  Then modify it in two ways:\n",
    "1. Use a **WHERE** clause to limit the query to data from 2016.\n",
    "2. Modify the query to extract the month rather than the year."
   ]
  },
  {
   "cell_type": "code",
   "execution_count": 10,
   "id": "0164bcce",
   "metadata": {
    "execution": {
     "iopub.execute_input": "2023-02-16T19:20:42.463663Z",
     "iopub.status.busy": "2023-02-16T19:20:42.462743Z",
     "iopub.status.idle": "2023-02-16T19:20:43.969175Z",
     "shell.execute_reply": "2023-02-16T19:20:43.967725Z"
    },
    "papermill": {
     "duration": 1.518735,
     "end_time": "2023-02-16T19:20:43.971566",
     "exception": false,
     "start_time": "2023-02-16T19:20:42.452831",
     "status": "completed"
    },
    "tags": []
   },
   "outputs": [
    {
     "name": "stderr",
     "output_type": "stream",
     "text": [
      "/opt/conda/lib/python3.7/site-packages/google/cloud/bigquery/client.py:440: UserWarning: Cannot create BigQuery Storage client, the dependency google-cloud-bigquery-storage is not installed.\n",
      "  \"Cannot create BigQuery Storage client, the dependency \"\n"
     ]
    },
    {
     "name": "stdout",
     "output_type": "stream",
     "text": [
      "    month  num_trips\n",
      "0       1    2510389\n",
      "1       2    2568433\n",
      "2       3    2851106\n",
      "3       4    2854290\n",
      "4       5    2859147\n",
      "5       6    2841872\n",
      "6       7    2682912\n",
      "7       8    2629482\n",
      "8       9    2532650\n",
      "9      10    2725340\n",
      "10     11    2387790\n",
      "11     12    2312992\n"
     ]
    },
    {
     "data": {
      "application/javascript": [
       "parent.postMessage({\"jupyterEvent\": \"custom.exercise_interaction\", \"data\": {\"outcomeType\": 1, \"valueTowardsCompletion\": 0.16666666666666666, \"interactionType\": 1, \"questionType\": 2, \"questionId\": \"4_MonthDistrib\", \"learnToolsVersion\": \"0.3.4\", \"failureMessage\": \"\", \"exceptionClass\": \"\", \"trace\": \"\"}}, \"*\")"
      ],
      "text/plain": [
       "<IPython.core.display.Javascript object>"
      ]
     },
     "metadata": {},
     "output_type": "display_data"
    },
    {
     "data": {
      "text/markdown": [
       "<span style=\"color:#33cc33\">Correct</span>"
      ],
      "text/plain": [
       "Correct"
      ]
     },
     "metadata": {},
     "output_type": "display_data"
    }
   ],
   "source": [
    "# Your code goes here\n",
    "rides_per_month_query = \"\"\"\n",
    "                       SELECT EXTRACT(MONTH FROM trip_start_timestamp) AS month, \n",
    "                              COUNT(1) AS num_trips\n",
    "                       FROM `bigquery-public-data.chicago_taxi_trips.taxi_trips`\n",
    "                       WHERE EXTRACT(year FROM trip_start_timestamp) = 2016\n",
    "                       GROUP BY month\n",
    "                       ORDER BY month\n",
    "                       \"\"\"\n",
    "\n",
    "# Set up the query\n",
    "safe_config = bigquery.QueryJobConfig(maximum_bytes_billed=10**10)\n",
    "rides_per_month_query_job = client.query(rides_per_month_query, job_config=safe_config) # Your code goes here\n",
    "\n",
    "# API request - run the query, and return a pandas DataFrame\n",
    "rides_per_month_result = rides_per_month_query_job.to_dataframe() # Your code goes here\n",
    "\n",
    "# View results\n",
    "print(rides_per_month_result)\n",
    "\n",
    "# Check your answer\n",
    "q_4.check()"
   ]
  },
  {
   "cell_type": "markdown",
   "id": "1278e9b4",
   "metadata": {
    "papermill": {
     "duration": 0.008451,
     "end_time": "2023-02-16T19:20:43.989093",
     "exception": false,
     "start_time": "2023-02-16T19:20:43.980642",
     "status": "completed"
    },
    "tags": []
   },
   "source": [
    "For a hint or the solution, uncomment the appropriate line below."
   ]
  },
  {
   "cell_type": "code",
   "execution_count": 11,
   "id": "29d0c5b2",
   "metadata": {
    "execution": {
     "iopub.execute_input": "2023-02-16T19:20:44.009119Z",
     "iopub.status.busy": "2023-02-16T19:20:44.008724Z",
     "iopub.status.idle": "2023-02-16T19:20:44.013714Z",
     "shell.execute_reply": "2023-02-16T19:20:44.012484Z"
    },
    "papermill": {
     "duration": 0.017813,
     "end_time": "2023-02-16T19:20:44.016158",
     "exception": false,
     "start_time": "2023-02-16T19:20:43.998345",
     "status": "completed"
    },
    "tags": []
   },
   "outputs": [],
   "source": [
    "#q_4.hint()\n",
    "#q_4.solution()"
   ]
  },
  {
   "cell_type": "markdown",
   "id": "48f84aab",
   "metadata": {
    "papermill": {
     "duration": 0.008266,
     "end_time": "2023-02-16T19:20:44.033089",
     "exception": false,
     "start_time": "2023-02-16T19:20:44.024823",
     "status": "completed"
    },
    "tags": []
   },
   "source": [
    "### 5) Write the query\n",
    "\n",
    "It's time to step up the sophistication of your queries.  Write a query that shows, for each hour of the day in the dataset, the corresponding number of trips and average speed.\n",
    "\n",
    "Your results should have three columns:\n",
    "- `hour_of_day` - sort by this column, which holds the result of extracting the hour from `trip_start_timestamp`.\n",
    "- `num_trips` - the count of the total number of trips in each hour of the day (e.g. how many trips were started between 6AM and 7AM, independent of which day it occurred on).\n",
    "- `avg_mph` - the average speed, measured in miles per hour, for trips that started in that hour of the day.  Average speed in miles per hour is calculated as `3600 * SUM(trip_miles) / SUM(trip_seconds)`. (The value 3600 is used to convert from seconds to hours.)\n",
    "\n",
    "Restrict your query to data meeting the following criteria:\n",
    "- a `trip_start_timestamp` > **2016-01-01** and < **2016-04-01**\n",
    "- `trip_seconds` > 0 and `trip_miles` > 0\n",
    "\n",
    "You will use a common table expression (CTE) to select just the relevant rides.  Because this dataset is very big, this CTE should select only the columns you'll need to create the final output (though you won't actually create those in the CTE -- instead you'll create those in the later **SELECT** statement below the CTE).\n",
    "\n",
    "This is a much harder query than anything you've written so far.  Good luck!"
   ]
  },
  {
   "cell_type": "code",
   "execution_count": 12,
   "id": "0156fae2",
   "metadata": {
    "execution": {
     "iopub.execute_input": "2023-02-16T19:20:44.053264Z",
     "iopub.status.busy": "2023-02-16T19:20:44.052448Z",
     "iopub.status.idle": "2023-02-16T19:20:45.575633Z",
     "shell.execute_reply": "2023-02-16T19:20:45.574419Z"
    },
    "papermill": {
     "duration": 1.536518,
     "end_time": "2023-02-16T19:20:45.578191",
     "exception": false,
     "start_time": "2023-02-16T19:20:44.041673",
     "status": "completed"
    },
    "tags": []
   },
   "outputs": [
    {
     "name": "stderr",
     "output_type": "stream",
     "text": [
      "/opt/conda/lib/python3.7/site-packages/google/cloud/bigquery/client.py:440: UserWarning: Cannot create BigQuery Storage client, the dependency google-cloud-bigquery-storage is not installed.\n",
      "  \"Cannot create BigQuery Storage client, the dependency \"\n"
     ]
    },
    {
     "name": "stdout",
     "output_type": "stream",
     "text": [
      "    hour_of_day  num_trips    avg_mph\n",
      "0             0     203092  20.191744\n",
      "1             1     178046  18.628598\n",
      "2             2     143447  18.444370\n",
      "3             3     108899  19.273107\n",
      "4             4      80067  27.599669\n",
      "5             5      75786  33.065604\n",
      "6             6     102254  28.533112\n",
      "7             7     187585  19.884592\n",
      "8             8     284223  16.787900\n",
      "9             9     306854  18.434124\n",
      "10           10     279762  20.091309\n",
      "11           11     294006  20.926340\n",
      "12           12     311522  20.063901\n",
      "13           13     317225  19.766321\n",
      "14           14     312629  19.309655\n",
      "15           15     319953  18.515564\n",
      "16           16     349455  17.168814\n",
      "17           17     394324  14.641375\n",
      "18           18     431991  15.381995\n",
      "19           19     416743  17.795008\n",
      "20           20     356279  20.347398\n",
      "21           21     318363  22.584731\n",
      "22           22     289886  21.129847\n",
      "23           23     241690  20.259757\n"
     ]
    },
    {
     "data": {
      "application/javascript": [
       "parent.postMessage({\"jupyterEvent\": \"custom.exercise_interaction\", \"data\": {\"outcomeType\": 1, \"valueTowardsCompletion\": 0.16666666666666666, \"interactionType\": 1, \"questionType\": 2, \"questionId\": \"5_TheLongQuery\", \"learnToolsVersion\": \"0.3.4\", \"failureMessage\": \"\", \"exceptionClass\": \"\", \"trace\": \"\"}}, \"*\")"
      ],
      "text/plain": [
       "<IPython.core.display.Javascript object>"
      ]
     },
     "metadata": {},
     "output_type": "display_data"
    },
    {
     "data": {
      "text/markdown": [
       "<span style=\"color:#33cc33\">Correct</span>"
      ],
      "text/plain": [
       "Correct"
      ]
     },
     "metadata": {},
     "output_type": "display_data"
    }
   ],
   "source": [
    "# Your code goes here\n",
    "speeds_query = \"\"\"\n",
    "               WITH RelevantRides AS\n",
    "               (\n",
    "                   SELECT * \n",
    "                   FROM `bigquery-public-data.chicago_taxi_trips.taxi_trips`\n",
    "                   WHERE ('2016-01-01' < trip_start_timestamp) AND  (trip_start_timestamp < '2016-04-01')\n",
    "                       AND (0 < trip_seconds) AND (0 < trip_miles)\n",
    "               )\n",
    "               SELECT EXTRACT(HOUR FROM trip_start_timestamp) AS hour_of_day, \n",
    "                   COUNT(1) AS num_trips, (3600 * SUM(trip_miles) / SUM(trip_seconds)) AS avg_mph\n",
    "               FROM RelevantRides\n",
    "               GROUP BY hour_of_day\n",
    "               ORDER BY hour_of_day\n",
    "               \"\"\"\n",
    "\n",
    "# Set up the query\n",
    "safe_config = bigquery.QueryJobConfig(maximum_bytes_billed=10**10)\n",
    "speeds_query_job = client.query(speeds_query, job_config=safe_config) # Your code goes here\n",
    "\n",
    "# API request - run the query, and return a pandas DataFrame\n",
    "speeds_result = speeds_query_job.to_dataframe() # Your code here\n",
    "\n",
    "# View results\n",
    "print(speeds_result)\n",
    "\n",
    "# Check your answer\n",
    "q_5.check()"
   ]
  },
  {
   "cell_type": "markdown",
   "id": "39a08c6c",
   "metadata": {
    "papermill": {
     "duration": 0.009316,
     "end_time": "2023-02-16T19:20:45.596737",
     "exception": false,
     "start_time": "2023-02-16T19:20:45.587421",
     "status": "completed"
    },
    "tags": []
   },
   "source": [
    "For the solution, uncomment the appropriate line below."
   ]
  },
  {
   "cell_type": "code",
   "execution_count": 13,
   "id": "521d6116",
   "metadata": {
    "execution": {
     "iopub.execute_input": "2023-02-16T19:20:45.616372Z",
     "iopub.status.busy": "2023-02-16T19:20:45.615930Z",
     "iopub.status.idle": "2023-02-16T19:20:45.620826Z",
     "shell.execute_reply": "2023-02-16T19:20:45.619569Z"
    },
    "papermill": {
     "duration": 0.017329,
     "end_time": "2023-02-16T19:20:45.623113",
     "exception": false,
     "start_time": "2023-02-16T19:20:45.605784",
     "status": "completed"
    },
    "tags": []
   },
   "outputs": [],
   "source": [
    "#q_5.solution()"
   ]
  },
  {
   "cell_type": "markdown",
   "id": "01f5e80d",
   "metadata": {
    "papermill": {
     "duration": 0.008761,
     "end_time": "2023-02-16T19:20:45.640875",
     "exception": false,
     "start_time": "2023-02-16T19:20:45.632114",
     "status": "completed"
    },
    "tags": []
   },
   "source": [
    "That's a hard query. If you made good progress towards the solution, congratulations!"
   ]
  },
  {
   "cell_type": "markdown",
   "id": "df73e4dd",
   "metadata": {
    "papermill": {
     "duration": 0.008561,
     "end_time": "2023-02-16T19:20:45.658870",
     "exception": false,
     "start_time": "2023-02-16T19:20:45.650309",
     "status": "completed"
    },
    "tags": []
   },
   "source": [
    "# Keep going\n",
    "\n",
    "You can write very complex queries now with a single data source. But nothing expands the horizons of SQL as much as the ability to combine or **JOIN** tables.\n",
    "\n",
    "**[Click here](https://www.kaggle.com/dansbecker/joining-data)** to start the last lesson in the Intro to SQL course."
   ]
  },
  {
   "cell_type": "markdown",
   "id": "f06c5580",
   "metadata": {
    "papermill": {
     "duration": 0.009247,
     "end_time": "2023-02-16T19:20:45.677339",
     "exception": false,
     "start_time": "2023-02-16T19:20:45.668092",
     "status": "completed"
    },
    "tags": []
   },
   "source": [
    "---\n",
    "\n",
    "\n",
    "\n",
    "\n",
    "*Have questions or comments? Visit the [course discussion forum](https://www.kaggle.com/learn/intro-to-sql/discussion) to chat with other learners.*"
   ]
  }
 ],
 "metadata": {
  "kernelspec": {
   "display_name": "Python 3",
   "language": "python",
   "name": "python3"
  },
  "language_info": {
   "codemirror_mode": {
    "name": "ipython",
    "version": 3
   },
   "file_extension": ".py",
   "mimetype": "text/x-python",
   "name": "python",
   "nbconvert_exporter": "python",
   "pygments_lexer": "ipython3",
   "version": "3.7.12"
  },
  "papermill": {
   "default_parameters": {},
   "duration": 67.009835,
   "end_time": "2023-02-16T19:20:46.409429",
   "environment_variables": {},
   "exception": null,
   "input_path": "__notebook__.ipynb",
   "output_path": "__notebook__.ipynb",
   "parameters": {},
   "start_time": "2023-02-16T19:19:39.399594",
   "version": "2.3.4"
  }
 },
 "nbformat": 4,
 "nbformat_minor": 5
}
