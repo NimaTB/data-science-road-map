{
 "cells": [
  {
   "cell_type": "markdown",
   "id": "5f85e0e5",
   "metadata": {
    "papermill": {
     "duration": 0.010575,
     "end_time": "2023-02-16T04:12:10.386316",
     "exception": false,
     "start_time": "2023-02-16T04:12:10.375741",
     "status": "completed"
    },
    "tags": []
   },
   "source": [
    "**This notebook is an exercise in the [SQL](https://www.kaggle.com/learn/intro-to-sql) course.  You can reference the tutorial at [this link](https://www.kaggle.com/dansbecker/getting-started-with-sql-and-bigquery).**\n",
    "\n",
    "---\n"
   ]
  },
  {
   "cell_type": "markdown",
   "id": "dec9c66e",
   "metadata": {
    "papermill": {
     "duration": 0.005435,
     "end_time": "2023-02-16T04:12:10.397889",
     "exception": false,
     "start_time": "2023-02-16T04:12:10.392454",
     "status": "completed"
    },
    "tags": []
   },
   "source": [
    "# Introduction\n",
    "\n",
    "The first test of your new data exploration skills uses data describing crime in the city of Chicago.\n",
    "\n",
    "Before you get started, run the following cell. It sets up the automated feedback system to review your answers."
   ]
  },
  {
   "cell_type": "code",
   "execution_count": 1,
   "id": "0ee054d7",
   "metadata": {
    "execution": {
     "iopub.execute_input": "2023-02-16T04:12:10.411118Z",
     "iopub.status.busy": "2023-02-16T04:12:10.410526Z",
     "iopub.status.idle": "2023-02-16T04:12:11.340824Z",
     "shell.execute_reply": "2023-02-16T04:12:11.339182Z"
    },
    "papermill": {
     "duration": 0.940934,
     "end_time": "2023-02-16T04:12:11.344263",
     "exception": false,
     "start_time": "2023-02-16T04:12:10.403329",
     "status": "completed"
    },
    "tags": []
   },
   "outputs": [
    {
     "name": "stdout",
     "output_type": "stream",
     "text": [
      "Using Kaggle's public dataset BigQuery integration.\n",
      "Setup Complete\n"
     ]
    }
   ],
   "source": [
    "# Set up feedack system\n",
    "from learntools.core import binder\n",
    "binder.bind(globals())\n",
    "from learntools.sql.ex1 import *\n",
    "print(\"Setup Complete\")"
   ]
  },
  {
   "cell_type": "markdown",
   "id": "ffb8301e",
   "metadata": {
    "papermill": {
     "duration": 0.005379,
     "end_time": "2023-02-16T04:12:11.356279",
     "exception": false,
     "start_time": "2023-02-16T04:12:11.350900",
     "status": "completed"
    },
    "tags": []
   },
   "source": [
    "Use the next code cell to fetch the dataset."
   ]
  },
  {
   "cell_type": "code",
   "execution_count": 2,
   "id": "86431520",
   "metadata": {
    "execution": {
     "iopub.execute_input": "2023-02-16T04:12:11.369419Z",
     "iopub.status.busy": "2023-02-16T04:12:11.368977Z",
     "iopub.status.idle": "2023-02-16T04:12:11.770481Z",
     "shell.execute_reply": "2023-02-16T04:12:11.769108Z"
    },
    "papermill": {
     "duration": 0.411583,
     "end_time": "2023-02-16T04:12:11.773443",
     "exception": false,
     "start_time": "2023-02-16T04:12:11.361860",
     "status": "completed"
    },
    "tags": []
   },
   "outputs": [
    {
     "name": "stdout",
     "output_type": "stream",
     "text": [
      "Using Kaggle's public dataset BigQuery integration.\n"
     ]
    }
   ],
   "source": [
    "from google.cloud import bigquery\n",
    "\n",
    "# Create a \"Client\" object\n",
    "client = bigquery.Client()\n",
    "\n",
    "# Construct a reference to the \"chicago_crime\" dataset\n",
    "dataset_ref = client.dataset(\"chicago_crime\", project=\"bigquery-public-data\")\n",
    "\n",
    "# API request - fetch the dataset\n",
    "dataset = client.get_dataset(dataset_ref)"
   ]
  },
  {
   "cell_type": "markdown",
   "id": "e424cee4",
   "metadata": {
    "papermill": {
     "duration": 0.005229,
     "end_time": "2023-02-16T04:12:11.784477",
     "exception": false,
     "start_time": "2023-02-16T04:12:11.779248",
     "status": "completed"
    },
    "tags": []
   },
   "source": [
    "# Exercises\n",
    "\n",
    "### 1) Count tables in the dataset\n",
    "\n",
    "How many tables are in the Chicago Crime dataset?"
   ]
  },
  {
   "cell_type": "code",
   "execution_count": 3,
   "id": "218431a9",
   "metadata": {
    "execution": {
     "iopub.execute_input": "2023-02-16T04:12:11.797520Z",
     "iopub.status.busy": "2023-02-16T04:12:11.797035Z",
     "iopub.status.idle": "2023-02-16T04:12:12.033000Z",
     "shell.execute_reply": "2023-02-16T04:12:12.031633Z"
    },
    "papermill": {
     "duration": 0.246914,
     "end_time": "2023-02-16T04:12:12.036867",
     "exception": false,
     "start_time": "2023-02-16T04:12:11.789953",
     "status": "completed"
    },
    "tags": []
   },
   "outputs": [
    {
     "name": "stdout",
     "output_type": "stream",
     "text": [
      "crime\n"
     ]
    }
   ],
   "source": [
    "# Write the code you need here to figure out the answer\n",
    "tables = list(client.list_tables(dataset))\n",
    "for table in tables:  \n",
    "    print(table.table_id)\n",
    "num_tables = len(tables)"
   ]
  },
  {
   "cell_type": "code",
   "execution_count": 4,
   "id": "5e603a5e",
   "metadata": {
    "execution": {
     "iopub.execute_input": "2023-02-16T04:12:12.055858Z",
     "iopub.status.busy": "2023-02-16T04:12:12.054933Z",
     "iopub.status.idle": "2023-02-16T04:12:12.074262Z",
     "shell.execute_reply": "2023-02-16T04:12:12.072614Z"
    },
    "papermill": {
     "duration": 0.031519,
     "end_time": "2023-02-16T04:12:12.077493",
     "exception": false,
     "start_time": "2023-02-16T04:12:12.045974",
     "status": "completed"
    },
    "tags": []
   },
   "outputs": [
    {
     "data": {
      "application/javascript": [
       "parent.postMessage({\"jupyterEvent\": \"custom.exercise_interaction\", \"data\": {\"outcomeType\": 1, \"valueTowardsCompletion\": 0.3333333333333333, \"interactionType\": 1, \"questionType\": 1, \"questionId\": \"1_CountTables\", \"learnToolsVersion\": \"0.3.4\", \"failureMessage\": \"\", \"exceptionClass\": \"\", \"trace\": \"\"}}, \"*\")"
      ],
      "text/plain": [
       "<IPython.core.display.Javascript object>"
      ]
     },
     "metadata": {},
     "output_type": "display_data"
    },
    {
     "data": {
      "text/markdown": [
       "<span style=\"color:#33cc33\">Correct</span>"
      ],
      "text/plain": [
       "Correct"
      ]
     },
     "metadata": {},
     "output_type": "display_data"
    }
   ],
   "source": [
    "num_tables = len(tables)  # Store the answer as num_tables and then run this cell\n",
    "\n",
    "# Check your answer\n",
    "q_1.check()"
   ]
  },
  {
   "cell_type": "markdown",
   "id": "d732074a",
   "metadata": {
    "papermill": {
     "duration": 0.006113,
     "end_time": "2023-02-16T04:12:12.090213",
     "exception": false,
     "start_time": "2023-02-16T04:12:12.084100",
     "status": "completed"
    },
    "tags": []
   },
   "source": [
    "For a hint or the solution, uncomment the appropriate line below."
   ]
  },
  {
   "cell_type": "code",
   "execution_count": 5,
   "id": "fb44b998",
   "metadata": {
    "execution": {
     "iopub.execute_input": "2023-02-16T04:12:12.109929Z",
     "iopub.status.busy": "2023-02-16T04:12:12.109282Z",
     "iopub.status.idle": "2023-02-16T04:12:12.116087Z",
     "shell.execute_reply": "2023-02-16T04:12:12.114798Z"
    },
    "papermill": {
     "duration": 0.019846,
     "end_time": "2023-02-16T04:12:12.118460",
     "exception": false,
     "start_time": "2023-02-16T04:12:12.098614",
     "status": "completed"
    },
    "tags": []
   },
   "outputs": [],
   "source": [
    "#q_1.hint()\n",
    "#q_1.solution()"
   ]
  },
  {
   "cell_type": "markdown",
   "id": "8a2c24cd",
   "metadata": {
    "papermill": {
     "duration": 0.005773,
     "end_time": "2023-02-16T04:12:12.130922",
     "exception": false,
     "start_time": "2023-02-16T04:12:12.125149",
     "status": "completed"
    },
    "tags": []
   },
   "source": [
    "### 2) Explore the table schema\n",
    "\n",
    "How many columns in the `crime` table have `TIMESTAMP` data?"
   ]
  },
  {
   "cell_type": "code",
   "execution_count": 6,
   "id": "4b3a37a3",
   "metadata": {
    "execution": {
     "iopub.execute_input": "2023-02-16T04:12:12.145613Z",
     "iopub.status.busy": "2023-02-16T04:12:12.144607Z",
     "iopub.status.idle": "2023-02-16T04:12:12.398307Z",
     "shell.execute_reply": "2023-02-16T04:12:12.397096Z"
    },
    "papermill": {
     "duration": 0.263774,
     "end_time": "2023-02-16T04:12:12.400843",
     "exception": false,
     "start_time": "2023-02-16T04:12:12.137069",
     "status": "completed"
    },
    "tags": []
   },
   "outputs": [
    {
     "data": {
      "text/plain": [
       "[SchemaField('unique_key', 'INTEGER', 'REQUIRED', None, (), None),\n",
       " SchemaField('case_number', 'STRING', 'NULLABLE', None, (), None),\n",
       " SchemaField('date', 'TIMESTAMP', 'NULLABLE', None, (), None),\n",
       " SchemaField('block', 'STRING', 'NULLABLE', None, (), None),\n",
       " SchemaField('iucr', 'STRING', 'NULLABLE', None, (), None),\n",
       " SchemaField('primary_type', 'STRING', 'NULLABLE', None, (), None),\n",
       " SchemaField('description', 'STRING', 'NULLABLE', None, (), None),\n",
       " SchemaField('location_description', 'STRING', 'NULLABLE', None, (), None),\n",
       " SchemaField('arrest', 'BOOLEAN', 'NULLABLE', None, (), None),\n",
       " SchemaField('domestic', 'BOOLEAN', 'NULLABLE', None, (), None),\n",
       " SchemaField('beat', 'INTEGER', 'NULLABLE', None, (), None),\n",
       " SchemaField('district', 'INTEGER', 'NULLABLE', None, (), None),\n",
       " SchemaField('ward', 'INTEGER', 'NULLABLE', None, (), None),\n",
       " SchemaField('community_area', 'INTEGER', 'NULLABLE', None, (), None),\n",
       " SchemaField('fbi_code', 'STRING', 'NULLABLE', None, (), None),\n",
       " SchemaField('x_coordinate', 'FLOAT', 'NULLABLE', None, (), None),\n",
       " SchemaField('y_coordinate', 'FLOAT', 'NULLABLE', None, (), None),\n",
       " SchemaField('year', 'INTEGER', 'NULLABLE', None, (), None),\n",
       " SchemaField('updated_on', 'TIMESTAMP', 'NULLABLE', None, (), None),\n",
       " SchemaField('latitude', 'FLOAT', 'NULLABLE', None, (), None),\n",
       " SchemaField('longitude', 'FLOAT', 'NULLABLE', None, (), None),\n",
       " SchemaField('location', 'STRING', 'NULLABLE', None, (), None)]"
      ]
     },
     "execution_count": 6,
     "metadata": {},
     "output_type": "execute_result"
    }
   ],
   "source": [
    "# Write the code to figure out the answer\n",
    "# Construct a reference to the \"full\" table\n",
    "table_ref = dataset_ref.table(\"crime\")\n",
    "\n",
    "# API request - fetch the table\n",
    "table = client.get_table(table_ref)\n",
    "\n",
    "table.schema"
   ]
  },
  {
   "cell_type": "code",
   "execution_count": 7,
   "id": "20ab822f",
   "metadata": {
    "execution": {
     "iopub.execute_input": "2023-02-16T04:12:12.416441Z",
     "iopub.status.busy": "2023-02-16T04:12:12.414793Z",
     "iopub.status.idle": "2023-02-16T04:12:12.426259Z",
     "shell.execute_reply": "2023-02-16T04:12:12.424791Z"
    },
    "papermill": {
     "duration": 0.022214,
     "end_time": "2023-02-16T04:12:12.429264",
     "exception": false,
     "start_time": "2023-02-16T04:12:12.407050",
     "status": "completed"
    },
    "tags": []
   },
   "outputs": [
    {
     "data": {
      "application/javascript": [
       "parent.postMessage({\"jupyterEvent\": \"custom.exercise_interaction\", \"data\": {\"outcomeType\": 1, \"valueTowardsCompletion\": 0.3333333333333333, \"interactionType\": 1, \"questionType\": 1, \"questionId\": \"2_CountTimestampFields\", \"learnToolsVersion\": \"0.3.4\", \"failureMessage\": \"\", \"exceptionClass\": \"\", \"trace\": \"\"}}, \"*\")"
      ],
      "text/plain": [
       "<IPython.core.display.Javascript object>"
      ]
     },
     "metadata": {},
     "output_type": "display_data"
    },
    {
     "data": {
      "text/markdown": [
       "<span style=\"color:#33cc33\">Correct</span>"
      ],
      "text/plain": [
       "Correct"
      ]
     },
     "metadata": {},
     "output_type": "display_data"
    }
   ],
   "source": [
    "num_timestamp_fields = 2 # Put your answer here\n",
    "\n",
    "# Check your answer\n",
    "q_2.check()"
   ]
  },
  {
   "cell_type": "markdown",
   "id": "2a659588",
   "metadata": {
    "papermill": {
     "duration": 0.006299,
     "end_time": "2023-02-16T04:12:12.442274",
     "exception": false,
     "start_time": "2023-02-16T04:12:12.435975",
     "status": "completed"
    },
    "tags": []
   },
   "source": [
    "For a hint or the solution, uncomment the appropriate line below."
   ]
  },
  {
   "cell_type": "code",
   "execution_count": 8,
   "id": "e2dfaa06",
   "metadata": {
    "execution": {
     "iopub.execute_input": "2023-02-16T04:12:12.458318Z",
     "iopub.status.busy": "2023-02-16T04:12:12.457852Z",
     "iopub.status.idle": "2023-02-16T04:12:12.463022Z",
     "shell.execute_reply": "2023-02-16T04:12:12.461788Z"
    },
    "papermill": {
     "duration": 0.016002,
     "end_time": "2023-02-16T04:12:12.465337",
     "exception": false,
     "start_time": "2023-02-16T04:12:12.449335",
     "status": "completed"
    },
    "tags": []
   },
   "outputs": [],
   "source": [
    "#q_2.hint()\n",
    "#q_2.solution()"
   ]
  },
  {
   "cell_type": "markdown",
   "id": "9f3783b7",
   "metadata": {
    "papermill": {
     "duration": 0.006222,
     "end_time": "2023-02-16T04:12:12.478127",
     "exception": false,
     "start_time": "2023-02-16T04:12:12.471905",
     "status": "completed"
    },
    "tags": []
   },
   "source": [
    "### 3) Create a crime map\n",
    "\n",
    "If you wanted to create a map with a dot at the location of each crime, what are the names of the two fields you likely need to pull out of the `crime` table to plot the crimes on a map?"
   ]
  },
  {
   "cell_type": "code",
   "execution_count": 9,
   "id": "d035d160",
   "metadata": {
    "execution": {
     "iopub.execute_input": "2023-02-16T04:12:12.493289Z",
     "iopub.status.busy": "2023-02-16T04:12:12.492848Z",
     "iopub.status.idle": "2023-02-16T04:12:12.497832Z",
     "shell.execute_reply": "2023-02-16T04:12:12.496650Z"
    },
    "papermill": {
     "duration": 0.015499,
     "end_time": "2023-02-16T04:12:12.500260",
     "exception": false,
     "start_time": "2023-02-16T04:12:12.484761",
     "status": "completed"
    },
    "tags": []
   },
   "outputs": [],
   "source": [
    "# Write the code here to explore the data so you can find the answer"
   ]
  },
  {
   "cell_type": "code",
   "execution_count": 10,
   "id": "3e73473f",
   "metadata": {
    "execution": {
     "iopub.execute_input": "2023-02-16T04:12:12.515427Z",
     "iopub.status.busy": "2023-02-16T04:12:12.514956Z",
     "iopub.status.idle": "2023-02-16T04:12:12.526317Z",
     "shell.execute_reply": "2023-02-16T04:12:12.524764Z"
    },
    "papermill": {
     "duration": 0.022034,
     "end_time": "2023-02-16T04:12:12.528864",
     "exception": false,
     "start_time": "2023-02-16T04:12:12.506830",
     "status": "completed"
    },
    "tags": []
   },
   "outputs": [
    {
     "name": "stdout",
     "output_type": "stream",
     "text": [
      "`'latitude'` and `'longitude'` would be better and more standard than `'x_coordinate'` and `'y_coordinate'`, but this might work.\n"
     ]
    },
    {
     "data": {
      "application/javascript": [
       "parent.postMessage({\"jupyterEvent\": \"custom.exercise_interaction\", \"data\": {\"outcomeType\": 1, \"valueTowardsCompletion\": 0.3333333333333333, \"interactionType\": 1, \"questionType\": 2, \"questionId\": \"3_IdentifyFieldsForPlotting\", \"learnToolsVersion\": \"0.3.4\", \"failureMessage\": \"\", \"exceptionClass\": \"\", \"trace\": \"\"}}, \"*\")"
      ],
      "text/plain": [
       "<IPython.core.display.Javascript object>"
      ]
     },
     "metadata": {},
     "output_type": "display_data"
    },
    {
     "data": {
      "text/markdown": [
       "<span style=\"color:#33cc33\">Correct</span>"
      ],
      "text/plain": [
       "Correct"
      ]
     },
     "metadata": {},
     "output_type": "display_data"
    }
   ],
   "source": [
    "fields_for_plotting = ['x_coordinate', 'y_coordinate'] # Put your answers here\n",
    "\n",
    "# Check your answer\n",
    "q_3.check()"
   ]
  },
  {
   "cell_type": "markdown",
   "id": "79352553",
   "metadata": {
    "papermill": {
     "duration": 0.006506,
     "end_time": "2023-02-16T04:12:12.542469",
     "exception": false,
     "start_time": "2023-02-16T04:12:12.535963",
     "status": "completed"
    },
    "tags": []
   },
   "source": [
    "For a hint or the solution, uncomment the appropriate line below."
   ]
  },
  {
   "cell_type": "code",
   "execution_count": 11,
   "id": "dbf13b68",
   "metadata": {
    "execution": {
     "iopub.execute_input": "2023-02-16T04:12:12.558399Z",
     "iopub.status.busy": "2023-02-16T04:12:12.557661Z",
     "iopub.status.idle": "2023-02-16T04:12:12.562660Z",
     "shell.execute_reply": "2023-02-16T04:12:12.561162Z"
    },
    "papermill": {
     "duration": 0.015952,
     "end_time": "2023-02-16T04:12:12.565196",
     "exception": false,
     "start_time": "2023-02-16T04:12:12.549244",
     "status": "completed"
    },
    "tags": []
   },
   "outputs": [],
   "source": [
    "#q_3.hint()\n",
    "#q_3.solution()"
   ]
  },
  {
   "cell_type": "markdown",
   "id": "e677034a",
   "metadata": {
    "papermill": {
     "duration": 0.006824,
     "end_time": "2023-02-16T04:12:12.579021",
     "exception": false,
     "start_time": "2023-02-16T04:12:12.572197",
     "status": "completed"
    },
    "tags": []
   },
   "source": [
    "Thinking about the question above, there are a few columns that appear to have geographic data. Look at a few values (with the `list_rows()` command) to see if you can determine their relationship.  Two columns will still be hard to interpret. But it should be obvious how the `location` column relates to `latitude` and `longitude`."
   ]
  },
  {
   "cell_type": "code",
   "execution_count": 12,
   "id": "f8f17948",
   "metadata": {
    "execution": {
     "iopub.execute_input": "2023-02-16T04:12:12.594744Z",
     "iopub.status.busy": "2023-02-16T04:12:12.594250Z",
     "iopub.status.idle": "2023-02-16T04:12:13.703238Z",
     "shell.execute_reply": "2023-02-16T04:12:13.701777Z"
    },
    "papermill": {
     "duration": 1.120053,
     "end_time": "2023-02-16T04:12:13.705962",
     "exception": false,
     "start_time": "2023-02-16T04:12:12.585909",
     "status": "completed"
    },
    "tags": []
   },
   "outputs": [
    {
     "name": "stderr",
     "output_type": "stream",
     "text": [
      "/opt/conda/lib/python3.7/site-packages/ipykernel_launcher.py:2: UserWarning: Cannot use bqstorage_client if max_results is set, reverting to fetching data with the tabledata.list endpoint.\n",
      "  \n",
      "/opt/conda/lib/python3.7/site-packages/ipykernel_launcher.py:3: UserWarning: Cannot use bqstorage_client if max_results is set, reverting to fetching data with the tabledata.list endpoint.\n",
      "  This is separate from the ipykernel package so we can avoid doing imports until\n"
     ]
    },
    {
     "data": {
      "text/html": [
       "<div>\n",
       "<style scoped>\n",
       "    .dataframe tbody tr th:only-of-type {\n",
       "        vertical-align: middle;\n",
       "    }\n",
       "\n",
       "    .dataframe tbody tr th {\n",
       "        vertical-align: top;\n",
       "    }\n",
       "\n",
       "    .dataframe thead th {\n",
       "        text-align: right;\n",
       "    }\n",
       "</style>\n",
       "<table border=\"1\" class=\"dataframe\">\n",
       "  <thead>\n",
       "    <tr style=\"text-align: right;\">\n",
       "      <th></th>\n",
       "      <th>unique_key</th>\n",
       "      <th>case_number</th>\n",
       "      <th>date</th>\n",
       "      <th>block</th>\n",
       "      <th>iucr</th>\n",
       "      <th>primary_type</th>\n",
       "      <th>description</th>\n",
       "      <th>location_description</th>\n",
       "      <th>arrest</th>\n",
       "      <th>domestic</th>\n",
       "      <th>...</th>\n",
       "      <th>ward</th>\n",
       "      <th>community_area</th>\n",
       "      <th>fbi_code</th>\n",
       "      <th>x_coordinate</th>\n",
       "      <th>y_coordinate</th>\n",
       "      <th>year</th>\n",
       "      <th>updated_on</th>\n",
       "      <th>latitude</th>\n",
       "      <th>longitude</th>\n",
       "      <th>location</th>\n",
       "    </tr>\n",
       "  </thead>\n",
       "  <tbody>\n",
       "    <tr>\n",
       "      <th>0</th>\n",
       "      <td>20294</td>\n",
       "      <td>HV178038</td>\n",
       "      <td>2012-02-29 06:51:00+00:00</td>\n",
       "      <td>005XX E 104TH PL</td>\n",
       "      <td>0110</td>\n",
       "      <td>HOMICIDE</td>\n",
       "      <td>FIRST DEGREE MURDER</td>\n",
       "      <td>HOUSE</td>\n",
       "      <td>False</td>\n",
       "      <td>False</td>\n",
       "      <td>...</td>\n",
       "      <td>9</td>\n",
       "      <td>49</td>\n",
       "      <td>01A</td>\n",
       "      <td>1181956.0</td>\n",
       "      <td>1835794.0</td>\n",
       "      <td>2012</td>\n",
       "      <td>2022-08-31 04:51:30+00:00</td>\n",
       "      <td>41.704641</td>\n",
       "      <td>-87.609313</td>\n",
       "      <td>(41.704641317, -87.609312999)</td>\n",
       "    </tr>\n",
       "    <tr>\n",
       "      <th>1</th>\n",
       "      <td>1877</td>\n",
       "      <td>HH769051</td>\n",
       "      <td>2002-11-18 02:50:00+00:00</td>\n",
       "      <td>104XX S PRAIRIE AVE</td>\n",
       "      <td>0110</td>\n",
       "      <td>HOMICIDE</td>\n",
       "      <td>FIRST DEGREE MURDER</td>\n",
       "      <td>HOUSE</td>\n",
       "      <td>True</td>\n",
       "      <td>True</td>\n",
       "      <td>...</td>\n",
       "      <td>9</td>\n",
       "      <td>49</td>\n",
       "      <td>01A</td>\n",
       "      <td>1179761.0</td>\n",
       "      <td>1835736.0</td>\n",
       "      <td>2002</td>\n",
       "      <td>2022-09-18 04:45:51+00:00</td>\n",
       "      <td>41.704533</td>\n",
       "      <td>-87.617352</td>\n",
       "      <td>(41.704532517, -87.61735248)</td>\n",
       "    </tr>\n",
       "    <tr>\n",
       "      <th>2</th>\n",
       "      <td>20625</td>\n",
       "      <td>HV484609</td>\n",
       "      <td>2012-09-20 11:13:00+00:00</td>\n",
       "      <td>002XX W 106TH ST</td>\n",
       "      <td>0110</td>\n",
       "      <td>HOMICIDE</td>\n",
       "      <td>FIRST DEGREE MURDER</td>\n",
       "      <td>STREET</td>\n",
       "      <td>False</td>\n",
       "      <td>False</td>\n",
       "      <td>...</td>\n",
       "      <td>34</td>\n",
       "      <td>49</td>\n",
       "      <td>01A</td>\n",
       "      <td>1176557.0</td>\n",
       "      <td>1834650.0</td>\n",
       "      <td>2012</td>\n",
       "      <td>2022-09-18 04:45:51+00:00</td>\n",
       "      <td>41.701625</td>\n",
       "      <td>-87.629118</td>\n",
       "      <td>(41.701624878, -87.629117507)</td>\n",
       "    </tr>\n",
       "    <tr>\n",
       "      <th>3</th>\n",
       "      <td>20216</td>\n",
       "      <td>HT651443</td>\n",
       "      <td>2011-12-29 11:20:00+00:00</td>\n",
       "      <td>007XX E 105TH ST</td>\n",
       "      <td>0110</td>\n",
       "      <td>HOMICIDE</td>\n",
       "      <td>FIRST DEGREE MURDER</td>\n",
       "      <td>APARTMENT</td>\n",
       "      <td>False</td>\n",
       "      <td>False</td>\n",
       "      <td>...</td>\n",
       "      <td>9</td>\n",
       "      <td>50</td>\n",
       "      <td>01A</td>\n",
       "      <td>1183056.0</td>\n",
       "      <td>1835492.0</td>\n",
       "      <td>2011</td>\n",
       "      <td>2022-09-18 04:45:51+00:00</td>\n",
       "      <td>41.703787</td>\n",
       "      <td>-87.605294</td>\n",
       "      <td>(41.703787141, -87.605294344)</td>\n",
       "    </tr>\n",
       "    <tr>\n",
       "      <th>4</th>\n",
       "      <td>23026</td>\n",
       "      <td>HZ554936</td>\n",
       "      <td>2016-12-17 12:40:00+00:00</td>\n",
       "      <td>001XX W 105TH ST</td>\n",
       "      <td>0110</td>\n",
       "      <td>HOMICIDE</td>\n",
       "      <td>FIRST DEGREE MURDER</td>\n",
       "      <td>HOUSE</td>\n",
       "      <td>True</td>\n",
       "      <td>False</td>\n",
       "      <td>...</td>\n",
       "      <td>34</td>\n",
       "      <td>49</td>\n",
       "      <td>01A</td>\n",
       "      <td>1177249.0</td>\n",
       "      <td>1835331.0</td>\n",
       "      <td>2016</td>\n",
       "      <td>2022-09-18 04:45:51+00:00</td>\n",
       "      <td>41.703478</td>\n",
       "      <td>-87.626563</td>\n",
       "      <td>(41.703478083, -87.626563168)</td>\n",
       "    </tr>\n",
       "  </tbody>\n",
       "</table>\n",
       "<p>5 rows × 22 columns</p>\n",
       "</div>"
      ],
      "text/plain": [
       "   unique_key case_number                      date                block  \\\n",
       "0       20294    HV178038 2012-02-29 06:51:00+00:00     005XX E 104TH PL   \n",
       "1        1877    HH769051 2002-11-18 02:50:00+00:00  104XX S PRAIRIE AVE   \n",
       "2       20625    HV484609 2012-09-20 11:13:00+00:00     002XX W 106TH ST   \n",
       "3       20216    HT651443 2011-12-29 11:20:00+00:00     007XX E 105TH ST   \n",
       "4       23026    HZ554936 2016-12-17 12:40:00+00:00     001XX W 105TH ST   \n",
       "\n",
       "   iucr primary_type          description location_description  arrest  \\\n",
       "0  0110     HOMICIDE  FIRST DEGREE MURDER                HOUSE   False   \n",
       "1  0110     HOMICIDE  FIRST DEGREE MURDER                HOUSE    True   \n",
       "2  0110     HOMICIDE  FIRST DEGREE MURDER               STREET   False   \n",
       "3  0110     HOMICIDE  FIRST DEGREE MURDER            APARTMENT   False   \n",
       "4  0110     HOMICIDE  FIRST DEGREE MURDER                HOUSE    True   \n",
       "\n",
       "   domestic  ...  ward  community_area  fbi_code  x_coordinate y_coordinate  \\\n",
       "0     False  ...     9              49       01A     1181956.0    1835794.0   \n",
       "1      True  ...     9              49       01A     1179761.0    1835736.0   \n",
       "2     False  ...    34              49       01A     1176557.0    1834650.0   \n",
       "3     False  ...     9              50       01A     1183056.0    1835492.0   \n",
       "4     False  ...    34              49       01A     1177249.0    1835331.0   \n",
       "\n",
       "   year                updated_on   latitude  longitude  \\\n",
       "0  2012 2022-08-31 04:51:30+00:00  41.704641 -87.609313   \n",
       "1  2002 2022-09-18 04:45:51+00:00  41.704533 -87.617352   \n",
       "2  2012 2022-09-18 04:45:51+00:00  41.701625 -87.629118   \n",
       "3  2011 2022-09-18 04:45:51+00:00  41.703787 -87.605294   \n",
       "4  2016 2022-09-18 04:45:51+00:00  41.703478 -87.626563   \n",
       "\n",
       "                        location  \n",
       "0  (41.704641317, -87.609312999)  \n",
       "1   (41.704532517, -87.61735248)  \n",
       "2  (41.701624878, -87.629117507)  \n",
       "3  (41.703787141, -87.605294344)  \n",
       "4  (41.703478083, -87.626563168)  \n",
       "\n",
       "[5 rows x 22 columns]"
      ]
     },
     "execution_count": 12,
     "metadata": {},
     "output_type": "execute_result"
    }
   ],
   "source": [
    "# Scratch space for your code\n",
    "client.list_rows(table, max_results=5).to_dataframe()\n",
    "table_new = client.list_rows(table, selected_fields=table.schema[:22], max_results=5).to_dataframe()\n",
    "table_new\n"
   ]
  },
  {
   "cell_type": "markdown",
   "id": "fdacebd9",
   "metadata": {
    "papermill": {
     "duration": 0.007357,
     "end_time": "2023-02-16T04:12:13.720853",
     "exception": false,
     "start_time": "2023-02-16T04:12:13.713496",
     "status": "completed"
    },
    "tags": []
   },
   "source": [
    "# Keep going\n",
    "\n",
    "You've looked at the schema, but you haven't yet done anything exciting with the data itself. Things get more interesting when you get to the data, so keep going to **[write your first SQL query](https://www.kaggle.com/dansbecker/select-from-where).**"
   ]
  },
  {
   "cell_type": "markdown",
   "id": "f88fad4e",
   "metadata": {
    "papermill": {
     "duration": 0.00705,
     "end_time": "2023-02-16T04:12:13.735327",
     "exception": false,
     "start_time": "2023-02-16T04:12:13.728277",
     "status": "completed"
    },
    "tags": []
   },
   "source": [
    "---\n",
    "\n",
    "\n",
    "\n",
    "\n",
    "*Have questions or comments? Visit the [course discussion forum](https://www.kaggle.com/learn/intro-to-sql/discussion) to chat with other learners.*"
   ]
  }
 ],
 "metadata": {
  "kernelspec": {
   "display_name": "Python 3",
   "language": "python",
   "name": "python3"
  },
  "language_info": {
   "codemirror_mode": {
    "name": "ipython",
    "version": 3
   },
   "file_extension": ".py",
   "mimetype": "text/x-python",
   "name": "python",
   "nbconvert_exporter": "python",
   "pygments_lexer": "ipython3",
   "version": "3.7.12"
  },
  "papermill": {
   "default_parameters": {},
   "duration": 13.545644,
   "end_time": "2023-02-16T04:12:14.667283",
   "environment_variables": {},
   "exception": null,
   "input_path": "__notebook__.ipynb",
   "output_path": "__notebook__.ipynb",
   "parameters": {},
   "start_time": "2023-02-16T04:12:01.121639",
   "version": "2.3.4"
  }
 },
 "nbformat": 4,
 "nbformat_minor": 5
}
